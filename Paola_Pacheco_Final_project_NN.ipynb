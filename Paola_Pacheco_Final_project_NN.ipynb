{
  "nbformat": 4,
  "nbformat_minor": 0,
  "metadata": {
    "colab": {
      "provenance": [],
      "toc_visible": true,
      "authorship_tag": "ABX9TyPoqDMTYjQ77lEELZOuqjMD",
      "include_colab_link": true
    },
    "kernelspec": {
      "name": "python3",
      "display_name": "Python 3"
    },
    "language_info": {
      "name": "python"
    }
  },
  "cells": [
    {
      "cell_type": "markdown",
      "metadata": {
        "id": "view-in-github",
        "colab_type": "text"
      },
      "source": [
        "<a href=\"https://colab.research.google.com/github/PKpacheco/final_project_neural_networks/blob/main/Paola_Pacheco_Final_project_NN.ipynb\" target=\"_parent\"><img src=\"https://colab.research.google.com/assets/colab-badge.svg\" alt=\"Open In Colab\"/></a>"
      ]
    },
    {
      "cell_type": "markdown",
      "source": [
        "# Neural Networks and Deep Learning:\n",
        "#### Paola Katherine Pacheco\n",
        "#### Elections"
      ],
      "metadata": {
        "id": "PKWIpukBkGiE"
      }
    },
    {
      "cell_type": "markdown",
      "source": [
        "# Executive Summary\n",
        "\n",
        "This project has as input data set with Twitter texts related to the candidates of the last election in the United States, Donald Trump and Joe Biden.\n",
        "The main objective is to understand when posts have a positive or negative feeling towards the candidates and how we could understand this as something that would affect the outcome of the elections\n",
        "\n",
        "For the stages we will use the content of what was published about the candidates, using a previously created dataset available on kaggle.\n",
        "* [kaggle link](https://statics.teams.cdn.office.net/evergreen-assets/safelinks/1/atp-safelinks.html)\n",
        "\n",
        "\n",
        "We will pre-process the data so that it undergoes cleaning, removing special characters, links and after that we must tokenize it, to obtain the sentiment, whether positive, negative or neutral.\n",
        "\n",
        "\n",
        "Furthermore, we will try to explore some of the advanced methods such as stacking long-term memory networks (LSTMs), closed recurrent units (GRUs) and bidirectional recurrent neural networks (RNNs), seeking to improve the accuracy of results.\n",
        "\n",
        "\n",
        "This analysis seeks to provide metrics to understand the relationship between social networks and the real election results"
      ],
      "metadata": {
        "id": "CNupxW2kkUDj"
      }
    },
    {
      "cell_type": "code",
      "source": [
        "!pip install autocorrect\n",
        "!pip install emoji"
      ],
      "metadata": {
        "colab": {
          "base_uri": "https://localhost:8080/"
        },
        "id": "uCVh1Slcyngj",
        "outputId": "1ededc05-1fb7-417b-ba55-08eea3841e8b"
      },
      "execution_count": 5,
      "outputs": [
        {
          "output_type": "stream",
          "name": "stdout",
          "text": [
            "Collecting autocorrect\n",
            "  Downloading autocorrect-2.6.1.tar.gz (622 kB)\n",
            "\u001b[?25l     \u001b[90m━━━━━━━━━━━━━━━━━━━━━━━━━━━━━━━━━━━━━━━━\u001b[0m \u001b[32m0.0/622.8 kB\u001b[0m \u001b[31m?\u001b[0m eta \u001b[36m-:--:--\u001b[0m\r\u001b[2K     \u001b[91m━━━━━━━━━\u001b[0m\u001b[91m╸\u001b[0m\u001b[90m━━━━━━━━━━━━━━━━━━━━━━━━━━━━━━\u001b[0m \u001b[32m153.6/622.8 kB\u001b[0m \u001b[31m4.3 MB/s\u001b[0m eta \u001b[36m0:00:01\u001b[0m\r\u001b[2K     \u001b[90m━━━━━━━━━━━━━━━━━━━━━━━━━━━━━━━━━━━━━━━━\u001b[0m \u001b[32m622.8/622.8 kB\u001b[0m \u001b[31m9.8 MB/s\u001b[0m eta \u001b[36m0:00:00\u001b[0m\n",
            "\u001b[?25h  Preparing metadata (setup.py) ... \u001b[?25l\u001b[?25hdone\n",
            "Building wheels for collected packages: autocorrect\n",
            "  Building wheel for autocorrect (setup.py) ... \u001b[?25l\u001b[?25hdone\n",
            "  Created wheel for autocorrect: filename=autocorrect-2.6.1-py3-none-any.whl size=622364 sha256=3070e001decc9e6c7495e23d61417293b77e116c20da36f4c138c3a56d6dda8c\n",
            "  Stored in directory: /root/.cache/pip/wheels/b5/7b/6d/b76b29ce11ff8e2521c8c7dd0e5bfee4fb1789d76193124343\n",
            "Successfully built autocorrect\n",
            "Installing collected packages: autocorrect\n",
            "Successfully installed autocorrect-2.6.1\n",
            "Collecting emoji\n",
            "  Downloading emoji-2.8.0-py2.py3-none-any.whl (358 kB)\n",
            "\u001b[2K     \u001b[90m━━━━━━━━━━━━━━━━━━━━━━━━━━━━━━━━━━━━━━━━\u001b[0m \u001b[32m358.9/358.9 kB\u001b[0m \u001b[31m6.1 MB/s\u001b[0m eta \u001b[36m0:00:00\u001b[0m\n",
            "\u001b[?25hInstalling collected packages: emoji\n",
            "Successfully installed emoji-2.8.0\n"
          ]
        }
      ]
    },
    {
      "cell_type": "code",
      "source": [
        "import emoji\n",
        "import matplotlib.pyplot as plt\n",
        "import numpy as np\n",
        "import pandas as pd\n",
        "import re\n",
        "import seaborn as sns\n",
        "import string\n",
        "\n",
        "\n",
        "import nltk\n",
        "nltk.download('punkt')\n",
        "nltk.download('stopwords')\n",
        "nltk.download('wordnet')\n",
        "\n",
        "from autocorrect import Speller\n",
        "\n",
        "from nltk.tokenize import word_tokenize\n",
        "from nltk.corpus import stopwords\n",
        "from nltk.stem import WordNetLemmatizer\n",
        "from nltk.tokenize import word_tokenize\n",
        "\n",
        "from sklearn.metrics import confusion_matrix\n",
        "from sklearn.metrics import classification_report\n",
        "from sklearn.model_selection import train_test_split\n",
        "from sklearn.preprocessing import LabelEncoder\n",
        "from textblob import TextBlob\n",
        "\n",
        "from wordcloud import WordCloud\n",
        "\n",
        "from gensim.models import Word2Vec\n",
        "import ast\n",
        "\n",
        "\n",
        "from tensorflow.keras.models import Sequential\n",
        "from tensorflow.keras.preprocessing.sequence import pad_sequences\n",
        "from tensorflow.keras.preprocessing.text import Tokenizer\n",
        "from tensorflow.keras.utils import to_categorical\n",
        "from tensorflow.keras.layers import (\n",
        "    Embedding,\n",
        "    SpatialDropout1D,\n",
        "    SimpleRNN,\n",
        "    LSTM,\n",
        "    GRU,\n",
        "    Dropout,\n",
        "    Dense,\n",
        "    Bidirectional\n",
        "    )"
      ],
      "metadata": {
        "colab": {
          "base_uri": "https://localhost:8080/"
        },
        "id": "wdRSvnH8uojK",
        "outputId": "8140c902-2447-486b-d465-b5f43df63369"
      },
      "execution_count": 308,
      "outputs": [
        {
          "output_type": "stream",
          "name": "stderr",
          "text": [
            "[nltk_data] Downloading package punkt to /root/nltk_data...\n",
            "[nltk_data]   Package punkt is already up-to-date!\n",
            "[nltk_data] Downloading package stopwords to /root/nltk_data...\n",
            "[nltk_data]   Package stopwords is already up-to-date!\n",
            "[nltk_data] Downloading package wordnet to /root/nltk_data...\n",
            "[nltk_data]   Package wordnet is already up-to-date!\n"
          ]
        }
      ]
    },
    {
      "cell_type": "code",
      "source": [
        "# import files\n",
        "biden_url = 'https://raw.githubusercontent.com/PKpacheco/final_project_neural_networks/main/Bidenall2.csv'\n",
        "trump_url = 'https://raw.githubusercontent.com/PKpacheco/final_project_neural_networks/main/Trumpall2.csv'"
      ],
      "metadata": {
        "id": "A1CQb5RjuiJO"
      },
      "execution_count": 3,
      "outputs": []
    },
    {
      "cell_type": "markdown",
      "source": [
        "# Cleaning section"
      ],
      "metadata": {
        "id": "EtcTHmeTq5Vf"
      }
    },
    {
      "cell_type": "code",
      "source": [
        "# read files\n",
        "df_biden = pd.read_csv(biden_url)\n",
        "df_trump = pd.read_csv(trump_url)"
      ],
      "metadata": {
        "id": "2_swmxUPu1oj"
      },
      "execution_count": 4,
      "outputs": []
    },
    {
      "cell_type": "code",
      "source": [
        "df_biden.head()"
      ],
      "metadata": {
        "colab": {
          "base_uri": "https://localhost:8080/",
          "height": 206
        },
        "id": "TyZVjuQvvCcU",
        "outputId": "a260784c-3bab-44c8-8b9f-dae327c6629d"
      },
      "execution_count": 5,
      "outputs": [
        {
          "output_type": "execute_result",
          "data": {
            "text/plain": [
              "           user                                               text\n",
              "0   MarkHodder3    @JoeBiden And we’ll find out who won in 2026...\n",
              "1    K87327961G  @JoeBiden Your Democratic Nazi Party cannot be...\n",
              "2      OldlaceA                        @JoeBiden So did Lying Barr\n",
              "3    penblogger  @JoeBiden It's clear you didnt compose this tw...\n",
              "4  Aquarian0264         @JoeBiden I will vote in person thank you."
            ],
            "text/html": [
              "\n",
              "  <div id=\"df-792df3c9-4946-4a71-b1d3-147e87aa012d\" class=\"colab-df-container\">\n",
              "    <div>\n",
              "<style scoped>\n",
              "    .dataframe tbody tr th:only-of-type {\n",
              "        vertical-align: middle;\n",
              "    }\n",
              "\n",
              "    .dataframe tbody tr th {\n",
              "        vertical-align: top;\n",
              "    }\n",
              "\n",
              "    .dataframe thead th {\n",
              "        text-align: right;\n",
              "    }\n",
              "</style>\n",
              "<table border=\"1\" class=\"dataframe\">\n",
              "  <thead>\n",
              "    <tr style=\"text-align: right;\">\n",
              "      <th></th>\n",
              "      <th>user</th>\n",
              "      <th>text</th>\n",
              "    </tr>\n",
              "  </thead>\n",
              "  <tbody>\n",
              "    <tr>\n",
              "      <th>0</th>\n",
              "      <td>MarkHodder3</td>\n",
              "      <td>@JoeBiden And we’ll find out who won in 2026...</td>\n",
              "    </tr>\n",
              "    <tr>\n",
              "      <th>1</th>\n",
              "      <td>K87327961G</td>\n",
              "      <td>@JoeBiden Your Democratic Nazi Party cannot be...</td>\n",
              "    </tr>\n",
              "    <tr>\n",
              "      <th>2</th>\n",
              "      <td>OldlaceA</td>\n",
              "      <td>@JoeBiden So did Lying Barr</td>\n",
              "    </tr>\n",
              "    <tr>\n",
              "      <th>3</th>\n",
              "      <td>penblogger</td>\n",
              "      <td>@JoeBiden It's clear you didnt compose this tw...</td>\n",
              "    </tr>\n",
              "    <tr>\n",
              "      <th>4</th>\n",
              "      <td>Aquarian0264</td>\n",
              "      <td>@JoeBiden I will vote in person thank you.</td>\n",
              "    </tr>\n",
              "  </tbody>\n",
              "</table>\n",
              "</div>\n",
              "    <div class=\"colab-df-buttons\">\n",
              "\n",
              "  <div class=\"colab-df-container\">\n",
              "    <button class=\"colab-df-convert\" onclick=\"convertToInteractive('df-792df3c9-4946-4a71-b1d3-147e87aa012d')\"\n",
              "            title=\"Convert this dataframe to an interactive table.\"\n",
              "            style=\"display:none;\">\n",
              "\n",
              "  <svg xmlns=\"http://www.w3.org/2000/svg\" height=\"24px\" viewBox=\"0 -960 960 960\">\n",
              "    <path d=\"M120-120v-720h720v720H120Zm60-500h600v-160H180v160Zm220 220h160v-160H400v160Zm0 220h160v-160H400v160ZM180-400h160v-160H180v160Zm440 0h160v-160H620v160ZM180-180h160v-160H180v160Zm440 0h160v-160H620v160Z\"/>\n",
              "  </svg>\n",
              "    </button>\n",
              "\n",
              "  <style>\n",
              "    .colab-df-container {\n",
              "      display:flex;\n",
              "      gap: 12px;\n",
              "    }\n",
              "\n",
              "    .colab-df-convert {\n",
              "      background-color: #E8F0FE;\n",
              "      border: none;\n",
              "      border-radius: 50%;\n",
              "      cursor: pointer;\n",
              "      display: none;\n",
              "      fill: #1967D2;\n",
              "      height: 32px;\n",
              "      padding: 0 0 0 0;\n",
              "      width: 32px;\n",
              "    }\n",
              "\n",
              "    .colab-df-convert:hover {\n",
              "      background-color: #E2EBFA;\n",
              "      box-shadow: 0px 1px 2px rgba(60, 64, 67, 0.3), 0px 1px 3px 1px rgba(60, 64, 67, 0.15);\n",
              "      fill: #174EA6;\n",
              "    }\n",
              "\n",
              "    .colab-df-buttons div {\n",
              "      margin-bottom: 4px;\n",
              "    }\n",
              "\n",
              "    [theme=dark] .colab-df-convert {\n",
              "      background-color: #3B4455;\n",
              "      fill: #D2E3FC;\n",
              "    }\n",
              "\n",
              "    [theme=dark] .colab-df-convert:hover {\n",
              "      background-color: #434B5C;\n",
              "      box-shadow: 0px 1px 3px 1px rgba(0, 0, 0, 0.15);\n",
              "      filter: drop-shadow(0px 1px 2px rgba(0, 0, 0, 0.3));\n",
              "      fill: #FFFFFF;\n",
              "    }\n",
              "  </style>\n",
              "\n",
              "    <script>\n",
              "      const buttonEl =\n",
              "        document.querySelector('#df-792df3c9-4946-4a71-b1d3-147e87aa012d button.colab-df-convert');\n",
              "      buttonEl.style.display =\n",
              "        google.colab.kernel.accessAllowed ? 'block' : 'none';\n",
              "\n",
              "      async function convertToInteractive(key) {\n",
              "        const element = document.querySelector('#df-792df3c9-4946-4a71-b1d3-147e87aa012d');\n",
              "        const dataTable =\n",
              "          await google.colab.kernel.invokeFunction('convertToInteractive',\n",
              "                                                    [key], {});\n",
              "        if (!dataTable) return;\n",
              "\n",
              "        const docLinkHtml = 'Like what you see? Visit the ' +\n",
              "          '<a target=\"_blank\" href=https://colab.research.google.com/notebooks/data_table.ipynb>data table notebook</a>'\n",
              "          + ' to learn more about interactive tables.';\n",
              "        element.innerHTML = '';\n",
              "        dataTable['output_type'] = 'display_data';\n",
              "        await google.colab.output.renderOutput(dataTable, element);\n",
              "        const docLink = document.createElement('div');\n",
              "        docLink.innerHTML = docLinkHtml;\n",
              "        element.appendChild(docLink);\n",
              "      }\n",
              "    </script>\n",
              "  </div>\n",
              "\n",
              "\n",
              "<div id=\"df-13fd50a3-3b16-4345-84bb-119446e24c8f\">\n",
              "  <button class=\"colab-df-quickchart\" onclick=\"quickchart('df-13fd50a3-3b16-4345-84bb-119446e24c8f')\"\n",
              "            title=\"Suggest charts\"\n",
              "            style=\"display:none;\">\n",
              "\n",
              "<svg xmlns=\"http://www.w3.org/2000/svg\" height=\"24px\"viewBox=\"0 0 24 24\"\n",
              "     width=\"24px\">\n",
              "    <g>\n",
              "        <path d=\"M19 3H5c-1.1 0-2 .9-2 2v14c0 1.1.9 2 2 2h14c1.1 0 2-.9 2-2V5c0-1.1-.9-2-2-2zM9 17H7v-7h2v7zm4 0h-2V7h2v10zm4 0h-2v-4h2v4z\"/>\n",
              "    </g>\n",
              "</svg>\n",
              "  </button>\n",
              "\n",
              "<style>\n",
              "  .colab-df-quickchart {\n",
              "      --bg-color: #E8F0FE;\n",
              "      --fill-color: #1967D2;\n",
              "      --hover-bg-color: #E2EBFA;\n",
              "      --hover-fill-color: #174EA6;\n",
              "      --disabled-fill-color: #AAA;\n",
              "      --disabled-bg-color: #DDD;\n",
              "  }\n",
              "\n",
              "  [theme=dark] .colab-df-quickchart {\n",
              "      --bg-color: #3B4455;\n",
              "      --fill-color: #D2E3FC;\n",
              "      --hover-bg-color: #434B5C;\n",
              "      --hover-fill-color: #FFFFFF;\n",
              "      --disabled-bg-color: #3B4455;\n",
              "      --disabled-fill-color: #666;\n",
              "  }\n",
              "\n",
              "  .colab-df-quickchart {\n",
              "    background-color: var(--bg-color);\n",
              "    border: none;\n",
              "    border-radius: 50%;\n",
              "    cursor: pointer;\n",
              "    display: none;\n",
              "    fill: var(--fill-color);\n",
              "    height: 32px;\n",
              "    padding: 0;\n",
              "    width: 32px;\n",
              "  }\n",
              "\n",
              "  .colab-df-quickchart:hover {\n",
              "    background-color: var(--hover-bg-color);\n",
              "    box-shadow: 0 1px 2px rgba(60, 64, 67, 0.3), 0 1px 3px 1px rgba(60, 64, 67, 0.15);\n",
              "    fill: var(--button-hover-fill-color);\n",
              "  }\n",
              "\n",
              "  .colab-df-quickchart-complete:disabled,\n",
              "  .colab-df-quickchart-complete:disabled:hover {\n",
              "    background-color: var(--disabled-bg-color);\n",
              "    fill: var(--disabled-fill-color);\n",
              "    box-shadow: none;\n",
              "  }\n",
              "\n",
              "  .colab-df-spinner {\n",
              "    border: 2px solid var(--fill-color);\n",
              "    border-color: transparent;\n",
              "    border-bottom-color: var(--fill-color);\n",
              "    animation:\n",
              "      spin 1s steps(1) infinite;\n",
              "  }\n",
              "\n",
              "  @keyframes spin {\n",
              "    0% {\n",
              "      border-color: transparent;\n",
              "      border-bottom-color: var(--fill-color);\n",
              "      border-left-color: var(--fill-color);\n",
              "    }\n",
              "    20% {\n",
              "      border-color: transparent;\n",
              "      border-left-color: var(--fill-color);\n",
              "      border-top-color: var(--fill-color);\n",
              "    }\n",
              "    30% {\n",
              "      border-color: transparent;\n",
              "      border-left-color: var(--fill-color);\n",
              "      border-top-color: var(--fill-color);\n",
              "      border-right-color: var(--fill-color);\n",
              "    }\n",
              "    40% {\n",
              "      border-color: transparent;\n",
              "      border-right-color: var(--fill-color);\n",
              "      border-top-color: var(--fill-color);\n",
              "    }\n",
              "    60% {\n",
              "      border-color: transparent;\n",
              "      border-right-color: var(--fill-color);\n",
              "    }\n",
              "    80% {\n",
              "      border-color: transparent;\n",
              "      border-right-color: var(--fill-color);\n",
              "      border-bottom-color: var(--fill-color);\n",
              "    }\n",
              "    90% {\n",
              "      border-color: transparent;\n",
              "      border-bottom-color: var(--fill-color);\n",
              "    }\n",
              "  }\n",
              "</style>\n",
              "\n",
              "  <script>\n",
              "    async function quickchart(key) {\n",
              "      const quickchartButtonEl =\n",
              "        document.querySelector('#' + key + ' button');\n",
              "      quickchartButtonEl.disabled = true;  // To prevent multiple clicks.\n",
              "      quickchartButtonEl.classList.add('colab-df-spinner');\n",
              "      try {\n",
              "        const charts = await google.colab.kernel.invokeFunction(\n",
              "            'suggestCharts', [key], {});\n",
              "      } catch (error) {\n",
              "        console.error('Error during call to suggestCharts:', error);\n",
              "      }\n",
              "      quickchartButtonEl.classList.remove('colab-df-spinner');\n",
              "      quickchartButtonEl.classList.add('colab-df-quickchart-complete');\n",
              "    }\n",
              "    (() => {\n",
              "      let quickchartButtonEl =\n",
              "        document.querySelector('#df-13fd50a3-3b16-4345-84bb-119446e24c8f button');\n",
              "      quickchartButtonEl.style.display =\n",
              "        google.colab.kernel.accessAllowed ? 'block' : 'none';\n",
              "    })();\n",
              "  </script>\n",
              "</div>\n",
              "    </div>\n",
              "  </div>\n"
            ]
          },
          "metadata": {},
          "execution_count": 5
        }
      ]
    },
    {
      "cell_type": "code",
      "source": [
        "df_trump.head()"
      ],
      "metadata": {
        "colab": {
          "base_uri": "https://localhost:8080/",
          "height": 206
        },
        "id": "pOzea-xfvEL4",
        "outputId": "5db45dae-139f-49e2-869a-c6198fa76fc9"
      },
      "execution_count": 6,
      "outputs": [
        {
          "output_type": "execute_result",
          "data": {
            "text/plain": [
              "              user                                               text\n",
              "0      manny_rosen   @sanofi please tell us how many shares the Cr...\n",
              "1        osi_abdul   https://t.co/atM98CpqF7  Like, comment, RT #P...\n",
              "2          Patsyrw   Your AG Barr is as useless &amp; corrupt as y...\n",
              "3  seyedebrahimi_m   Mr. Trump! Wake Up!  Most of the comments bel...\n",
              "4    James09254677   After 4 years you think you would have figure..."
            ],
            "text/html": [
              "\n",
              "  <div id=\"df-24441e04-9f92-4184-8598-5895186ae8cc\" class=\"colab-df-container\">\n",
              "    <div>\n",
              "<style scoped>\n",
              "    .dataframe tbody tr th:only-of-type {\n",
              "        vertical-align: middle;\n",
              "    }\n",
              "\n",
              "    .dataframe tbody tr th {\n",
              "        vertical-align: top;\n",
              "    }\n",
              "\n",
              "    .dataframe thead th {\n",
              "        text-align: right;\n",
              "    }\n",
              "</style>\n",
              "<table border=\"1\" class=\"dataframe\">\n",
              "  <thead>\n",
              "    <tr style=\"text-align: right;\">\n",
              "      <th></th>\n",
              "      <th>user</th>\n",
              "      <th>text</th>\n",
              "    </tr>\n",
              "  </thead>\n",
              "  <tbody>\n",
              "    <tr>\n",
              "      <th>0</th>\n",
              "      <td>manny_rosen</td>\n",
              "      <td>@sanofi please tell us how many shares the Cr...</td>\n",
              "    </tr>\n",
              "    <tr>\n",
              "      <th>1</th>\n",
              "      <td>osi_abdul</td>\n",
              "      <td>https://t.co/atM98CpqF7  Like, comment, RT #P...</td>\n",
              "    </tr>\n",
              "    <tr>\n",
              "      <th>2</th>\n",
              "      <td>Patsyrw</td>\n",
              "      <td>Your AG Barr is as useless &amp;amp; corrupt as y...</td>\n",
              "    </tr>\n",
              "    <tr>\n",
              "      <th>3</th>\n",
              "      <td>seyedebrahimi_m</td>\n",
              "      <td>Mr. Trump! Wake Up!  Most of the comments bel...</td>\n",
              "    </tr>\n",
              "    <tr>\n",
              "      <th>4</th>\n",
              "      <td>James09254677</td>\n",
              "      <td>After 4 years you think you would have figure...</td>\n",
              "    </tr>\n",
              "  </tbody>\n",
              "</table>\n",
              "</div>\n",
              "    <div class=\"colab-df-buttons\">\n",
              "\n",
              "  <div class=\"colab-df-container\">\n",
              "    <button class=\"colab-df-convert\" onclick=\"convertToInteractive('df-24441e04-9f92-4184-8598-5895186ae8cc')\"\n",
              "            title=\"Convert this dataframe to an interactive table.\"\n",
              "            style=\"display:none;\">\n",
              "\n",
              "  <svg xmlns=\"http://www.w3.org/2000/svg\" height=\"24px\" viewBox=\"0 -960 960 960\">\n",
              "    <path d=\"M120-120v-720h720v720H120Zm60-500h600v-160H180v160Zm220 220h160v-160H400v160Zm0 220h160v-160H400v160ZM180-400h160v-160H180v160Zm440 0h160v-160H620v160ZM180-180h160v-160H180v160Zm440 0h160v-160H620v160Z\"/>\n",
              "  </svg>\n",
              "    </button>\n",
              "\n",
              "  <style>\n",
              "    .colab-df-container {\n",
              "      display:flex;\n",
              "      gap: 12px;\n",
              "    }\n",
              "\n",
              "    .colab-df-convert {\n",
              "      background-color: #E8F0FE;\n",
              "      border: none;\n",
              "      border-radius: 50%;\n",
              "      cursor: pointer;\n",
              "      display: none;\n",
              "      fill: #1967D2;\n",
              "      height: 32px;\n",
              "      padding: 0 0 0 0;\n",
              "      width: 32px;\n",
              "    }\n",
              "\n",
              "    .colab-df-convert:hover {\n",
              "      background-color: #E2EBFA;\n",
              "      box-shadow: 0px 1px 2px rgba(60, 64, 67, 0.3), 0px 1px 3px 1px rgba(60, 64, 67, 0.15);\n",
              "      fill: #174EA6;\n",
              "    }\n",
              "\n",
              "    .colab-df-buttons div {\n",
              "      margin-bottom: 4px;\n",
              "    }\n",
              "\n",
              "    [theme=dark] .colab-df-convert {\n",
              "      background-color: #3B4455;\n",
              "      fill: #D2E3FC;\n",
              "    }\n",
              "\n",
              "    [theme=dark] .colab-df-convert:hover {\n",
              "      background-color: #434B5C;\n",
              "      box-shadow: 0px 1px 3px 1px rgba(0, 0, 0, 0.15);\n",
              "      filter: drop-shadow(0px 1px 2px rgba(0, 0, 0, 0.3));\n",
              "      fill: #FFFFFF;\n",
              "    }\n",
              "  </style>\n",
              "\n",
              "    <script>\n",
              "      const buttonEl =\n",
              "        document.querySelector('#df-24441e04-9f92-4184-8598-5895186ae8cc button.colab-df-convert');\n",
              "      buttonEl.style.display =\n",
              "        google.colab.kernel.accessAllowed ? 'block' : 'none';\n",
              "\n",
              "      async function convertToInteractive(key) {\n",
              "        const element = document.querySelector('#df-24441e04-9f92-4184-8598-5895186ae8cc');\n",
              "        const dataTable =\n",
              "          await google.colab.kernel.invokeFunction('convertToInteractive',\n",
              "                                                    [key], {});\n",
              "        if (!dataTable) return;\n",
              "\n",
              "        const docLinkHtml = 'Like what you see? Visit the ' +\n",
              "          '<a target=\"_blank\" href=https://colab.research.google.com/notebooks/data_table.ipynb>data table notebook</a>'\n",
              "          + ' to learn more about interactive tables.';\n",
              "        element.innerHTML = '';\n",
              "        dataTable['output_type'] = 'display_data';\n",
              "        await google.colab.output.renderOutput(dataTable, element);\n",
              "        const docLink = document.createElement('div');\n",
              "        docLink.innerHTML = docLinkHtml;\n",
              "        element.appendChild(docLink);\n",
              "      }\n",
              "    </script>\n",
              "  </div>\n",
              "\n",
              "\n",
              "<div id=\"df-fe705b17-43dd-4ff1-85f6-77e35dd93616\">\n",
              "  <button class=\"colab-df-quickchart\" onclick=\"quickchart('df-fe705b17-43dd-4ff1-85f6-77e35dd93616')\"\n",
              "            title=\"Suggest charts\"\n",
              "            style=\"display:none;\">\n",
              "\n",
              "<svg xmlns=\"http://www.w3.org/2000/svg\" height=\"24px\"viewBox=\"0 0 24 24\"\n",
              "     width=\"24px\">\n",
              "    <g>\n",
              "        <path d=\"M19 3H5c-1.1 0-2 .9-2 2v14c0 1.1.9 2 2 2h14c1.1 0 2-.9 2-2V5c0-1.1-.9-2-2-2zM9 17H7v-7h2v7zm4 0h-2V7h2v10zm4 0h-2v-4h2v4z\"/>\n",
              "    </g>\n",
              "</svg>\n",
              "  </button>\n",
              "\n",
              "<style>\n",
              "  .colab-df-quickchart {\n",
              "      --bg-color: #E8F0FE;\n",
              "      --fill-color: #1967D2;\n",
              "      --hover-bg-color: #E2EBFA;\n",
              "      --hover-fill-color: #174EA6;\n",
              "      --disabled-fill-color: #AAA;\n",
              "      --disabled-bg-color: #DDD;\n",
              "  }\n",
              "\n",
              "  [theme=dark] .colab-df-quickchart {\n",
              "      --bg-color: #3B4455;\n",
              "      --fill-color: #D2E3FC;\n",
              "      --hover-bg-color: #434B5C;\n",
              "      --hover-fill-color: #FFFFFF;\n",
              "      --disabled-bg-color: #3B4455;\n",
              "      --disabled-fill-color: #666;\n",
              "  }\n",
              "\n",
              "  .colab-df-quickchart {\n",
              "    background-color: var(--bg-color);\n",
              "    border: none;\n",
              "    border-radius: 50%;\n",
              "    cursor: pointer;\n",
              "    display: none;\n",
              "    fill: var(--fill-color);\n",
              "    height: 32px;\n",
              "    padding: 0;\n",
              "    width: 32px;\n",
              "  }\n",
              "\n",
              "  .colab-df-quickchart:hover {\n",
              "    background-color: var(--hover-bg-color);\n",
              "    box-shadow: 0 1px 2px rgba(60, 64, 67, 0.3), 0 1px 3px 1px rgba(60, 64, 67, 0.15);\n",
              "    fill: var(--button-hover-fill-color);\n",
              "  }\n",
              "\n",
              "  .colab-df-quickchart-complete:disabled,\n",
              "  .colab-df-quickchart-complete:disabled:hover {\n",
              "    background-color: var(--disabled-bg-color);\n",
              "    fill: var(--disabled-fill-color);\n",
              "    box-shadow: none;\n",
              "  }\n",
              "\n",
              "  .colab-df-spinner {\n",
              "    border: 2px solid var(--fill-color);\n",
              "    border-color: transparent;\n",
              "    border-bottom-color: var(--fill-color);\n",
              "    animation:\n",
              "      spin 1s steps(1) infinite;\n",
              "  }\n",
              "\n",
              "  @keyframes spin {\n",
              "    0% {\n",
              "      border-color: transparent;\n",
              "      border-bottom-color: var(--fill-color);\n",
              "      border-left-color: var(--fill-color);\n",
              "    }\n",
              "    20% {\n",
              "      border-color: transparent;\n",
              "      border-left-color: var(--fill-color);\n",
              "      border-top-color: var(--fill-color);\n",
              "    }\n",
              "    30% {\n",
              "      border-color: transparent;\n",
              "      border-left-color: var(--fill-color);\n",
              "      border-top-color: var(--fill-color);\n",
              "      border-right-color: var(--fill-color);\n",
              "    }\n",
              "    40% {\n",
              "      border-color: transparent;\n",
              "      border-right-color: var(--fill-color);\n",
              "      border-top-color: var(--fill-color);\n",
              "    }\n",
              "    60% {\n",
              "      border-color: transparent;\n",
              "      border-right-color: var(--fill-color);\n",
              "    }\n",
              "    80% {\n",
              "      border-color: transparent;\n",
              "      border-right-color: var(--fill-color);\n",
              "      border-bottom-color: var(--fill-color);\n",
              "    }\n",
              "    90% {\n",
              "      border-color: transparent;\n",
              "      border-bottom-color: var(--fill-color);\n",
              "    }\n",
              "  }\n",
              "</style>\n",
              "\n",
              "  <script>\n",
              "    async function quickchart(key) {\n",
              "      const quickchartButtonEl =\n",
              "        document.querySelector('#' + key + ' button');\n",
              "      quickchartButtonEl.disabled = true;  // To prevent multiple clicks.\n",
              "      quickchartButtonEl.classList.add('colab-df-spinner');\n",
              "      try {\n",
              "        const charts = await google.colab.kernel.invokeFunction(\n",
              "            'suggestCharts', [key], {});\n",
              "      } catch (error) {\n",
              "        console.error('Error during call to suggestCharts:', error);\n",
              "      }\n",
              "      quickchartButtonEl.classList.remove('colab-df-spinner');\n",
              "      quickchartButtonEl.classList.add('colab-df-quickchart-complete');\n",
              "    }\n",
              "    (() => {\n",
              "      let quickchartButtonEl =\n",
              "        document.querySelector('#df-fe705b17-43dd-4ff1-85f6-77e35dd93616 button');\n",
              "      quickchartButtonEl.style.display =\n",
              "        google.colab.kernel.accessAllowed ? 'block' : 'none';\n",
              "    })();\n",
              "  </script>\n",
              "</div>\n",
              "    </div>\n",
              "  </div>\n"
            ]
          },
          "metadata": {},
          "execution_count": 6
        }
      ]
    },
    {
      "cell_type": "code",
      "source": [
        "df_trump['text'][10]"
      ],
      "metadata": {
        "colab": {
          "base_uri": "https://localhost:8080/",
          "height": 35
        },
        "id": "l0FrS90HyJh9",
        "outputId": "58c62199-e44b-406c-c5cc-028aa27b9f53"
      },
      "execution_count": 7,
      "outputs": [
        {
          "output_type": "execute_result",
          "data": {
            "text/plain": [
              "' No president would be able to destroy as you have'"
            ],
            "application/vnd.google.colaboratory.intrinsic+json": {
              "type": "string"
            }
          },
          "metadata": {},
          "execution_count": 7
        }
      ]
    },
    {
      "cell_type": "code",
      "source": [
        "df_biden['text'][10]"
      ],
      "metadata": {
        "colab": {
          "base_uri": "https://localhost:8080/",
          "height": 35
        },
        "id": "6JCxzwNFyOns",
        "outputId": "77fd7cd2-29b0-42d7-d302-d53bdde90f65"
      },
      "execution_count": 8,
      "outputs": [
        {
          "output_type": "execute_result",
          "data": {
            "text/plain": [
              "'@JoeBiden Voter ID is required otherwise you Democrats will cheat..its been proven.  Have some integrity !'"
            ],
            "application/vnd.google.colaboratory.intrinsic+json": {
              "type": "string"
            }
          },
          "metadata": {},
          "execution_count": 8
        }
      ]
    },
    {
      "cell_type": "markdown",
      "source": [
        "As we can see, we have first column the user id (twitter) and the second column , the text"
      ],
      "metadata": {
        "id": "SDgnNC0RvHt2"
      }
    },
    {
      "cell_type": "code",
      "source": [
        "# check Nan values\n",
        "print('Number of NaN values in biden: ', df_biden.isna().sum())\n",
        "print('Number of NaN values in trump: ', df_trump.isna().sum())"
      ],
      "metadata": {
        "colab": {
          "base_uri": "https://localhost:8080/"
        },
        "id": "4avcxsNevFvC",
        "outputId": "77d23b39-9bb3-4726-c2c2-e8242ce6b12c"
      },
      "execution_count": 9,
      "outputs": [
        {
          "output_type": "execute_result",
          "data": {
            "text/plain": [
              "user    0\n",
              "text    0\n",
              "dtype: int64"
            ]
          },
          "metadata": {},
          "execution_count": 9
        }
      ]
    },
    {
      "cell_type": "code",
      "source": [
        "# check duplicates\n",
        "print('Number of duplicates in biden: ', df_biden.duplicated().sum())\n",
        "print('Number of duplicates in trump: ', df_trump.duplicated().sum())\n"
      ],
      "metadata": {
        "colab": {
          "base_uri": "https://localhost:8080/"
        },
        "id": "1ab0I__-wYg5",
        "outputId": "a44d8e16-0b84-413f-e85c-ce10b8b02a40"
      },
      "execution_count": 11,
      "outputs": [
        {
          "output_type": "stream",
          "name": "stdout",
          "text": [
            "Number of duplicates in biden:  0\n",
            "Number of duplicates in trump:  0\n"
          ]
        }
      ]
    },
    {
      "cell_type": "code",
      "source": [
        "# check missing or null values\n",
        "print(\"Total missing values in biden:\", df_biden.isnull().sum().sum())\n",
        "print(\"Total missing values in trump:\", df_trump.isnull().sum().sum())"
      ],
      "metadata": {
        "colab": {
          "base_uri": "https://localhost:8080/"
        },
        "id": "GcxfSGSYwgq9",
        "outputId": "d9b973c8-9a58-4e58-b926-5d265d3cd737"
      },
      "execution_count": 12,
      "outputs": [
        {
          "output_type": "stream",
          "name": "stdout",
          "text": [
            "Total missing values in biden: 0\n",
            "Total missing values in trump: 0\n"
          ]
        }
      ]
    },
    {
      "cell_type": "code",
      "source": [
        "# instantiate stopwords, lemmatizer and speller\n",
        "stop_words = stopwords.words('english')\n",
        "lemmatizer = WordNetLemmatizer()\n",
        "spell = Speller(lang='en')"
      ],
      "metadata": {
        "id": "37F799b3xjd6"
      },
      "execution_count": 13,
      "outputs": []
    },
    {
      "cell_type": "code",
      "source": [
        "# clean text\n",
        "def clean_text(text):\n",
        "    # replace emojis with its meaning\n",
        "    text = text.apply(lambda x: emoji.demojize(x))\n",
        "\n",
        "    # remove URLs\n",
        "    text = text.apply(lambda x: re.sub(r'http\\S+', '', x))\n",
        "\n",
        "    # remove html tags\n",
        "    text = text.apply(lambda x: re.sub(r'<.*?>', '', x))\n",
        "\n",
        "    # remove punctuation, inlcuding @ for mentions and # for hashtags\n",
        "    text = text.apply(lambda x: re.sub(r'[^\\w\\s]|_', ' ', x))\n",
        "\n",
        "    # normalize case\n",
        "    text = text.apply(lambda x: x.lower())\n",
        "\n",
        "    # remove stopwords\n",
        "    text = text.apply(lambda x: ' '.join([word for word in x.split() if word not in stop_words]))\n",
        "\n",
        "    # check if the word is spelled correctly\n",
        "    text = text.apply(lambda x: spell(x))\n",
        "\n",
        "    # lemmatize the text\n",
        "    text = text.apply(lambda x: ' '.join([lemmatizer.lemmatize(word) for word in x.split()]))\n",
        "\n",
        "    # tokenize the text\n",
        "    text = text.apply(lambda x: word_tokenize(x))\n",
        "\n",
        "\n",
        "    return text"
      ],
      "metadata": {
        "id": "UaUZjTQ8xGaZ"
      },
      "execution_count": 14,
      "outputs": []
    },
    {
      "cell_type": "markdown",
      "source": [
        "we clean our data:\n",
        "\n",
        "\n",
        "    1. Replace emojis with their textual meaning.\n",
        "    2. Remove URLs from the text.\n",
        "    3. Remove HTML tags.\n",
        "    4. Remove punctuation, including @ for mentions and # for hashtags.\n",
        "    5. Convert text to lowercase for consistency.\n",
        "    6. Remove stopwords - common words that do not contribute much to the meaning.\n",
        "    7. Check and correct spelling of words.\n",
        "    8. Lemmatize the text - reduce words to their base or root form.\n",
        "    9. Tokenize the text - split it into individual words.\n"
      ],
      "metadata": {
        "id": "oCHfAvifDQP5"
      }
    },
    {
      "cell_type": "code",
      "source": [
        "# clean the text using function\n",
        "\n",
        "df_trump['clean_text'] = clean_text(df_trump['text'])\n",
        "df_biden['clean_text'] = clean_text(df_biden['text'])\n"
      ],
      "metadata": {
        "id": "EcnRuc48xOMc"
      },
      "execution_count": 15,
      "outputs": []
    },
    {
      "cell_type": "code",
      "source": [
        "print(df_biden['text'][2])"
      ],
      "metadata": {
        "colab": {
          "base_uri": "https://localhost:8080/"
        },
        "id": "Aibi-I6eyWTU",
        "outputId": "7c9f9038-2d65-4c32-c906-52b5f279db8a"
      },
      "execution_count": 16,
      "outputs": [
        {
          "output_type": "stream",
          "name": "stdout",
          "text": [
            "@JoeBiden So did Lying Barr\n"
          ]
        }
      ]
    },
    {
      "cell_type": "code",
      "source": [
        "# Save cleaned DataFrames to CSV files and push to github (avoid cleaning time)\n",
        "df_trump.to_csv('cleaned_trump_data.csv', index=False)\n",
        "df_biden.to_csv('cleaned_biden_data.csv', index=False)"
      ],
      "metadata": {
        "id": "HTpxASVOSPmY"
      },
      "execution_count": 22,
      "outputs": []
    },
    {
      "cell_type": "markdown",
      "source": [
        "### read the cleaned df"
      ],
      "metadata": {
        "id": "skS2mT9lyBgx"
      }
    },
    {
      "cell_type": "code",
      "source": [
        "# read the cleaned df from github\n",
        "url_clean_t = 'https://raw.githubusercontent.com/PKpacheco/final_project_neural_networks/main/cleaned_trump_data.csv'\n",
        "url_clean_b = 'https://raw.githubusercontent.com/PKpacheco/final_project_neural_networks/main/cleaned_biden_data.csv'\n"
      ],
      "metadata": {
        "id": "Q7Zk49s1aAKz"
      },
      "execution_count": 1,
      "outputs": []
    },
    {
      "cell_type": "code",
      "source": [
        "biden = pd.read_csv(url_clean_b)\n",
        "trump = pd.read_csv(url_clean_t)"
      ],
      "metadata": {
        "id": "iJAD9lEraOgo"
      },
      "execution_count": 9,
      "outputs": []
    },
    {
      "cell_type": "code",
      "source": [
        "# check if new df match with df_biden df\n",
        "print(biden['text'][2])\n",
        "print(df_biden['text'][2])"
      ],
      "metadata": {
        "colab": {
          "base_uri": "https://localhost:8080/",
          "height": 228
        },
        "id": "xnxr4x6yab0x",
        "outputId": "58401e4e-3306-4d17-da30-9c5d9e1b91c1"
      },
      "execution_count": 10,
      "outputs": [
        {
          "output_type": "stream",
          "name": "stdout",
          "text": [
            "@JoeBiden So did Lying Barr\n"
          ]
        },
        {
          "output_type": "error",
          "ename": "NameError",
          "evalue": "ignored",
          "traceback": [
            "\u001b[0;31m---------------------------------------------------------------------------\u001b[0m",
            "\u001b[0;31mNameError\u001b[0m                                 Traceback (most recent call last)",
            "\u001b[0;32m<ipython-input-10-0dcda5b30320>\u001b[0m in \u001b[0;36m<cell line: 3>\u001b[0;34m()\u001b[0m\n\u001b[1;32m      1\u001b[0m \u001b[0;31m# check if new df match with df_biden df\u001b[0m\u001b[0;34m\u001b[0m\u001b[0;34m\u001b[0m\u001b[0m\n\u001b[1;32m      2\u001b[0m \u001b[0mprint\u001b[0m\u001b[0;34m(\u001b[0m\u001b[0mbiden\u001b[0m\u001b[0;34m[\u001b[0m\u001b[0;34m'text'\u001b[0m\u001b[0;34m]\u001b[0m\u001b[0;34m[\u001b[0m\u001b[0;36m2\u001b[0m\u001b[0;34m]\u001b[0m\u001b[0;34m)\u001b[0m\u001b[0;34m\u001b[0m\u001b[0;34m\u001b[0m\u001b[0m\n\u001b[0;32m----> 3\u001b[0;31m \u001b[0mprint\u001b[0m\u001b[0;34m(\u001b[0m\u001b[0mdf_biden\u001b[0m\u001b[0;34m[\u001b[0m\u001b[0;34m'text'\u001b[0m\u001b[0;34m]\u001b[0m\u001b[0;34m[\u001b[0m\u001b[0;36m2\u001b[0m\u001b[0;34m]\u001b[0m\u001b[0;34m)\u001b[0m\u001b[0;34m\u001b[0m\u001b[0;34m\u001b[0m\u001b[0m\n\u001b[0m",
            "\u001b[0;31mNameError\u001b[0m: name 'df_biden' is not defined"
          ]
        }
      ]
    },
    {
      "cell_type": "code",
      "source": [
        "# check if new df match with df_biden df\n",
        "print(trump['text'][2])\n",
        "print(df_trump['text'][2])"
      ],
      "metadata": {
        "colab": {
          "base_uri": "https://localhost:8080/"
        },
        "id": "rX6lj9qzdQvP",
        "outputId": "9d74f8e5-1da6-47cc-c410-47afb97a3ee8"
      },
      "execution_count": 51,
      "outputs": [
        {
          "output_type": "stream",
          "name": "stdout",
          "text": [
            " Your AG Barr is as useless &amp; corrupt as you are     Rep. Pramila Jayapal #SheGotItRight\n",
            " Your AG Barr is as useless &amp; corrupt as you are     Rep. Pramila Jayapal #SheGotItRight\n"
          ]
        }
      ]
    },
    {
      "cell_type": "code",
      "source": [
        "biden.head()"
      ],
      "metadata": {
        "colab": {
          "base_uri": "https://localhost:8080/",
          "height": 206
        },
        "id": "OznGjJMeaXIG",
        "outputId": "ee11ad45-53fd-41f4-b063-933e7634cc5b"
      },
      "execution_count": 11,
      "outputs": [
        {
          "output_type": "execute_result",
          "data": {
            "text/plain": [
              "           user                                               text  \\\n",
              "0   MarkHodder3    @JoeBiden And we’ll find out who won in 2026...   \n",
              "1    K87327961G  @JoeBiden Your Democratic Nazi Party cannot be...   \n",
              "2      OldlaceA                        @JoeBiden So did Lying Barr   \n",
              "3    penblogger  @JoeBiden It's clear you didnt compose this tw...   \n",
              "4  Aquarian0264         @JoeBiden I will vote in person thank you.   \n",
              "\n",
              "                                          clean_text  \n",
              "0                       ['joebiden', 'find', '2026']  \n",
              "1  ['joebiden', 'democratic', 'nazi', 'party', 'c...  \n",
              "2                      ['joebiden', 'lying', 'barr']  \n",
              "3  ['joebiden', 'clear', 'didnt', 'compose', 'twe...  \n",
              "4            ['joebiden', 'vote', 'person', 'thank']  "
            ],
            "text/html": [
              "\n",
              "  <div id=\"df-e6c3a16f-51b0-492b-bd14-9b1a79fc6c2b\" class=\"colab-df-container\">\n",
              "    <div>\n",
              "<style scoped>\n",
              "    .dataframe tbody tr th:only-of-type {\n",
              "        vertical-align: middle;\n",
              "    }\n",
              "\n",
              "    .dataframe tbody tr th {\n",
              "        vertical-align: top;\n",
              "    }\n",
              "\n",
              "    .dataframe thead th {\n",
              "        text-align: right;\n",
              "    }\n",
              "</style>\n",
              "<table border=\"1\" class=\"dataframe\">\n",
              "  <thead>\n",
              "    <tr style=\"text-align: right;\">\n",
              "      <th></th>\n",
              "      <th>user</th>\n",
              "      <th>text</th>\n",
              "      <th>clean_text</th>\n",
              "    </tr>\n",
              "  </thead>\n",
              "  <tbody>\n",
              "    <tr>\n",
              "      <th>0</th>\n",
              "      <td>MarkHodder3</td>\n",
              "      <td>@JoeBiden And we’ll find out who won in 2026...</td>\n",
              "      <td>['joebiden', 'find', '2026']</td>\n",
              "    </tr>\n",
              "    <tr>\n",
              "      <th>1</th>\n",
              "      <td>K87327961G</td>\n",
              "      <td>@JoeBiden Your Democratic Nazi Party cannot be...</td>\n",
              "      <td>['joebiden', 'democratic', 'nazi', 'party', 'c...</td>\n",
              "    </tr>\n",
              "    <tr>\n",
              "      <th>2</th>\n",
              "      <td>OldlaceA</td>\n",
              "      <td>@JoeBiden So did Lying Barr</td>\n",
              "      <td>['joebiden', 'lying', 'barr']</td>\n",
              "    </tr>\n",
              "    <tr>\n",
              "      <th>3</th>\n",
              "      <td>penblogger</td>\n",
              "      <td>@JoeBiden It's clear you didnt compose this tw...</td>\n",
              "      <td>['joebiden', 'clear', 'didnt', 'compose', 'twe...</td>\n",
              "    </tr>\n",
              "    <tr>\n",
              "      <th>4</th>\n",
              "      <td>Aquarian0264</td>\n",
              "      <td>@JoeBiden I will vote in person thank you.</td>\n",
              "      <td>['joebiden', 'vote', 'person', 'thank']</td>\n",
              "    </tr>\n",
              "  </tbody>\n",
              "</table>\n",
              "</div>\n",
              "    <div class=\"colab-df-buttons\">\n",
              "\n",
              "  <div class=\"colab-df-container\">\n",
              "    <button class=\"colab-df-convert\" onclick=\"convertToInteractive('df-e6c3a16f-51b0-492b-bd14-9b1a79fc6c2b')\"\n",
              "            title=\"Convert this dataframe to an interactive table.\"\n",
              "            style=\"display:none;\">\n",
              "\n",
              "  <svg xmlns=\"http://www.w3.org/2000/svg\" height=\"24px\" viewBox=\"0 -960 960 960\">\n",
              "    <path d=\"M120-120v-720h720v720H120Zm60-500h600v-160H180v160Zm220 220h160v-160H400v160Zm0 220h160v-160H400v160ZM180-400h160v-160H180v160Zm440 0h160v-160H620v160ZM180-180h160v-160H180v160Zm440 0h160v-160H620v160Z\"/>\n",
              "  </svg>\n",
              "    </button>\n",
              "\n",
              "  <style>\n",
              "    .colab-df-container {\n",
              "      display:flex;\n",
              "      gap: 12px;\n",
              "    }\n",
              "\n",
              "    .colab-df-convert {\n",
              "      background-color: #E8F0FE;\n",
              "      border: none;\n",
              "      border-radius: 50%;\n",
              "      cursor: pointer;\n",
              "      display: none;\n",
              "      fill: #1967D2;\n",
              "      height: 32px;\n",
              "      padding: 0 0 0 0;\n",
              "      width: 32px;\n",
              "    }\n",
              "\n",
              "    .colab-df-convert:hover {\n",
              "      background-color: #E2EBFA;\n",
              "      box-shadow: 0px 1px 2px rgba(60, 64, 67, 0.3), 0px 1px 3px 1px rgba(60, 64, 67, 0.15);\n",
              "      fill: #174EA6;\n",
              "    }\n",
              "\n",
              "    .colab-df-buttons div {\n",
              "      margin-bottom: 4px;\n",
              "    }\n",
              "\n",
              "    [theme=dark] .colab-df-convert {\n",
              "      background-color: #3B4455;\n",
              "      fill: #D2E3FC;\n",
              "    }\n",
              "\n",
              "    [theme=dark] .colab-df-convert:hover {\n",
              "      background-color: #434B5C;\n",
              "      box-shadow: 0px 1px 3px 1px rgba(0, 0, 0, 0.15);\n",
              "      filter: drop-shadow(0px 1px 2px rgba(0, 0, 0, 0.3));\n",
              "      fill: #FFFFFF;\n",
              "    }\n",
              "  </style>\n",
              "\n",
              "    <script>\n",
              "      const buttonEl =\n",
              "        document.querySelector('#df-e6c3a16f-51b0-492b-bd14-9b1a79fc6c2b button.colab-df-convert');\n",
              "      buttonEl.style.display =\n",
              "        google.colab.kernel.accessAllowed ? 'block' : 'none';\n",
              "\n",
              "      async function convertToInteractive(key) {\n",
              "        const element = document.querySelector('#df-e6c3a16f-51b0-492b-bd14-9b1a79fc6c2b');\n",
              "        const dataTable =\n",
              "          await google.colab.kernel.invokeFunction('convertToInteractive',\n",
              "                                                    [key], {});\n",
              "        if (!dataTable) return;\n",
              "\n",
              "        const docLinkHtml = 'Like what you see? Visit the ' +\n",
              "          '<a target=\"_blank\" href=https://colab.research.google.com/notebooks/data_table.ipynb>data table notebook</a>'\n",
              "          + ' to learn more about interactive tables.';\n",
              "        element.innerHTML = '';\n",
              "        dataTable['output_type'] = 'display_data';\n",
              "        await google.colab.output.renderOutput(dataTable, element);\n",
              "        const docLink = document.createElement('div');\n",
              "        docLink.innerHTML = docLinkHtml;\n",
              "        element.appendChild(docLink);\n",
              "      }\n",
              "    </script>\n",
              "  </div>\n",
              "\n",
              "\n",
              "<div id=\"df-284cd6b1-4c3e-4441-8d67-3e6bef8592a9\">\n",
              "  <button class=\"colab-df-quickchart\" onclick=\"quickchart('df-284cd6b1-4c3e-4441-8d67-3e6bef8592a9')\"\n",
              "            title=\"Suggest charts\"\n",
              "            style=\"display:none;\">\n",
              "\n",
              "<svg xmlns=\"http://www.w3.org/2000/svg\" height=\"24px\"viewBox=\"0 0 24 24\"\n",
              "     width=\"24px\">\n",
              "    <g>\n",
              "        <path d=\"M19 3H5c-1.1 0-2 .9-2 2v14c0 1.1.9 2 2 2h14c1.1 0 2-.9 2-2V5c0-1.1-.9-2-2-2zM9 17H7v-7h2v7zm4 0h-2V7h2v10zm4 0h-2v-4h2v4z\"/>\n",
              "    </g>\n",
              "</svg>\n",
              "  </button>\n",
              "\n",
              "<style>\n",
              "  .colab-df-quickchart {\n",
              "      --bg-color: #E8F0FE;\n",
              "      --fill-color: #1967D2;\n",
              "      --hover-bg-color: #E2EBFA;\n",
              "      --hover-fill-color: #174EA6;\n",
              "      --disabled-fill-color: #AAA;\n",
              "      --disabled-bg-color: #DDD;\n",
              "  }\n",
              "\n",
              "  [theme=dark] .colab-df-quickchart {\n",
              "      --bg-color: #3B4455;\n",
              "      --fill-color: #D2E3FC;\n",
              "      --hover-bg-color: #434B5C;\n",
              "      --hover-fill-color: #FFFFFF;\n",
              "      --disabled-bg-color: #3B4455;\n",
              "      --disabled-fill-color: #666;\n",
              "  }\n",
              "\n",
              "  .colab-df-quickchart {\n",
              "    background-color: var(--bg-color);\n",
              "    border: none;\n",
              "    border-radius: 50%;\n",
              "    cursor: pointer;\n",
              "    display: none;\n",
              "    fill: var(--fill-color);\n",
              "    height: 32px;\n",
              "    padding: 0;\n",
              "    width: 32px;\n",
              "  }\n",
              "\n",
              "  .colab-df-quickchart:hover {\n",
              "    background-color: var(--hover-bg-color);\n",
              "    box-shadow: 0 1px 2px rgba(60, 64, 67, 0.3), 0 1px 3px 1px rgba(60, 64, 67, 0.15);\n",
              "    fill: var(--button-hover-fill-color);\n",
              "  }\n",
              "\n",
              "  .colab-df-quickchart-complete:disabled,\n",
              "  .colab-df-quickchart-complete:disabled:hover {\n",
              "    background-color: var(--disabled-bg-color);\n",
              "    fill: var(--disabled-fill-color);\n",
              "    box-shadow: none;\n",
              "  }\n",
              "\n",
              "  .colab-df-spinner {\n",
              "    border: 2px solid var(--fill-color);\n",
              "    border-color: transparent;\n",
              "    border-bottom-color: var(--fill-color);\n",
              "    animation:\n",
              "      spin 1s steps(1) infinite;\n",
              "  }\n",
              "\n",
              "  @keyframes spin {\n",
              "    0% {\n",
              "      border-color: transparent;\n",
              "      border-bottom-color: var(--fill-color);\n",
              "      border-left-color: var(--fill-color);\n",
              "    }\n",
              "    20% {\n",
              "      border-color: transparent;\n",
              "      border-left-color: var(--fill-color);\n",
              "      border-top-color: var(--fill-color);\n",
              "    }\n",
              "    30% {\n",
              "      border-color: transparent;\n",
              "      border-left-color: var(--fill-color);\n",
              "      border-top-color: var(--fill-color);\n",
              "      border-right-color: var(--fill-color);\n",
              "    }\n",
              "    40% {\n",
              "      border-color: transparent;\n",
              "      border-right-color: var(--fill-color);\n",
              "      border-top-color: var(--fill-color);\n",
              "    }\n",
              "    60% {\n",
              "      border-color: transparent;\n",
              "      border-right-color: var(--fill-color);\n",
              "    }\n",
              "    80% {\n",
              "      border-color: transparent;\n",
              "      border-right-color: var(--fill-color);\n",
              "      border-bottom-color: var(--fill-color);\n",
              "    }\n",
              "    90% {\n",
              "      border-color: transparent;\n",
              "      border-bottom-color: var(--fill-color);\n",
              "    }\n",
              "  }\n",
              "</style>\n",
              "\n",
              "  <script>\n",
              "    async function quickchart(key) {\n",
              "      const quickchartButtonEl =\n",
              "        document.querySelector('#' + key + ' button');\n",
              "      quickchartButtonEl.disabled = true;  // To prevent multiple clicks.\n",
              "      quickchartButtonEl.classList.add('colab-df-spinner');\n",
              "      try {\n",
              "        const charts = await google.colab.kernel.invokeFunction(\n",
              "            'suggestCharts', [key], {});\n",
              "      } catch (error) {\n",
              "        console.error('Error during call to suggestCharts:', error);\n",
              "      }\n",
              "      quickchartButtonEl.classList.remove('colab-df-spinner');\n",
              "      quickchartButtonEl.classList.add('colab-df-quickchart-complete');\n",
              "    }\n",
              "    (() => {\n",
              "      let quickchartButtonEl =\n",
              "        document.querySelector('#df-284cd6b1-4c3e-4441-8d67-3e6bef8592a9 button');\n",
              "      quickchartButtonEl.style.display =\n",
              "        google.colab.kernel.accessAllowed ? 'block' : 'none';\n",
              "    })();\n",
              "  </script>\n",
              "</div>\n",
              "    </div>\n",
              "  </div>\n"
            ]
          },
          "metadata": {},
          "execution_count": 11
        }
      ]
    },
    {
      "cell_type": "code",
      "source": [
        "trump.head()"
      ],
      "metadata": {
        "colab": {
          "base_uri": "https://localhost:8080/",
          "height": 206
        },
        "id": "vD1EO-gZalL-",
        "outputId": "e561b9df-60f6-466d-fd03-19bc4b9810ee"
      },
      "execution_count": 10,
      "outputs": [
        {
          "output_type": "execute_result",
          "data": {
            "text/plain": [
              "              user                                               text  \\\n",
              "0      manny_rosen   @sanofi please tell us how many shares the Cr...   \n",
              "1        osi_abdul   https://t.co/atM98CpqF7  Like, comment, RT #P...   \n",
              "2          Patsyrw   Your AG Barr is as useless &amp; corrupt as y...   \n",
              "3  seyedebrahimi_m   Mr. Trump! Wake Up!  Most of the comments bel...   \n",
              "4    James09254677   After 4 years you think you would have figure...   \n",
              "\n",
              "                                          clean_text  \n",
              "0  ['sankei', 'please', 'tell', 'u', 'many', 'sha...  \n",
              "1  ['like', 'comment', 'rt', 'prayer4tachantitans...  \n",
              "2  ['ag', 'barr', 'useless', 'amp', 'corrupt', 'r...  \n",
              "3  ['mr', 'trump', 'wake', 'comment', 'tweet', 'n...  \n",
              "4  ['4', 'year', 'think', 'would', 'figured', 'ho...  "
            ],
            "text/html": [
              "\n",
              "  <div id=\"df-b0b0fcc8-fb33-4826-b8f2-55b2c8f41c3c\" class=\"colab-df-container\">\n",
              "    <div>\n",
              "<style scoped>\n",
              "    .dataframe tbody tr th:only-of-type {\n",
              "        vertical-align: middle;\n",
              "    }\n",
              "\n",
              "    .dataframe tbody tr th {\n",
              "        vertical-align: top;\n",
              "    }\n",
              "\n",
              "    .dataframe thead th {\n",
              "        text-align: right;\n",
              "    }\n",
              "</style>\n",
              "<table border=\"1\" class=\"dataframe\">\n",
              "  <thead>\n",
              "    <tr style=\"text-align: right;\">\n",
              "      <th></th>\n",
              "      <th>user</th>\n",
              "      <th>text</th>\n",
              "      <th>clean_text</th>\n",
              "    </tr>\n",
              "  </thead>\n",
              "  <tbody>\n",
              "    <tr>\n",
              "      <th>0</th>\n",
              "      <td>manny_rosen</td>\n",
              "      <td>@sanofi please tell us how many shares the Cr...</td>\n",
              "      <td>['sankei', 'please', 'tell', 'u', 'many', 'sha...</td>\n",
              "    </tr>\n",
              "    <tr>\n",
              "      <th>1</th>\n",
              "      <td>osi_abdul</td>\n",
              "      <td>https://t.co/atM98CpqF7  Like, comment, RT #P...</td>\n",
              "      <td>['like', 'comment', 'rt', 'prayer4tachantitans...</td>\n",
              "    </tr>\n",
              "    <tr>\n",
              "      <th>2</th>\n",
              "      <td>Patsyrw</td>\n",
              "      <td>Your AG Barr is as useless &amp;amp; corrupt as y...</td>\n",
              "      <td>['ag', 'barr', 'useless', 'amp', 'corrupt', 'r...</td>\n",
              "    </tr>\n",
              "    <tr>\n",
              "      <th>3</th>\n",
              "      <td>seyedebrahimi_m</td>\n",
              "      <td>Mr. Trump! Wake Up!  Most of the comments bel...</td>\n",
              "      <td>['mr', 'trump', 'wake', 'comment', 'tweet', 'n...</td>\n",
              "    </tr>\n",
              "    <tr>\n",
              "      <th>4</th>\n",
              "      <td>James09254677</td>\n",
              "      <td>After 4 years you think you would have figure...</td>\n",
              "      <td>['4', 'year', 'think', 'would', 'figured', 'ho...</td>\n",
              "    </tr>\n",
              "  </tbody>\n",
              "</table>\n",
              "</div>\n",
              "    <div class=\"colab-df-buttons\">\n",
              "\n",
              "  <div class=\"colab-df-container\">\n",
              "    <button class=\"colab-df-convert\" onclick=\"convertToInteractive('df-b0b0fcc8-fb33-4826-b8f2-55b2c8f41c3c')\"\n",
              "            title=\"Convert this dataframe to an interactive table.\"\n",
              "            style=\"display:none;\">\n",
              "\n",
              "  <svg xmlns=\"http://www.w3.org/2000/svg\" height=\"24px\" viewBox=\"0 -960 960 960\">\n",
              "    <path d=\"M120-120v-720h720v720H120Zm60-500h600v-160H180v160Zm220 220h160v-160H400v160Zm0 220h160v-160H400v160ZM180-400h160v-160H180v160Zm440 0h160v-160H620v160ZM180-180h160v-160H180v160Zm440 0h160v-160H620v160Z\"/>\n",
              "  </svg>\n",
              "    </button>\n",
              "\n",
              "  <style>\n",
              "    .colab-df-container {\n",
              "      display:flex;\n",
              "      gap: 12px;\n",
              "    }\n",
              "\n",
              "    .colab-df-convert {\n",
              "      background-color: #E8F0FE;\n",
              "      border: none;\n",
              "      border-radius: 50%;\n",
              "      cursor: pointer;\n",
              "      display: none;\n",
              "      fill: #1967D2;\n",
              "      height: 32px;\n",
              "      padding: 0 0 0 0;\n",
              "      width: 32px;\n",
              "    }\n",
              "\n",
              "    .colab-df-convert:hover {\n",
              "      background-color: #E2EBFA;\n",
              "      box-shadow: 0px 1px 2px rgba(60, 64, 67, 0.3), 0px 1px 3px 1px rgba(60, 64, 67, 0.15);\n",
              "      fill: #174EA6;\n",
              "    }\n",
              "\n",
              "    .colab-df-buttons div {\n",
              "      margin-bottom: 4px;\n",
              "    }\n",
              "\n",
              "    [theme=dark] .colab-df-convert {\n",
              "      background-color: #3B4455;\n",
              "      fill: #D2E3FC;\n",
              "    }\n",
              "\n",
              "    [theme=dark] .colab-df-convert:hover {\n",
              "      background-color: #434B5C;\n",
              "      box-shadow: 0px 1px 3px 1px rgba(0, 0, 0, 0.15);\n",
              "      filter: drop-shadow(0px 1px 2px rgba(0, 0, 0, 0.3));\n",
              "      fill: #FFFFFF;\n",
              "    }\n",
              "  </style>\n",
              "\n",
              "    <script>\n",
              "      const buttonEl =\n",
              "        document.querySelector('#df-b0b0fcc8-fb33-4826-b8f2-55b2c8f41c3c button.colab-df-convert');\n",
              "      buttonEl.style.display =\n",
              "        google.colab.kernel.accessAllowed ? 'block' : 'none';\n",
              "\n",
              "      async function convertToInteractive(key) {\n",
              "        const element = document.querySelector('#df-b0b0fcc8-fb33-4826-b8f2-55b2c8f41c3c');\n",
              "        const dataTable =\n",
              "          await google.colab.kernel.invokeFunction('convertToInteractive',\n",
              "                                                    [key], {});\n",
              "        if (!dataTable) return;\n",
              "\n",
              "        const docLinkHtml = 'Like what you see? Visit the ' +\n",
              "          '<a target=\"_blank\" href=https://colab.research.google.com/notebooks/data_table.ipynb>data table notebook</a>'\n",
              "          + ' to learn more about interactive tables.';\n",
              "        element.innerHTML = '';\n",
              "        dataTable['output_type'] = 'display_data';\n",
              "        await google.colab.output.renderOutput(dataTable, element);\n",
              "        const docLink = document.createElement('div');\n",
              "        docLink.innerHTML = docLinkHtml;\n",
              "        element.appendChild(docLink);\n",
              "      }\n",
              "    </script>\n",
              "  </div>\n",
              "\n",
              "\n",
              "<div id=\"df-c3f66171-948b-4959-acea-2b91e2b17ed0\">\n",
              "  <button class=\"colab-df-quickchart\" onclick=\"quickchart('df-c3f66171-948b-4959-acea-2b91e2b17ed0')\"\n",
              "            title=\"Suggest charts\"\n",
              "            style=\"display:none;\">\n",
              "\n",
              "<svg xmlns=\"http://www.w3.org/2000/svg\" height=\"24px\"viewBox=\"0 0 24 24\"\n",
              "     width=\"24px\">\n",
              "    <g>\n",
              "        <path d=\"M19 3H5c-1.1 0-2 .9-2 2v14c0 1.1.9 2 2 2h14c1.1 0 2-.9 2-2V5c0-1.1-.9-2-2-2zM9 17H7v-7h2v7zm4 0h-2V7h2v10zm4 0h-2v-4h2v4z\"/>\n",
              "    </g>\n",
              "</svg>\n",
              "  </button>\n",
              "\n",
              "<style>\n",
              "  .colab-df-quickchart {\n",
              "      --bg-color: #E8F0FE;\n",
              "      --fill-color: #1967D2;\n",
              "      --hover-bg-color: #E2EBFA;\n",
              "      --hover-fill-color: #174EA6;\n",
              "      --disabled-fill-color: #AAA;\n",
              "      --disabled-bg-color: #DDD;\n",
              "  }\n",
              "\n",
              "  [theme=dark] .colab-df-quickchart {\n",
              "      --bg-color: #3B4455;\n",
              "      --fill-color: #D2E3FC;\n",
              "      --hover-bg-color: #434B5C;\n",
              "      --hover-fill-color: #FFFFFF;\n",
              "      --disabled-bg-color: #3B4455;\n",
              "      --disabled-fill-color: #666;\n",
              "  }\n",
              "\n",
              "  .colab-df-quickchart {\n",
              "    background-color: var(--bg-color);\n",
              "    border: none;\n",
              "    border-radius: 50%;\n",
              "    cursor: pointer;\n",
              "    display: none;\n",
              "    fill: var(--fill-color);\n",
              "    height: 32px;\n",
              "    padding: 0;\n",
              "    width: 32px;\n",
              "  }\n",
              "\n",
              "  .colab-df-quickchart:hover {\n",
              "    background-color: var(--hover-bg-color);\n",
              "    box-shadow: 0 1px 2px rgba(60, 64, 67, 0.3), 0 1px 3px 1px rgba(60, 64, 67, 0.15);\n",
              "    fill: var(--button-hover-fill-color);\n",
              "  }\n",
              "\n",
              "  .colab-df-quickchart-complete:disabled,\n",
              "  .colab-df-quickchart-complete:disabled:hover {\n",
              "    background-color: var(--disabled-bg-color);\n",
              "    fill: var(--disabled-fill-color);\n",
              "    box-shadow: none;\n",
              "  }\n",
              "\n",
              "  .colab-df-spinner {\n",
              "    border: 2px solid var(--fill-color);\n",
              "    border-color: transparent;\n",
              "    border-bottom-color: var(--fill-color);\n",
              "    animation:\n",
              "      spin 1s steps(1) infinite;\n",
              "  }\n",
              "\n",
              "  @keyframes spin {\n",
              "    0% {\n",
              "      border-color: transparent;\n",
              "      border-bottom-color: var(--fill-color);\n",
              "      border-left-color: var(--fill-color);\n",
              "    }\n",
              "    20% {\n",
              "      border-color: transparent;\n",
              "      border-left-color: var(--fill-color);\n",
              "      border-top-color: var(--fill-color);\n",
              "    }\n",
              "    30% {\n",
              "      border-color: transparent;\n",
              "      border-left-color: var(--fill-color);\n",
              "      border-top-color: var(--fill-color);\n",
              "      border-right-color: var(--fill-color);\n",
              "    }\n",
              "    40% {\n",
              "      border-color: transparent;\n",
              "      border-right-color: var(--fill-color);\n",
              "      border-top-color: var(--fill-color);\n",
              "    }\n",
              "    60% {\n",
              "      border-color: transparent;\n",
              "      border-right-color: var(--fill-color);\n",
              "    }\n",
              "    80% {\n",
              "      border-color: transparent;\n",
              "      border-right-color: var(--fill-color);\n",
              "      border-bottom-color: var(--fill-color);\n",
              "    }\n",
              "    90% {\n",
              "      border-color: transparent;\n",
              "      border-bottom-color: var(--fill-color);\n",
              "    }\n",
              "  }\n",
              "</style>\n",
              "\n",
              "  <script>\n",
              "    async function quickchart(key) {\n",
              "      const quickchartButtonEl =\n",
              "        document.querySelector('#' + key + ' button');\n",
              "      quickchartButtonEl.disabled = true;  // To prevent multiple clicks.\n",
              "      quickchartButtonEl.classList.add('colab-df-spinner');\n",
              "      try {\n",
              "        const charts = await google.colab.kernel.invokeFunction(\n",
              "            'suggestCharts', [key], {});\n",
              "      } catch (error) {\n",
              "        console.error('Error during call to suggestCharts:', error);\n",
              "      }\n",
              "      quickchartButtonEl.classList.remove('colab-df-spinner');\n",
              "      quickchartButtonEl.classList.add('colab-df-quickchart-complete');\n",
              "    }\n",
              "    (() => {\n",
              "      let quickchartButtonEl =\n",
              "        document.querySelector('#df-c3f66171-948b-4959-acea-2b91e2b17ed0 button');\n",
              "      quickchartButtonEl.style.display =\n",
              "        google.colab.kernel.accessAllowed ? 'block' : 'none';\n",
              "    })();\n",
              "  </script>\n",
              "</div>\n",
              "    </div>\n",
              "  </div>\n"
            ]
          },
          "metadata": {},
          "execution_count": 10
        }
      ]
    },
    {
      "cell_type": "markdown",
      "source": [
        "# Analyse"
      ],
      "metadata": {
        "id": "9WaMVjvcrDv-"
      }
    },
    {
      "cell_type": "markdown",
      "source": [
        "## Start work on the cleaned df"
      ],
      "metadata": {
        "id": "ioSMfXgiasMQ"
      }
    },
    {
      "cell_type": "code",
      "source": [
        "# analyse the sentiment in a randon tweet\n",
        "tweet_biden = TextBlob(biden['text'][5])\n",
        "tweet_biden.sentiment"
      ],
      "metadata": {
        "colab": {
          "base_uri": "https://localhost:8080/"
        },
        "id": "IRkKyzjg0DhI",
        "outputId": "8186655e-a545-4c75-c45b-87e12813a9ab"
      },
      "execution_count": 12,
      "outputs": [
        {
          "output_type": "execute_result",
          "data": {
            "text/plain": [
              "Sentiment(polarity=0.03333333333333333, subjectivity=0.19999999999999998)"
            ]
          },
          "metadata": {},
          "execution_count": 12
        }
      ]
    },
    {
      "cell_type": "code",
      "source": [
        "biden['text'][5]"
      ],
      "metadata": {
        "colab": {
          "base_uri": "https://localhost:8080/",
          "height": 35
        },
        "id": "U082AZuYcWAJ",
        "outputId": "d8f239ec-cc72-4d88-951a-c4d5c89fc310"
      },
      "execution_count": 55,
      "outputs": [
        {
          "output_type": "execute_result",
          "data": {
            "text/plain": [
              "'@JoeBiden #ALL LIVES MATTER #HUMAN RIGHTS HELP FOR YOUNG MATTEO BENASSI FOR HUMAN RIGHTS FROM ITALY/EUROPE..A PRERO… https://t.co/M94qYHUUs4'"
            ],
            "application/vnd.google.colaboratory.intrinsic+json": {
              "type": "string"
            }
          },
          "metadata": {},
          "execution_count": 55
        }
      ]
    },
    {
      "cell_type": "markdown",
      "source": [
        "**Polarity: 0.0333**\n",
        "We observed a positive but very low value, very close to neutral.\n",
        "\n",
        "\n",
        "**Subjectivity: 0.2**\n",
        "The value is also low and this means that the tweet is more objective than opinionated.\n",
        "\n",
        "Overall this tweet suggests that the sentiment is positive and perhaps a fact"
      ],
      "metadata": {
        "id": "kZL2sD5GcFtW"
      }
    },
    {
      "cell_type": "code",
      "source": [
        "# analyse the sentiment in a randon tweet\n",
        "tweet_trump = TextBlob(trump['text'][2])\n",
        "tweet_trump.sentiment"
      ],
      "metadata": {
        "colab": {
          "base_uri": "https://localhost:8080/"
        },
        "id": "0GoLD5au0JPw",
        "outputId": "e7ac0e11-5b3e-4d6c-8220-cc7c5eca00f4"
      },
      "execution_count": 13,
      "outputs": [
        {
          "output_type": "execute_result",
          "data": {
            "text/plain": [
              "Sentiment(polarity=-0.5, subjectivity=0.6)"
            ]
          },
          "metadata": {},
          "execution_count": 13
        }
      ]
    },
    {
      "cell_type": "code",
      "source": [
        "trump['text'][2]"
      ],
      "metadata": {
        "colab": {
          "base_uri": "https://localhost:8080/",
          "height": 35
        },
        "id": "qt9QnntBcYeA",
        "outputId": "8b517fc1-2aac-4cdb-b0cb-e94734a911d4"
      },
      "execution_count": 15,
      "outputs": [
        {
          "output_type": "execute_result",
          "data": {
            "text/plain": [
              "' Your AG Barr is as useless &amp; corrupt as you are     Rep. Pramila Jayapal #SheGotItRight'"
            ],
            "application/vnd.google.colaboratory.intrinsic+json": {
              "type": "string"
            }
          },
          "metadata": {},
          "execution_count": 15
        }
      ]
    },
    {
      "cell_type": "markdown",
      "source": [
        "**Polarity: -0.5**\n",
        "We observed polarity is negative, indicating a more negative sentiment\n",
        "\n",
        "**Subjectivity: 0.6**\n",
        "The subjectivity is moderate, suggesting maybe an opinion tone.\n",
        "\n",
        "\n",
        "This tweet suggests a negative sentiment, with the tweet being moderately subjective or opinionated."
      ],
      "metadata": {
        "id": "InBWldTmcii8"
      }
    },
    {
      "cell_type": "code",
      "source": [
        "# calculate sentiment for all tweets\n",
        "def calculate_sentiment(review):\n",
        "  analysis = TextBlob(review).sentiment\n",
        "  return pd.Series({'Sentiment Polarity': analysis.polarity, 'Sentiment Subjectivity': analysis.subjectivity})"
      ],
      "metadata": {
        "id": "INeL5nT6dmVu"
      },
      "execution_count": 16,
      "outputs": []
    },
    {
      "cell_type": "code",
      "source": [
        "# apply the sentiment columns to trump df\n",
        "trump[['polarity', 'subjectivity']] = trump['clean_text'].apply(calculate_sentiment)\n",
        "print(trump.head())"
      ],
      "metadata": {
        "colab": {
          "base_uri": "https://localhost:8080/"
        },
        "id": "syev51obeno1",
        "outputId": "e427cc70-bc32-45bf-e80b-325d439aabf3"
      },
      "execution_count": 17,
      "outputs": [
        {
          "output_type": "stream",
          "name": "stdout",
          "text": [
            "              user                                               text  \\\n",
            "0      manny_rosen   @sanofi please tell us how many shares the Cr...   \n",
            "1        osi_abdul   https://t.co/atM98CpqF7  Like, comment, RT #P...   \n",
            "2          Patsyrw   Your AG Barr is as useless &amp; corrupt as y...   \n",
            "3  seyedebrahimi_m   Mr. Trump! Wake Up!  Most of the comments bel...   \n",
            "4    James09254677   After 4 years you think you would have figure...   \n",
            "\n",
            "                                          clean_text  polarity  subjectivity  \n",
            "0  ['sankei', 'please', 'tell', 'u', 'many', 'sha...      0.05         0.525  \n",
            "1  ['like', 'comment', 'rt', 'prayer4tachantitans...      0.00         0.000  \n",
            "2  ['ag', 'barr', 'useless', 'amp', 'corrupt', 'r...     -0.50         0.600  \n",
            "3  ['mr', 'trump', 'wake', 'comment', 'tweet', 'n...      0.00         0.000  \n",
            "4  ['4', 'year', 'think', 'would', 'figured', 'ho...      0.00         0.000  \n"
          ]
        }
      ]
    },
    {
      "cell_type": "code",
      "source": [
        "# apply the sentiment columns\n",
        "biden[['polarity', 'subjectivity']] = biden['clean_text'].apply(calculate_sentiment)\n",
        "print(biden.head())"
      ],
      "metadata": {
        "colab": {
          "base_uri": "https://localhost:8080/"
        },
        "id": "Xo6c0uvEeuii",
        "outputId": "62a1531a-f82d-4f52-b6b6-52414a06d33e"
      },
      "execution_count": 18,
      "outputs": [
        {
          "output_type": "stream",
          "name": "stdout",
          "text": [
            "           user                                               text  \\\n",
            "0   MarkHodder3    @JoeBiden And we’ll find out who won in 2026...   \n",
            "1    K87327961G  @JoeBiden Your Democratic Nazi Party cannot be...   \n",
            "2      OldlaceA                        @JoeBiden So did Lying Barr   \n",
            "3    penblogger  @JoeBiden It's clear you didnt compose this tw...   \n",
            "4  Aquarian0264         @JoeBiden I will vote in person thank you.   \n",
            "\n",
            "                                          clean_text  polarity  subjectivity  \n",
            "0                       ['joebiden', 'find', '2026']      0.00         0.000  \n",
            "1  ['joebiden', 'democratic', 'nazi', 'party', 'c...      0.00         0.000  \n",
            "2                      ['joebiden', 'lying', 'barr']      0.00         0.000  \n",
            "3  ['joebiden', 'clear', 'didnt', 'compose', 'twe...      0.05         0.225  \n",
            "4            ['joebiden', 'vote', 'person', 'thank']      0.00         0.000  \n"
          ]
        }
      ]
    },
    {
      "cell_type": "code",
      "source": [
        "# new column opinion label based on the sentiment polarity\n",
        "trump[\"opinion_label\"] = np.where(trump[\"polarity\"] > 0, \"positive\", \"negative\")\n",
        "trump.loc[trump[\"polarity\"] == 0, \"opinion_label\"] = \"neutral\"\n",
        "\n",
        "print(trump.head())"
      ],
      "metadata": {
        "colab": {
          "base_uri": "https://localhost:8080/"
        },
        "id": "hJ2gAQ5fgUld",
        "outputId": "2ea3cfba-e628-424c-8fd2-d85927462867"
      },
      "execution_count": 19,
      "outputs": [
        {
          "output_type": "stream",
          "name": "stdout",
          "text": [
            "              user                                               text  \\\n",
            "0      manny_rosen   @sanofi please tell us how many shares the Cr...   \n",
            "1        osi_abdul   https://t.co/atM98CpqF7  Like, comment, RT #P...   \n",
            "2          Patsyrw   Your AG Barr is as useless &amp; corrupt as y...   \n",
            "3  seyedebrahimi_m   Mr. Trump! Wake Up!  Most of the comments bel...   \n",
            "4    James09254677   After 4 years you think you would have figure...   \n",
            "\n",
            "                                          clean_text  polarity  subjectivity  \\\n",
            "0  ['sankei', 'please', 'tell', 'u', 'many', 'sha...      0.05         0.525   \n",
            "1  ['like', 'comment', 'rt', 'prayer4tachantitans...      0.00         0.000   \n",
            "2  ['ag', 'barr', 'useless', 'amp', 'corrupt', 'r...     -0.50         0.600   \n",
            "3  ['mr', 'trump', 'wake', 'comment', 'tweet', 'n...      0.00         0.000   \n",
            "4  ['4', 'year', 'think', 'would', 'figured', 'ho...      0.00         0.000   \n",
            "\n",
            "  opinion_label  \n",
            "0      positive  \n",
            "1       neutral  \n",
            "2      negative  \n",
            "3       neutral  \n",
            "4       neutral  \n"
          ]
        }
      ]
    },
    {
      "cell_type": "code",
      "source": [
        "# new column opinion label based on the sentiment polarity\n",
        "biden[\"opinion_label\"] = np.where(biden[\"polarity\"] > 0, \"positive\", \"negative\")\n",
        "biden.loc[biden[\"polarity\"] == 0, \"opinion_label\"] = \"neutral\"\n",
        "\n",
        "print(biden.head())"
      ],
      "metadata": {
        "colab": {
          "base_uri": "https://localhost:8080/"
        },
        "id": "r95XaFOVgwi2",
        "outputId": "1a5f39b1-9fa9-475d-a6be-b6f9e8d596a8"
      },
      "execution_count": 20,
      "outputs": [
        {
          "output_type": "stream",
          "name": "stdout",
          "text": [
            "           user                                               text  \\\n",
            "0   MarkHodder3    @JoeBiden And we’ll find out who won in 2026...   \n",
            "1    K87327961G  @JoeBiden Your Democratic Nazi Party cannot be...   \n",
            "2      OldlaceA                        @JoeBiden So did Lying Barr   \n",
            "3    penblogger  @JoeBiden It's clear you didnt compose this tw...   \n",
            "4  Aquarian0264         @JoeBiden I will vote in person thank you.   \n",
            "\n",
            "                                          clean_text  polarity  subjectivity  \\\n",
            "0                       ['joebiden', 'find', '2026']      0.00         0.000   \n",
            "1  ['joebiden', 'democratic', 'nazi', 'party', 'c...      0.00         0.000   \n",
            "2                      ['joebiden', 'lying', 'barr']      0.00         0.000   \n",
            "3  ['joebiden', 'clear', 'didnt', 'compose', 'twe...      0.05         0.225   \n",
            "4            ['joebiden', 'vote', 'person', 'thank']      0.00         0.000   \n",
            "\n",
            "  opinion_label  \n",
            "0       neutral  \n",
            "1       neutral  \n",
            "2       neutral  \n",
            "3      positive  \n",
            "4       neutral  \n"
          ]
        }
      ]
    },
    {
      "cell_type": "markdown",
      "source": [
        "# Plots"
      ],
      "metadata": {
        "id": "eSMfxntWrHp4"
      }
    },
    {
      "cell_type": "code",
      "source": [
        "# Plot labels\n",
        "ax = trump['opinion_label'].value_counts().plot(kind='bar', color=['grey', 'green', 'red'])\n",
        "plt.title('Distribution of Sentiment Labels- Trump')\n",
        "plt.xlabel('Sentiment Label')\n",
        "plt.ylabel('Frequency')\n",
        "for p in ax.patches:\n",
        "    ax.annotate(str(p.get_height()), (p.get_x() + p.get_width() / 2., p.get_height()),\n",
        "                ha='center', va='center', xytext=(0, 10), textcoords='offset points')\n",
        "\n",
        "plt.show()\n"
      ],
      "metadata": {
        "colab": {
          "base_uri": "https://localhost:8080/",
          "height": 519
        },
        "id": "3QaIsSr_g-_M",
        "outputId": "e2916a9b-ec5f-4b27-f815-2685e6ce0ffe"
      },
      "execution_count": 21,
      "outputs": [
        {
          "output_type": "display_data",
          "data": {
            "text/plain": [
              "<Figure size 640x480 with 1 Axes>"
            ],
            "image/png": "[encoded data removed]"
          },
          "metadata": {}
        }
      ]
    },
    {
      "cell_type": "markdown",
      "source": [
        "We have 1473 neutral tweets, 722 positives and 591 negatives"
      ],
      "metadata": {
        "id": "EzktuYGni2Z6"
      }
    },
    {
      "cell_type": "code",
      "source": [
        "# Plot labels\n",
        "ax = biden['opinion_label'].value_counts().plot(kind='bar', color=['grey', 'green', 'red'])\n",
        "plt.title('Distribution of Sentiment Labels - Biden ')\n",
        "plt.xlabel('Sentiment Label')\n",
        "plt.ylabel('Frequency')\n",
        "for p in ax.patches:\n",
        "    ax.annotate(str(p.get_height()), (p.get_x() + p.get_width() / 2., p.get_height()),\n",
        "                ha='center', va='center', xytext=(0, 10), textcoords='offset points')\n",
        "\n",
        "plt.show()\n"
      ],
      "metadata": {
        "colab": {
          "base_uri": "https://localhost:8080/",
          "height": 519
        },
        "id": "p7z-ohM0hgec",
        "outputId": "7d05bb30-0124-4ea3-c7a9-6f5e1b8bd9c7"
      },
      "execution_count": 22,
      "outputs": [
        {
          "output_type": "display_data",
          "data": {
            "text/plain": [
              "<Figure size 640x480 with 1 Axes>"
            ],
            "image/png": "[encoded data removed]"
          },
          "metadata": {}
        }
      ]
    },
    {
      "cell_type": "markdown",
      "source": [
        "We have 1514 neutral tweets, 633 positives and 393 negatives"
      ],
      "metadata": {
        "id": "rd8OVIDciuQL"
      }
    },
    {
      "cell_type": "code",
      "source": [
        "# filter rows where 'polarity' is 0 in the 'trump' DataFrame\n",
        "polarity_zero_t = trump[trump['polarity'] == 0.0000]\n",
        "\n",
        "# total rows with 'polarity' = 0 and the total number of rows in 'trump'\n",
        "total_rows_polarity_zero_t = polarity_zero_t.shape[0]\n",
        "total_rows_trump = trump.shape[0]\n",
        "\n",
        "# percentage rows 'polarity' = 0 in 'trump'\n",
        "percentage_polarity_zero_t = (total_rows_polarity_zero_t / total_rows_trump) * 100\n",
        "\n",
        "# filter rows where  'subjectivity' is 0 in the 'trump' DataFrame\n",
        "subjectivity_zero_t = trump[trump['subjectivity'] == 0.0000]\n",
        "\n",
        "# total rows with 'subjectivity' = 0 and the total number of rows in 'trump'\n",
        "total_rows_subjectivity_zero_t = subjectivity_zero_t.shape[0]\n",
        "\n",
        "# percentage of rows with 'subjectivity' = 0 in 'trump'\n",
        "percentage_subjectivity_zero_t = (total_rows_subjectivity_zero_t / total_rows_trump) * 100\n",
        "\n",
        "# Print the results for 'trump'\n",
        "print(\"Total number of rows with 'polarity' = 0 in 'trump':\", total_rows_polarity_zero_t)\n",
        "print(\"Percentage of rows with 'polarity' = 0 in 'trump': {:.2f}%\".format(percentage_polarity_zero_t))\n",
        "print(\"Total number of rows with 'subjectivity' = 0 in 'trump':\", total_rows_subjectivity_zero_t)\n",
        "print(\"Percentage of rows with 'subjectivity' = 0 in 'trump': {:.2f}%\".format(percentage_subjectivity_zero_t))\n"
      ],
      "metadata": {
        "colab": {
          "base_uri": "https://localhost:8080/"
        },
        "id": "N7ukwYcwk4__",
        "outputId": "0287c499-3e24-4e45-939b-e4de0c20b947"
      },
      "execution_count": 23,
      "outputs": [
        {
          "output_type": "stream",
          "name": "stdout",
          "text": [
            "Total number of rows with 'polarity' = 0 in 'trump': 1475\n",
            "Percentage of rows with 'polarity' = 0 in 'trump': 52.91%\n",
            "Total number of rows with 'subjectivity' = 0 in 'trump': 1363\n",
            "Percentage of rows with 'subjectivity' = 0 in 'trump': 48.89%\n"
          ]
        }
      ]
    },
    {
      "cell_type": "code",
      "source": [
        "# filter rows where 'polarity' is 0 in the 'biden' DataFrame\n",
        "polarity_zero_b = biden[biden['polarity'] == 0.0000]\n",
        "\n",
        "# total rows with 'polarity' = 0 and the total number of rows in 'biden'\n",
        "total_rows_polarity_zero_b = polarity_zero_b.shape[0]\n",
        "total_rows_biden = biden.shape[0]\n",
        "\n",
        "# percentage rows 'polarity' = 0 in 'biden'\n",
        "percentage_polarity_zero_b = (total_rows_polarity_zero_b / total_rows_biden) * 100\n",
        "\n",
        "# filter rows where  'subjectivity' is 0 in the 'biden' DataFrame\n",
        "subjectivity_zero_b = biden[biden['subjectivity'] == 0.0000]\n",
        "\n",
        "# total rows with 'subjectivity' = 0 and the total number of rows in 'biden'\n",
        "total_rows_subjectivity_zero_b = subjectivity_zero_b.shape[0]\n",
        "\n",
        "# percentage of rows with 'subjectivity' = 0 in 'biden'\n",
        "percentage_subjectivity_zero_b = (total_rows_subjectivity_zero_b / total_rows_biden) * 100\n",
        "\n",
        "# Print the results for 'biden'\n",
        "print(\"Total number of rows with 'polarity' = 0 in 'biden':\", total_rows_polarity_zero_b)\n",
        "print(\"Percentage of rows with 'polarity' = 0 in 'biden': {:.2f}%\".format(percentage_polarity_zero_b))\n",
        "print(\"Total number of rows with 'subjectivity' = 0 in 'biden':\", total_rows_subjectivity_zero_b)\n",
        "print(\"Percentage of rows with 'subjectivity' = 0 in 'biden': {:.2f}%\".format(percentage_subjectivity_zero_b))\n"
      ],
      "metadata": {
        "colab": {
          "base_uri": "https://localhost:8080/"
        },
        "id": "mzb82hRwjMwA",
        "outputId": "bd07d6c2-cc1f-46d2-f260-4246087daf8d"
      },
      "execution_count": 24,
      "outputs": [
        {
          "output_type": "stream",
          "name": "stdout",
          "text": [
            "Total number of rows with 'polarity' = 0 in 'biden': 1514\n",
            "Percentage of rows with 'polarity' = 0 in 'biden': 59.61%\n",
            "Total number of rows with 'subjectivity' = 0 in 'biden': 1381\n",
            "Percentage of rows with 'subjectivity' = 0 in 'biden': 54.37%\n"
          ]
        }
      ]
    },
    {
      "cell_type": "code",
      "source": [
        "# Trump percentages\n",
        "count_trump = trump.groupby('opinion_label').count()\n",
        "total_samples_trump = len(trump)\n",
        "negative_percentage1 = (count_trump['polarity'][0] / total_samples_trump) * 100\n",
        "positive_percentage1 = (count_trump['polarity'][1] / total_samples_trump) * 100\n"
      ],
      "metadata": {
        "id": "N-Cbs5iWmSu9"
      },
      "execution_count": 25,
      "outputs": []
    },
    {
      "cell_type": "code",
      "source": [
        "# Biden percentages\n",
        "count_biden = biden.groupby('opinion_label').count()\n",
        "total_samples_biden = len(biden)\n",
        "negative_percentage2 = (count_biden['polarity'][0] / total_samples_biden) * 100\n",
        "positive_percentage2 = (count_biden['polarity'][1] / total_samples_biden) * 100"
      ],
      "metadata": {
        "id": "rG2ek-Immw86"
      },
      "execution_count": 26,
      "outputs": []
    },
    {
      "cell_type": "code",
      "source": [
        "# plot\n",
        "politicians = ['Biden', 'Trump']\n",
        "opinion_pos = [positive_percentage1, positive_percentage2]\n",
        "opinion_neg = [negative_percentage1, negative_percentage2]\n",
        "\n",
        "plt.bar(x=politicians, height=opinion_pos, label=\"Positive\")\n",
        "plt.bar(x=politicians, height=opinion_neg, label=\"Negative\", bottom=opinion_pos)\n",
        "plt.legend()\n",
        "plt.title(\"Trump vs Biden\")\n",
        "plt.ylabel(\"percentage\")\n",
        "plt.show()\n"
      ],
      "metadata": {
        "colab": {
          "base_uri": "https://localhost:8080/",
          "height": 452
        },
        "id": "QVVOWUK2myWV",
        "outputId": "66492ab5-5ee7-4ea8-eedd-c968d2bc4fa8"
      },
      "execution_count": 27,
      "outputs": [
        {
          "output_type": "display_data",
          "data": {
            "text/plain": [
              "<Figure size 640x480 with 1 Axes>"
            ],
            "image/png": "[encoded data removed]"
          },
          "metadata": {}
        }
      ]
    },
    {
      "cell_type": "code",
      "source": [
        "# concatenate df\n",
        "\n",
        "# create a column to identify the candidate\n",
        "biden['candidate'] = 'biden'\n",
        "trump['candidate'] = 'trump'\n",
        "\n",
        "# concatenate df\n",
        "df_combined = pd.concat([biden, trump], ignore_index=True)"
      ],
      "metadata": {
        "id": "JQJx98-Dq2zM"
      },
      "execution_count": 28,
      "outputs": []
    },
    {
      "cell_type": "code",
      "source": [
        "# fancy word plot\n",
        "allwords = ' '.join([twts for twts in df_combined['clean_text']])\n",
        "wordcloud = WordCloud(width=500, height=300, random_state=21, max_font_size=119).generate(allwords)\n",
        "\n",
        "plt.imshow(wordcloud, interpolation='bilinear')\n",
        "plt.axis('off')\n",
        "plt.show()\n"
      ],
      "metadata": {
        "colab": {
          "base_uri": "https://localhost:8080/",
          "height": 334
        },
        "id": "AqzR4Xv89Cf2",
        "outputId": "05afaffc-3ef7-4292-b528-6e8c7e7e5ec9"
      },
      "execution_count": 29,
      "outputs": [
        {
          "output_type": "display_data",
          "data": {
            "text/plain": [
              "<Figure size 640x480 with 1 Axes>"
            ],
            "image/png": "[encoded data removed]"
          },
          "metadata": {}
        }
      ]
    },
    {
      "cell_type": "code",
      "source": [
        "plt.figure(figsize=(8, 6))\n",
        "for i in range(0, len(df_combined)):\n",
        "    p = df_combined['polarity'][i]\n",
        "    if p < 0:\n",
        "        plt.scatter(df_combined['polarity'][i], df_combined['subjectivity'][i], color='red', marker='*')\n",
        "    elif p == 0:\n",
        "        plt.scatter(df_combined['polarity'][i], df_combined['subjectivity'][i], color='green', marker='o')\n",
        "    else:\n",
        "        plt.scatter(df_combined['polarity'][i], df_combined['subjectivity'][i], color='blue', marker='+')\n",
        "\n",
        "plt.xlabel('Polarity')\n",
        "plt.ylabel('Subjectivity')\n",
        "plt.title('Sentiment Analysis')\n",
        "plt.show()\n"
      ],
      "metadata": {
        "colab": {
          "base_uri": "https://localhost:8080/",
          "height": 564
        },
        "id": "IOY1nHeX9mL_",
        "outputId": "a880500e-077b-4e53-823c-bde19b31ef9a"
      },
      "execution_count": 30,
      "outputs": [
        {
          "output_type": "display_data",
          "data": {
            "text/plain": [
              "<Figure size 800x600 with 1 Axes>"
            ],
            "image/png": "[encoded data removed]"
          },
          "metadata": {}
        }
      ]
    },
    {
      "cell_type": "markdown",
      "source": [
        "* Polarity < 0 ---> negative tweet\n",
        "* Polarity==0 ---> Neutral tweet\n",
        "* Polarity > 0 ---> Positive tweet\n",
        "\n",
        "The plot using the df combination shows that the positive and negative twwts are very equal, also shows few neutral tweets."
      ],
      "metadata": {
        "id": "VQHH7tgkGbff"
      }
    },
    {
      "cell_type": "code",
      "source": [
        "texts_trump = df_combined[df_combined['candidate'] == 'trump']['clean_text']\n",
        "\n",
        "texts_biden = df_combined[df_combined['candidate'] == 'biden']['clean_text']\n"
      ],
      "metadata": {
        "id": "SF-zi06x-fOI"
      },
      "execution_count": 31,
      "outputs": []
    },
    {
      "cell_type": "code",
      "source": [
        "# convert string representation of lists to actual lists\n",
        "texts_trump = texts_trump.apply(ast.literal_eval)\n",
        "texts_biden = texts_biden.apply(ast.literal_eval)"
      ],
      "metadata": {
        "id": "4nywPka6BGdh"
      },
      "execution_count": 32,
      "outputs": []
    },
    {
      "cell_type": "code",
      "source": [
        "# Word2Vec Trump\n",
        "model_trump = Word2Vec(sentences=texts_trump, vector_size=10, window=1, min_count=1, workers=4)\n",
        "\n",
        "#  Word2Vec Biden\n",
        "model_biden = Word2Vec(sentences=texts_biden, vector_size=10, window=1, min_count=1, workers=4)\n"
      ],
      "metadata": {
        "id": "i8xtYgDNA9lV"
      },
      "execution_count": 33,
      "outputs": []
    },
    {
      "cell_type": "code",
      "source": [
        "# similar words to 'trump'\n",
        "data_sim_trump = model_trump.wv.most_similar('trump', topn=25)\n",
        "x_trump = [i for i, j in data_sim_trump]\n",
        "y_trump = [j for i, j in data_sim_trump]\n",
        "\n",
        "print(\"Words similar to 'trump':\", x_trump)"
      ],
      "metadata": {
        "colab": {
          "base_uri": "https://localhost:8080/"
        },
        "id": "F0cp-6y0BgoP",
        "outputId": "cd6816e3-2a09-49f9-ad7f-345a7c543e9a"
      },
      "execution_count": 34,
      "outputs": [
        {
          "output_type": "stream",
          "name": "stdout",
          "text": [
            "Words similar to 'trump': ['racist', 'democrat', 'right', 'election', 'need', 'losing', 'american', 'u', 'red', 'office', 'like', 'realdonaldtrump', 'one', 'even', 'mail', 'man', 'work', 'really', 'get', 'know', 'would', 'lose', 'day', 'ballot', 'school']\n"
          ]
        }
      ]
    },
    {
      "cell_type": "code",
      "source": [
        "# similar words to 'biden'\n",
        "data_sim_biden = model_biden.wv.most_similar('biden', topn=25)\n",
        "x_biden = [i for i, j in data_sim_biden]\n",
        "y_biden = [j for i, j in data_sim_biden]\n",
        "\n",
        "# Print the similar words to 'biden'\n",
        "print(\"Words similar to 'biden':\", x_biden)\n"
      ],
      "metadata": {
        "colab": {
          "base_uri": "https://localhost:8080/"
        },
        "id": "Zf55tYCKBj5T",
        "outputId": "c18925a5-67e9-40d5-c76c-516905cc3d4c"
      },
      "execution_count": 35,
      "outputs": [
        {
          "output_type": "stream",
          "name": "stdout",
          "text": [
            "Words similar to 'biden': ['please', 'virus', 'joe', 'president', 'see', 'way', 'thank', 'thing', 'right', 'would', 'stop', 'voting', 'country', 'go', 'vp', 'still', 'hand', 'need', 'people', 'american', 'democrat', 'joebiden', 'absentee', 'one', 'world']\n"
          ]
        }
      ]
    },
    {
      "cell_type": "code",
      "source": [
        "fig, ax = plt.subplots(figsize=(6, 6))\n",
        "sns.barplot(x=x_trump, y=y_trump, color=\"salmon\", saturation=.5, ax=ax)\n",
        "ax.set_title('Closest words to Trump')\n",
        "plt.setp(ax.get_xticklabels(), rotation=45, ha=\"right\", rotation_mode=\"anchor\")\n",
        "ax.set_ylim(np.min(y_trump), 1)\n",
        "ax.set_xlabel('Words')\n",
        "ax.set_ylabel('Proportion of similarities')\n",
        "\n",
        "plt.show()\n"
      ],
      "metadata": {
        "colab": {
          "base_uri": "https://localhost:8080/",
          "height": 642
        },
        "id": "_zkPJG9dBrk7",
        "outputId": "8357033f-3d14-4aae-fcd7-547f384755ff"
      },
      "execution_count": 39,
      "outputs": [
        {
          "output_type": "display_data",
          "data": {
            "text/plain": [
              "<Figure size 600x600 with 1 Axes>"
            ],
            "image/png": "[encoded data removed]"
          },
          "metadata": {}
        }
      ]
    },
    {
      "cell_type": "code",
      "source": [
        "fig, ax = plt.subplots(figsize=(6, 6))\n",
        "sns.barplot(x=x_biden, y=y_biden, color=\"blue\", saturation=.5, ax=ax)\n",
        "ax.set_title('Closest words to Biden')\n",
        "plt.setp(ax.get_xticklabels(), rotation=45, ha=\"right\", rotation_mode=\"anchor\")\n",
        "ax.set_ylim(np.min(y_biden), 1)\n",
        "ax.set_xlabel('Words')\n",
        "ax.set_ylabel('Proportion of similarities')\n",
        "\n",
        "plt.show()\n"
      ],
      "metadata": {
        "colab": {
          "base_uri": "https://localhost:8080/",
          "height": 607
        },
        "id": "0ONNnnEmCEc7",
        "outputId": "75cb1c93-a027-4025-90f4-a0340dafbbd2"
      },
      "execution_count": 40,
      "outputs": [
        {
          "output_type": "display_data",
          "data": {
            "text/plain": [
              "<Figure size 600x600 with 1 Axes>"
            ],
            "image/png": "[encoded data removed]"
          },
          "metadata": {}
        }
      ]
    },
    {
      "cell_type": "markdown",
      "source": [
        "Pre processing data"
      ],
      "metadata": {
        "id": "zNy8_OZPqzX7"
      }
    },
    {
      "cell_type": "code",
      "source": [
        "df_combined.tail()"
      ],
      "metadata": {
        "colab": {
          "base_uri": "https://localhost:8080/",
          "height": 206
        },
        "id": "Dr0NtUqYrkvy",
        "outputId": "3ba252a0-7c47-44c2-d210-d95aabbc5ceb"
      },
      "execution_count": 41,
      "outputs": [
        {
          "output_type": "execute_result",
          "data": {
            "text/plain": [
              "                 user                                               text  \\\n",
              "5323          4diva63  @realDonaldTrump For the 1/100 time, absentee ...   \n",
              "5324         hidge826  @realDonaldTrump If you’re so scared of losing...   \n",
              "5325     SpencerRossy  @realDonaldTrump I rarely get involved with fo...   \n",
              "5326  ScoobyMcpherson  @realDonaldTrump This is the moment when Trump...   \n",
              "5327          bjklinz     @realDonaldTrump I’m sorry, Donald. No. #POTUS   \n",
              "\n",
              "                                             clean_text  polarity  \\\n",
              "5323  ['realdonaldtrump', '1', '100', 'time', 'absen...     0.000   \n",
              "5324  ['realdonaldtrump', 'scared', 'losing', 'resign']     0.000   \n",
              "5325  ['realdonaldtrump', 'rarely', 'get', 'involved...     0.225   \n",
              "5326  ['realdonaldtrump', 'moment', 'trump', 'begin'...     0.000   \n",
              "5327      ['realdonaldtrump', 'sorry', 'donald', 'pot']    -0.500   \n",
              "\n",
              "      subjectivity opinion_label candidate  \n",
              "5323      0.250000       neutral     trump  \n",
              "5324      0.000000       neutral     trump  \n",
              "5325      0.637963      positive     trump  \n",
              "5326      0.000000       neutral     trump  \n",
              "5327      1.000000      negative     trump  "
            ],
            "text/html": [
              "\n",
              "  <div id=\"df-6e6f9f14-629b-4830-9b54-96f90d704eba\" class=\"colab-df-container\">\n",
              "    <div>\n",
              "<style scoped>\n",
              "    .dataframe tbody tr th:only-of-type {\n",
              "        vertical-align: middle;\n",
              "    }\n",
              "\n",
              "    .dataframe tbody tr th {\n",
              "        vertical-align: top;\n",
              "    }\n",
              "\n",
              "    .dataframe thead th {\n",
              "        text-align: right;\n",
              "    }\n",
              "</style>\n",
              "<table border=\"1\" class=\"dataframe\">\n",
              "  <thead>\n",
              "    <tr style=\"text-align: right;\">\n",
              "      <th></th>\n",
              "      <th>user</th>\n",
              "      <th>text</th>\n",
              "      <th>clean_text</th>\n",
              "      <th>polarity</th>\n",
              "      <th>subjectivity</th>\n",
              "      <th>opinion_label</th>\n",
              "      <th>candidate</th>\n",
              "    </tr>\n",
              "  </thead>\n",
              "  <tbody>\n",
              "    <tr>\n",
              "      <th>5323</th>\n",
              "      <td>4diva63</td>\n",
              "      <td>@realDonaldTrump For the 1/100 time, absentee ...</td>\n",
              "      <td>['realdonaldtrump', '1', '100', 'time', 'absen...</td>\n",
              "      <td>0.000</td>\n",
              "      <td>0.250000</td>\n",
              "      <td>neutral</td>\n",
              "      <td>trump</td>\n",
              "    </tr>\n",
              "    <tr>\n",
              "      <th>5324</th>\n",
              "      <td>hidge826</td>\n",
              "      <td>@realDonaldTrump If you’re so scared of losing...</td>\n",
              "      <td>['realdonaldtrump', 'scared', 'losing', 'resign']</td>\n",
              "      <td>0.000</td>\n",
              "      <td>0.000000</td>\n",
              "      <td>neutral</td>\n",
              "      <td>trump</td>\n",
              "    </tr>\n",
              "    <tr>\n",
              "      <th>5325</th>\n",
              "      <td>SpencerRossy</td>\n",
              "      <td>@realDonaldTrump I rarely get involved with fo...</td>\n",
              "      <td>['realdonaldtrump', 'rarely', 'get', 'involved...</td>\n",
              "      <td>0.225</td>\n",
              "      <td>0.637963</td>\n",
              "      <td>positive</td>\n",
              "      <td>trump</td>\n",
              "    </tr>\n",
              "    <tr>\n",
              "      <th>5326</th>\n",
              "      <td>ScoobyMcpherson</td>\n",
              "      <td>@realDonaldTrump This is the moment when Trump...</td>\n",
              "      <td>['realdonaldtrump', 'moment', 'trump', 'begin'...</td>\n",
              "      <td>0.000</td>\n",
              "      <td>0.000000</td>\n",
              "      <td>neutral</td>\n",
              "      <td>trump</td>\n",
              "    </tr>\n",
              "    <tr>\n",
              "      <th>5327</th>\n",
              "      <td>bjklinz</td>\n",
              "      <td>@realDonaldTrump I’m sorry, Donald. No. #POTUS</td>\n",
              "      <td>['realdonaldtrump', 'sorry', 'donald', 'pot']</td>\n",
              "      <td>-0.500</td>\n",
              "      <td>1.000000</td>\n",
              "      <td>negative</td>\n",
              "      <td>trump</td>\n",
              "    </tr>\n",
              "  </tbody>\n",
              "</table>\n",
              "</div>\n",
              "    <div class=\"colab-df-buttons\">\n",
              "\n",
              "  <div class=\"colab-df-container\">\n",
              "    <button class=\"colab-df-convert\" onclick=\"convertToInteractive('df-6e6f9f14-629b-4830-9b54-96f90d704eba')\"\n",
              "            title=\"Convert this dataframe to an interactive table.\"\n",
              "            style=\"display:none;\">\n",
              "\n",
              "  <svg xmlns=\"http://www.w3.org/2000/svg\" height=\"24px\" viewBox=\"0 -960 960 960\">\n",
              "    <path d=\"M120-120v-720h720v720H120Zm60-500h600v-160H180v160Zm220 220h160v-160H400v160Zm0 220h160v-160H400v160ZM180-400h160v-160H180v160Zm440 0h160v-160H620v160ZM180-180h160v-160H180v160Zm440 0h160v-160H620v160Z\"/>\n",
              "  </svg>\n",
              "    </button>\n",
              "\n",
              "  <style>\n",
              "    .colab-df-container {\n",
              "      display:flex;\n",
              "      gap: 12px;\n",
              "    }\n",
              "\n",
              "    .colab-df-convert {\n",
              "      background-color: #E8F0FE;\n",
              "      border: none;\n",
              "      border-radius: 50%;\n",
              "      cursor: pointer;\n",
              "      display: none;\n",
              "      fill: #1967D2;\n",
              "      height: 32px;\n",
              "      padding: 0 0 0 0;\n",
              "      width: 32px;\n",
              "    }\n",
              "\n",
              "    .colab-df-convert:hover {\n",
              "      background-color: #E2EBFA;\n",
              "      box-shadow: 0px 1px 2px rgba(60, 64, 67, 0.3), 0px 1px 3px 1px rgba(60, 64, 67, 0.15);\n",
              "      fill: #174EA6;\n",
              "    }\n",
              "\n",
              "    .colab-df-buttons div {\n",
              "      margin-bottom: 4px;\n",
              "    }\n",
              "\n",
              "    [theme=dark] .colab-df-convert {\n",
              "      background-color: #3B4455;\n",
              "      fill: #D2E3FC;\n",
              "    }\n",
              "\n",
              "    [theme=dark] .colab-df-convert:hover {\n",
              "      background-color: #434B5C;\n",
              "      box-shadow: 0px 1px 3px 1px rgba(0, 0, 0, 0.15);\n",
              "      filter: drop-shadow(0px 1px 2px rgba(0, 0, 0, 0.3));\n",
              "      fill: #FFFFFF;\n",
              "    }\n",
              "  </style>\n",
              "\n",
              "    <script>\n",
              "      const buttonEl =\n",
              "        document.querySelector('#df-6e6f9f14-629b-4830-9b54-96f90d704eba button.colab-df-convert');\n",
              "      buttonEl.style.display =\n",
              "        google.colab.kernel.accessAllowed ? 'block' : 'none';\n",
              "\n",
              "      async function convertToInteractive(key) {\n",
              "        const element = document.querySelector('#df-6e6f9f14-629b-4830-9b54-96f90d704eba');\n",
              "        const dataTable =\n",
              "          await google.colab.kernel.invokeFunction('convertToInteractive',\n",
              "                                                    [key], {});\n",
              "        if (!dataTable) return;\n",
              "\n",
              "        const docLinkHtml = 'Like what you see? Visit the ' +\n",
              "          '<a target=\"_blank\" href=https://colab.research.google.com/notebooks/data_table.ipynb>data table notebook</a>'\n",
              "          + ' to learn more about interactive tables.';\n",
              "        element.innerHTML = '';\n",
              "        dataTable['output_type'] = 'display_data';\n",
              "        await google.colab.output.renderOutput(dataTable, element);\n",
              "        const docLink = document.createElement('div');\n",
              "        docLink.innerHTML = docLinkHtml;\n",
              "        element.appendChild(docLink);\n",
              "      }\n",
              "    </script>\n",
              "  </div>\n",
              "\n",
              "\n",
              "<div id=\"df-9693bef8-e180-44d4-8dd5-5e2856de6c11\">\n",
              "  <button class=\"colab-df-quickchart\" onclick=\"quickchart('df-9693bef8-e180-44d4-8dd5-5e2856de6c11')\"\n",
              "            title=\"Suggest charts\"\n",
              "            style=\"display:none;\">\n",
              "\n",
              "<svg xmlns=\"http://www.w3.org/2000/svg\" height=\"24px\"viewBox=\"0 0 24 24\"\n",
              "     width=\"24px\">\n",
              "    <g>\n",
              "        <path d=\"M19 3H5c-1.1 0-2 .9-2 2v14c0 1.1.9 2 2 2h14c1.1 0 2-.9 2-2V5c0-1.1-.9-2-2-2zM9 17H7v-7h2v7zm4 0h-2V7h2v10zm4 0h-2v-4h2v4z\"/>\n",
              "    </g>\n",
              "</svg>\n",
              "  </button>\n",
              "\n",
              "<style>\n",
              "  .colab-df-quickchart {\n",
              "      --bg-color: #E8F0FE;\n",
              "      --fill-color: #1967D2;\n",
              "      --hover-bg-color: #E2EBFA;\n",
              "      --hover-fill-color: #174EA6;\n",
              "      --disabled-fill-color: #AAA;\n",
              "      --disabled-bg-color: #DDD;\n",
              "  }\n",
              "\n",
              "  [theme=dark] .colab-df-quickchart {\n",
              "      --bg-color: #3B4455;\n",
              "      --fill-color: #D2E3FC;\n",
              "      --hover-bg-color: #434B5C;\n",
              "      --hover-fill-color: #FFFFFF;\n",
              "      --disabled-bg-color: #3B4455;\n",
              "      --disabled-fill-color: #666;\n",
              "  }\n",
              "\n",
              "  .colab-df-quickchart {\n",
              "    background-color: var(--bg-color);\n",
              "    border: none;\n",
              "    border-radius: 50%;\n",
              "    cursor: pointer;\n",
              "    display: none;\n",
              "    fill: var(--fill-color);\n",
              "    height: 32px;\n",
              "    padding: 0;\n",
              "    width: 32px;\n",
              "  }\n",
              "\n",
              "  .colab-df-quickchart:hover {\n",
              "    background-color: var(--hover-bg-color);\n",
              "    box-shadow: 0 1px 2px rgba(60, 64, 67, 0.3), 0 1px 3px 1px rgba(60, 64, 67, 0.15);\n",
              "    fill: var(--button-hover-fill-color);\n",
              "  }\n",
              "\n",
              "  .colab-df-quickchart-complete:disabled,\n",
              "  .colab-df-quickchart-complete:disabled:hover {\n",
              "    background-color: var(--disabled-bg-color);\n",
              "    fill: var(--disabled-fill-color);\n",
              "    box-shadow: none;\n",
              "  }\n",
              "\n",
              "  .colab-df-spinner {\n",
              "    border: 2px solid var(--fill-color);\n",
              "    border-color: transparent;\n",
              "    border-bottom-color: var(--fill-color);\n",
              "    animation:\n",
              "      spin 1s steps(1) infinite;\n",
              "  }\n",
              "\n",
              "  @keyframes spin {\n",
              "    0% {\n",
              "      border-color: transparent;\n",
              "      border-bottom-color: var(--fill-color);\n",
              "      border-left-color: var(--fill-color);\n",
              "    }\n",
              "    20% {\n",
              "      border-color: transparent;\n",
              "      border-left-color: var(--fill-color);\n",
              "      border-top-color: var(--fill-color);\n",
              "    }\n",
              "    30% {\n",
              "      border-color: transparent;\n",
              "      border-left-color: var(--fill-color);\n",
              "      border-top-color: var(--fill-color);\n",
              "      border-right-color: var(--fill-color);\n",
              "    }\n",
              "    40% {\n",
              "      border-color: transparent;\n",
              "      border-right-color: var(--fill-color);\n",
              "      border-top-color: var(--fill-color);\n",
              "    }\n",
              "    60% {\n",
              "      border-color: transparent;\n",
              "      border-right-color: var(--fill-color);\n",
              "    }\n",
              "    80% {\n",
              "      border-color: transparent;\n",
              "      border-right-color: var(--fill-color);\n",
              "      border-bottom-color: var(--fill-color);\n",
              "    }\n",
              "    90% {\n",
              "      border-color: transparent;\n",
              "      border-bottom-color: var(--fill-color);\n",
              "    }\n",
              "  }\n",
              "</style>\n",
              "\n",
              "  <script>\n",
              "    async function quickchart(key) {\n",
              "      const quickchartButtonEl =\n",
              "        document.querySelector('#' + key + ' button');\n",
              "      quickchartButtonEl.disabled = true;  // To prevent multiple clicks.\n",
              "      quickchartButtonEl.classList.add('colab-df-spinner');\n",
              "      try {\n",
              "        const charts = await google.colab.kernel.invokeFunction(\n",
              "            'suggestCharts', [key], {});\n",
              "      } catch (error) {\n",
              "        console.error('Error during call to suggestCharts:', error);\n",
              "      }\n",
              "      quickchartButtonEl.classList.remove('colab-df-spinner');\n",
              "      quickchartButtonEl.classList.add('colab-df-quickchart-complete');\n",
              "    }\n",
              "    (() => {\n",
              "      let quickchartButtonEl =\n",
              "        document.querySelector('#df-9693bef8-e180-44d4-8dd5-5e2856de6c11 button');\n",
              "      quickchartButtonEl.style.display =\n",
              "        google.colab.kernel.accessAllowed ? 'block' : 'none';\n",
              "    })();\n",
              "  </script>\n",
              "</div>\n",
              "    </div>\n",
              "  </div>\n"
            ]
          },
          "metadata": {},
          "execution_count": 41
        }
      ]
    },
    {
      "cell_type": "code",
      "source": [
        "df_combined.info()"
      ],
      "metadata": {
        "colab": {
          "base_uri": "https://localhost:8080/"
        },
        "id": "oXFRS3TArly4",
        "outputId": "6df8f7d4-5a87-4b74-c34f-9e1ce31b49b5"
      },
      "execution_count": 42,
      "outputs": [
        {
          "output_type": "stream",
          "name": "stdout",
          "text": [
            "<class 'pandas.core.frame.DataFrame'>\n",
            "RangeIndex: 5328 entries, 0 to 5327\n",
            "Data columns (total 7 columns):\n",
            " #   Column         Non-Null Count  Dtype  \n",
            "---  ------         --------------  -----  \n",
            " 0   user           5328 non-null   object \n",
            " 1   text           5328 non-null   object \n",
            " 2   clean_text     5328 non-null   object \n",
            " 3   polarity       5328 non-null   float64\n",
            " 4   subjectivity   5328 non-null   float64\n",
            " 5   opinion_label  5328 non-null   object \n",
            " 6   candidate      5328 non-null   object \n",
            "dtypes: float64(2), object(5)\n",
            "memory usage: 291.5+ KB\n"
          ]
        }
      ]
    },
    {
      "cell_type": "code",
      "source": [
        "# move the label to a new df and remove from the df_combined\n",
        "y_label = df_combined['opinion_label']\n",
        "X = df_combined.drop(['opinion_label'], axis=1)"
      ],
      "metadata": {
        "id": "c_CuWu1-L8vH"
      },
      "execution_count": 50,
      "outputs": []
    },
    {
      "cell_type": "code",
      "source": [
        "# one-Hot Encode candidate\n",
        "X = pd.get_dummies(X, columns=['candidate'])"
      ],
      "metadata": {
        "id": "oZTC1rDqMvKT"
      },
      "execution_count": 51,
      "outputs": []
    },
    {
      "cell_type": "code",
      "source": [
        "X.head()"
      ],
      "metadata": {
        "colab": {
          "base_uri": "https://localhost:8080/",
          "height": 206
        },
        "id": "yqMmPX6KM0y2",
        "outputId": "05a4f4ef-f18d-45a4-b7da-d63adb065301"
      },
      "execution_count": 52,
      "outputs": [
        {
          "output_type": "execute_result",
          "data": {
            "text/plain": [
              "           user                                               text  \\\n",
              "0   MarkHodder3    @JoeBiden And we’ll find out who won in 2026...   \n",
              "1    K87327961G  @JoeBiden Your Democratic Nazi Party cannot be...   \n",
              "2      OldlaceA                        @JoeBiden So did Lying Barr   \n",
              "3    penblogger  @JoeBiden It's clear you didnt compose this tw...   \n",
              "4  Aquarian0264         @JoeBiden I will vote in person thank you.   \n",
              "\n",
              "                                          clean_text  polarity  subjectivity  \\\n",
              "0                       ['joebiden', 'find', '2026']      0.00         0.000   \n",
              "1  ['joebiden', 'democratic', 'nazi', 'party', 'c...      0.00         0.000   \n",
              "2                      ['joebiden', 'lying', 'barr']      0.00         0.000   \n",
              "3  ['joebiden', 'clear', 'didnt', 'compose', 'twe...      0.05         0.225   \n",
              "4            ['joebiden', 'vote', 'person', 'thank']      0.00         0.000   \n",
              "\n",
              "   candidate_biden  candidate_trump  \n",
              "0                1                0  \n",
              "1                1                0  \n",
              "2                1                0  \n",
              "3                1                0  \n",
              "4                1                0  "
            ],
            "text/html": [
              "\n",
              "  <div id=\"df-ff0d6309-456a-45d8-a443-1fd546109ccb\" class=\"colab-df-container\">\n",
              "    <div>\n",
              "<style scoped>\n",
              "    .dataframe tbody tr th:only-of-type {\n",
              "        vertical-align: middle;\n",
              "    }\n",
              "\n",
              "    .dataframe tbody tr th {\n",
              "        vertical-align: top;\n",
              "    }\n",
              "\n",
              "    .dataframe thead th {\n",
              "        text-align: right;\n",
              "    }\n",
              "</style>\n",
              "<table border=\"1\" class=\"dataframe\">\n",
              "  <thead>\n",
              "    <tr style=\"text-align: right;\">\n",
              "      <th></th>\n",
              "      <th>user</th>\n",
              "      <th>text</th>\n",
              "      <th>clean_text</th>\n",
              "      <th>polarity</th>\n",
              "      <th>subjectivity</th>\n",
              "      <th>candidate_biden</th>\n",
              "      <th>candidate_trump</th>\n",
              "    </tr>\n",
              "  </thead>\n",
              "  <tbody>\n",
              "    <tr>\n",
              "      <th>0</th>\n",
              "      <td>MarkHodder3</td>\n",
              "      <td>@JoeBiden And we’ll find out who won in 2026...</td>\n",
              "      <td>['joebiden', 'find', '2026']</td>\n",
              "      <td>0.00</td>\n",
              "      <td>0.000</td>\n",
              "      <td>1</td>\n",
              "      <td>0</td>\n",
              "    </tr>\n",
              "    <tr>\n",
              "      <th>1</th>\n",
              "      <td>K87327961G</td>\n",
              "      <td>@JoeBiden Your Democratic Nazi Party cannot be...</td>\n",
              "      <td>['joebiden', 'democratic', 'nazi', 'party', 'c...</td>\n",
              "      <td>0.00</td>\n",
              "      <td>0.000</td>\n",
              "      <td>1</td>\n",
              "      <td>0</td>\n",
              "    </tr>\n",
              "    <tr>\n",
              "      <th>2</th>\n",
              "      <td>OldlaceA</td>\n",
              "      <td>@JoeBiden So did Lying Barr</td>\n",
              "      <td>['joebiden', 'lying', 'barr']</td>\n",
              "      <td>0.00</td>\n",
              "      <td>0.000</td>\n",
              "      <td>1</td>\n",
              "      <td>0</td>\n",
              "    </tr>\n",
              "    <tr>\n",
              "      <th>3</th>\n",
              "      <td>penblogger</td>\n",
              "      <td>@JoeBiden It's clear you didnt compose this tw...</td>\n",
              "      <td>['joebiden', 'clear', 'didnt', 'compose', 'twe...</td>\n",
              "      <td>0.05</td>\n",
              "      <td>0.225</td>\n",
              "      <td>1</td>\n",
              "      <td>0</td>\n",
              "    </tr>\n",
              "    <tr>\n",
              "      <th>4</th>\n",
              "      <td>Aquarian0264</td>\n",
              "      <td>@JoeBiden I will vote in person thank you.</td>\n",
              "      <td>['joebiden', 'vote', 'person', 'thank']</td>\n",
              "      <td>0.00</td>\n",
              "      <td>0.000</td>\n",
              "      <td>1</td>\n",
              "      <td>0</td>\n",
              "    </tr>\n",
              "  </tbody>\n",
              "</table>\n",
              "</div>\n",
              "    <div class=\"colab-df-buttons\">\n",
              "\n",
              "  <div class=\"colab-df-container\">\n",
              "    <button class=\"colab-df-convert\" onclick=\"convertToInteractive('df-ff0d6309-456a-45d8-a443-1fd546109ccb')\"\n",
              "            title=\"Convert this dataframe to an interactive table.\"\n",
              "            style=\"display:none;\">\n",
              "\n",
              "  <svg xmlns=\"http://www.w3.org/2000/svg\" height=\"24px\" viewBox=\"0 -960 960 960\">\n",
              "    <path d=\"M120-120v-720h720v720H120Zm60-500h600v-160H180v160Zm220 220h160v-160H400v160Zm0 220h160v-160H400v160ZM180-400h160v-160H180v160Zm440 0h160v-160H620v160ZM180-180h160v-160H180v160Zm440 0h160v-160H620v160Z\"/>\n",
              "  </svg>\n",
              "    </button>\n",
              "\n",
              "  <style>\n",
              "    .colab-df-container {\n",
              "      display:flex;\n",
              "      gap: 12px;\n",
              "    }\n",
              "\n",
              "    .colab-df-convert {\n",
              "      background-color: #E8F0FE;\n",
              "      border: none;\n",
              "      border-radius: 50%;\n",
              "      cursor: pointer;\n",
              "      display: none;\n",
              "      fill: #1967D2;\n",
              "      height: 32px;\n",
              "      padding: 0 0 0 0;\n",
              "      width: 32px;\n",
              "    }\n",
              "\n",
              "    .colab-df-convert:hover {\n",
              "      background-color: #E2EBFA;\n",
              "      box-shadow: 0px 1px 2px rgba(60, 64, 67, 0.3), 0px 1px 3px 1px rgba(60, 64, 67, 0.15);\n",
              "      fill: #174EA6;\n",
              "    }\n",
              "\n",
              "    .colab-df-buttons div {\n",
              "      margin-bottom: 4px;\n",
              "    }\n",
              "\n",
              "    [theme=dark] .colab-df-convert {\n",
              "      background-color: #3B4455;\n",
              "      fill: #D2E3FC;\n",
              "    }\n",
              "\n",
              "    [theme=dark] .colab-df-convert:hover {\n",
              "      background-color: #434B5C;\n",
              "      box-shadow: 0px 1px 3px 1px rgba(0, 0, 0, 0.15);\n",
              "      filter: drop-shadow(0px 1px 2px rgba(0, 0, 0, 0.3));\n",
              "      fill: #FFFFFF;\n",
              "    }\n",
              "  </style>\n",
              "\n",
              "    <script>\n",
              "      const buttonEl =\n",
              "        document.querySelector('#df-ff0d6309-456a-45d8-a443-1fd546109ccb button.colab-df-convert');\n",
              "      buttonEl.style.display =\n",
              "        google.colab.kernel.accessAllowed ? 'block' : 'none';\n",
              "\n",
              "      async function convertToInteractive(key) {\n",
              "        const element = document.querySelector('#df-ff0d6309-456a-45d8-a443-1fd546109ccb');\n",
              "        const dataTable =\n",
              "          await google.colab.kernel.invokeFunction('convertToInteractive',\n",
              "                                                    [key], {});\n",
              "        if (!dataTable) return;\n",
              "\n",
              "        const docLinkHtml = 'Like what you see? Visit the ' +\n",
              "          '<a target=\"_blank\" href=https://colab.research.google.com/notebooks/data_table.ipynb>data table notebook</a>'\n",
              "          + ' to learn more about interactive tables.';\n",
              "        element.innerHTML = '';\n",
              "        dataTable['output_type'] = 'display_data';\n",
              "        await google.colab.output.renderOutput(dataTable, element);\n",
              "        const docLink = document.createElement('div');\n",
              "        docLink.innerHTML = docLinkHtml;\n",
              "        element.appendChild(docLink);\n",
              "      }\n",
              "    </script>\n",
              "  </div>\n",
              "\n",
              "\n",
              "<div id=\"df-489d5f97-4d3e-4fbb-93a6-1eec0d1ef274\">\n",
              "  <button class=\"colab-df-quickchart\" onclick=\"quickchart('df-489d5f97-4d3e-4fbb-93a6-1eec0d1ef274')\"\n",
              "            title=\"Suggest charts\"\n",
              "            style=\"display:none;\">\n",
              "\n",
              "<svg xmlns=\"http://www.w3.org/2000/svg\" height=\"24px\"viewBox=\"0 0 24 24\"\n",
              "     width=\"24px\">\n",
              "    <g>\n",
              "        <path d=\"M19 3H5c-1.1 0-2 .9-2 2v14c0 1.1.9 2 2 2h14c1.1 0 2-.9 2-2V5c0-1.1-.9-2-2-2zM9 17H7v-7h2v7zm4 0h-2V7h2v10zm4 0h-2v-4h2v4z\"/>\n",
              "    </g>\n",
              "</svg>\n",
              "  </button>\n",
              "\n",
              "<style>\n",
              "  .colab-df-quickchart {\n",
              "      --bg-color: #E8F0FE;\n",
              "      --fill-color: #1967D2;\n",
              "      --hover-bg-color: #E2EBFA;\n",
              "      --hover-fill-color: #174EA6;\n",
              "      --disabled-fill-color: #AAA;\n",
              "      --disabled-bg-color: #DDD;\n",
              "  }\n",
              "\n",
              "  [theme=dark] .colab-df-quickchart {\n",
              "      --bg-color: #3B4455;\n",
              "      --fill-color: #D2E3FC;\n",
              "      --hover-bg-color: #434B5C;\n",
              "      --hover-fill-color: #FFFFFF;\n",
              "      --disabled-bg-color: #3B4455;\n",
              "      --disabled-fill-color: #666;\n",
              "  }\n",
              "\n",
              "  .colab-df-quickchart {\n",
              "    background-color: var(--bg-color);\n",
              "    border: none;\n",
              "    border-radius: 50%;\n",
              "    cursor: pointer;\n",
              "    display: none;\n",
              "    fill: var(--fill-color);\n",
              "    height: 32px;\n",
              "    padding: 0;\n",
              "    width: 32px;\n",
              "  }\n",
              "\n",
              "  .colab-df-quickchart:hover {\n",
              "    background-color: var(--hover-bg-color);\n",
              "    box-shadow: 0 1px 2px rgba(60, 64, 67, 0.3), 0 1px 3px 1px rgba(60, 64, 67, 0.15);\n",
              "    fill: var(--button-hover-fill-color);\n",
              "  }\n",
              "\n",
              "  .colab-df-quickchart-complete:disabled,\n",
              "  .colab-df-quickchart-complete:disabled:hover {\n",
              "    background-color: var(--disabled-bg-color);\n",
              "    fill: var(--disabled-fill-color);\n",
              "    box-shadow: none;\n",
              "  }\n",
              "\n",
              "  .colab-df-spinner {\n",
              "    border: 2px solid var(--fill-color);\n",
              "    border-color: transparent;\n",
              "    border-bottom-color: var(--fill-color);\n",
              "    animation:\n",
              "      spin 1s steps(1) infinite;\n",
              "  }\n",
              "\n",
              "  @keyframes spin {\n",
              "    0% {\n",
              "      border-color: transparent;\n",
              "      border-bottom-color: var(--fill-color);\n",
              "      border-left-color: var(--fill-color);\n",
              "    }\n",
              "    20% {\n",
              "      border-color: transparent;\n",
              "      border-left-color: var(--fill-color);\n",
              "      border-top-color: var(--fill-color);\n",
              "    }\n",
              "    30% {\n",
              "      border-color: transparent;\n",
              "      border-left-color: var(--fill-color);\n",
              "      border-top-color: var(--fill-color);\n",
              "      border-right-color: var(--fill-color);\n",
              "    }\n",
              "    40% {\n",
              "      border-color: transparent;\n",
              "      border-right-color: var(--fill-color);\n",
              "      border-top-color: var(--fill-color);\n",
              "    }\n",
              "    60% {\n",
              "      border-color: transparent;\n",
              "      border-right-color: var(--fill-color);\n",
              "    }\n",
              "    80% {\n",
              "      border-color: transparent;\n",
              "      border-right-color: var(--fill-color);\n",
              "      border-bottom-color: var(--fill-color);\n",
              "    }\n",
              "    90% {\n",
              "      border-color: transparent;\n",
              "      border-bottom-color: var(--fill-color);\n",
              "    }\n",
              "  }\n",
              "</style>\n",
              "\n",
              "  <script>\n",
              "    async function quickchart(key) {\n",
              "      const quickchartButtonEl =\n",
              "        document.querySelector('#' + key + ' button');\n",
              "      quickchartButtonEl.disabled = true;  // To prevent multiple clicks.\n",
              "      quickchartButtonEl.classList.add('colab-df-spinner');\n",
              "      try {\n",
              "        const charts = await google.colab.kernel.invokeFunction(\n",
              "            'suggestCharts', [key], {});\n",
              "      } catch (error) {\n",
              "        console.error('Error during call to suggestCharts:', error);\n",
              "      }\n",
              "      quickchartButtonEl.classList.remove('colab-df-spinner');\n",
              "      quickchartButtonEl.classList.add('colab-df-quickchart-complete');\n",
              "    }\n",
              "    (() => {\n",
              "      let quickchartButtonEl =\n",
              "        document.querySelector('#df-489d5f97-4d3e-4fbb-93a6-1eec0d1ef274 button');\n",
              "      quickchartButtonEl.style.display =\n",
              "        google.colab.kernel.accessAllowed ? 'block' : 'none';\n",
              "    })();\n",
              "  </script>\n",
              "</div>\n",
              "    </div>\n",
              "  </div>\n"
            ]
          },
          "metadata": {},
          "execution_count": 52
        }
      ]
    },
    {
      "cell_type": "code",
      "source": [
        "y_label"
      ],
      "metadata": {
        "colab": {
          "base_uri": "https://localhost:8080/"
        },
        "id": "SBbk_bxKgBXt",
        "outputId": "55b1f8d2-fe5d-4fce-e836-c3230a666f6d"
      },
      "execution_count": 53,
      "outputs": [
        {
          "output_type": "execute_result",
          "data": {
            "text/plain": [
              "0        neutral\n",
              "1        neutral\n",
              "2        neutral\n",
              "3       positive\n",
              "4        neutral\n",
              "          ...   \n",
              "5323     neutral\n",
              "5324     neutral\n",
              "5325    positive\n",
              "5326     neutral\n",
              "5327    negative\n",
              "Name: opinion_label, Length: 5328, dtype: object"
            ]
          },
          "metadata": {},
          "execution_count": 53
        }
      ]
    },
    {
      "cell_type": "code",
      "source": [
        "label_encoder = LabelEncoder()\n",
        "y_labels_encoded = label_encoder.fit_transform(y_label)"
      ],
      "metadata": {
        "id": "uwK6lmqigV6D"
      },
      "execution_count": 56,
      "outputs": []
    },
    {
      "cell_type": "code",
      "source": [
        "y_labels_encoded"
      ],
      "metadata": {
        "colab": {
          "base_uri": "https://localhost:8080/"
        },
        "id": "4k0lCP5ehMsy",
        "outputId": "c7174aba-2ccd-446b-f3bb-a8d8b90970a6"
      },
      "execution_count": 57,
      "outputs": [
        {
          "output_type": "execute_result",
          "data": {
            "text/plain": [
              "array([1, 1, 1, ..., 2, 1, 0])"
            ]
          },
          "metadata": {},
          "execution_count": 57
        }
      ]
    },
    {
      "cell_type": "code",
      "source": [
        "# reshape into 2d array\n",
        "labels_reshap = y_labels_encoded.reshape(-1, 1)"
      ],
      "metadata": {
        "id": "Z8oJOxSVhMBO"
      },
      "execution_count": 58,
      "outputs": []
    },
    {
      "cell_type": "code",
      "source": [
        "labels_reshap.shape"
      ],
      "metadata": {
        "colab": {
          "base_uri": "https://localhost:8080/"
        },
        "id": "Mw_krtVChghV",
        "outputId": "b87e5e8a-a292-49df-c5e4-59789876011a"
      },
      "execution_count": 60,
      "outputs": [
        {
          "output_type": "execute_result",
          "data": {
            "text/plain": [
              "(5328, 1)"
            ]
          },
          "metadata": {},
          "execution_count": 60
        }
      ]
    },
    {
      "cell_type": "code",
      "source": [
        "# get the labels\n",
        "labels = label_encoder.classes_\n",
        "\n",
        "# print the labels and their corresponding integer values\n",
        "for i, label in enumerate(labels):\n",
        "    print(f'{label} : {i}')"
      ],
      "metadata": {
        "colab": {
          "base_uri": "https://localhost:8080/"
        },
        "id": "snbiBR1eiNaE",
        "outputId": "9a72d0a3-e33c-426a-abce-2d2162938026"
      },
      "execution_count": 68,
      "outputs": [
        {
          "output_type": "stream",
          "name": "stdout",
          "text": [
            "negative : 0\n",
            "neutral : 1\n",
            "positive : 2\n"
          ]
        }
      ]
    },
    {
      "cell_type": "code",
      "source": [
        "# plot labels\n",
        "labels_flat = labels_reshap.flatten()\n",
        "\n",
        "plt.figure(figsize=(8, 6))\n",
        "sns.set(style=\"whitegrid\")\n",
        "\n",
        "ax = sns.countplot(x=labels_flat)\n",
        "\n",
        "ax.set_title('Distribution of Sentiment Labels')\n",
        "ax.set_xlabel('Sentiment Label')\n",
        "ax.set_ylabel('Frequency')\n",
        "\n",
        "for p in ax.patches:\n",
        "    ax.annotate(f'{p.get_height()}', (p.get_x() + p.get_width() / 2., p.get_height()),\n",
        "                ha='center', va='baseline')\n",
        "\n",
        "plt.show()\n"
      ],
      "metadata": {
        "colab": {
          "base_uri": "https://localhost:8080/",
          "height": 573
        },
        "id": "KfaVaHkWkAc4",
        "outputId": "114a806a-a0b9-460f-eead-aa9d55f79546"
      },
      "execution_count": 74,
      "outputs": [
        {
          "output_type": "display_data",
          "data": {
            "text/plain": [
              "<Figure size 800x600 with 1 Axes>"
            ],
            "image/png": "[encoded data removed]"
          },
          "metadata": {}
        }
      ]
    },
    {
      "cell_type": "markdown",
      "source": [
        "These are the labels:\n",
        "\n",
        "* negative : 0\n",
        "* neutral : 1\n",
        "* positive : 2\n",
        "\n",
        "We can see that the majority of tweets are neutral, then with less than half in quantity we have the positive ones and then the negative ones."
      ],
      "metadata": {
        "id": "ZAP-DMf-yHmD"
      }
    },
    {
      "cell_type": "code",
      "source": [
        "X = X.drop(columns=['user'])\n",
        "X.head()"
      ],
      "metadata": {
        "colab": {
          "base_uri": "https://localhost:8080/",
          "height": 206
        },
        "id": "WXfOP_peYCx3",
        "outputId": "79c7a522-2bd9-4f88-d59b-3ea72b84917d"
      },
      "execution_count": 54,
      "outputs": [
        {
          "output_type": "execute_result",
          "data": {
            "text/plain": [
              "                                                text  \\\n",
              "0    @JoeBiden And we’ll find out who won in 2026...   \n",
              "1  @JoeBiden Your Democratic Nazi Party cannot be...   \n",
              "2                        @JoeBiden So did Lying Barr   \n",
              "3  @JoeBiden It's clear you didnt compose this tw...   \n",
              "4         @JoeBiden I will vote in person thank you.   \n",
              "\n",
              "                                          clean_text  polarity  subjectivity  \\\n",
              "0                       ['joebiden', 'find', '2026']      0.00         0.000   \n",
              "1  ['joebiden', 'democratic', 'nazi', 'party', 'c...      0.00         0.000   \n",
              "2                      ['joebiden', 'lying', 'barr']      0.00         0.000   \n",
              "3  ['joebiden', 'clear', 'didnt', 'compose', 'twe...      0.05         0.225   \n",
              "4            ['joebiden', 'vote', 'person', 'thank']      0.00         0.000   \n",
              "\n",
              "   candidate_biden  candidate_trump  \n",
              "0                1                0  \n",
              "1                1                0  \n",
              "2                1                0  \n",
              "3                1                0  \n",
              "4                1                0  "
            ],
            "text/html": [
              "\n",
              "  <div id=\"df-9dd47e29-2e74-43d6-931e-01d5cd702afd\" class=\"colab-df-container\">\n",
              "    <div>\n",
              "<style scoped>\n",
              "    .dataframe tbody tr th:only-of-type {\n",
              "        vertical-align: middle;\n",
              "    }\n",
              "\n",
              "    .dataframe tbody tr th {\n",
              "        vertical-align: top;\n",
              "    }\n",
              "\n",
              "    .dataframe thead th {\n",
              "        text-align: right;\n",
              "    }\n",
              "</style>\n",
              "<table border=\"1\" class=\"dataframe\">\n",
              "  <thead>\n",
              "    <tr style=\"text-align: right;\">\n",
              "      <th></th>\n",
              "      <th>text</th>\n",
              "      <th>clean_text</th>\n",
              "      <th>polarity</th>\n",
              "      <th>subjectivity</th>\n",
              "      <th>candidate_biden</th>\n",
              "      <th>candidate_trump</th>\n",
              "    </tr>\n",
              "  </thead>\n",
              "  <tbody>\n",
              "    <tr>\n",
              "      <th>0</th>\n",
              "      <td>@JoeBiden And we’ll find out who won in 2026...</td>\n",
              "      <td>['joebiden', 'find', '2026']</td>\n",
              "      <td>0.00</td>\n",
              "      <td>0.000</td>\n",
              "      <td>1</td>\n",
              "      <td>0</td>\n",
              "    </tr>\n",
              "    <tr>\n",
              "      <th>1</th>\n",
              "      <td>@JoeBiden Your Democratic Nazi Party cannot be...</td>\n",
              "      <td>['joebiden', 'democratic', 'nazi', 'party', 'c...</td>\n",
              "      <td>0.00</td>\n",
              "      <td>0.000</td>\n",
              "      <td>1</td>\n",
              "      <td>0</td>\n",
              "    </tr>\n",
              "    <tr>\n",
              "      <th>2</th>\n",
              "      <td>@JoeBiden So did Lying Barr</td>\n",
              "      <td>['joebiden', 'lying', 'barr']</td>\n",
              "      <td>0.00</td>\n",
              "      <td>0.000</td>\n",
              "      <td>1</td>\n",
              "      <td>0</td>\n",
              "    </tr>\n",
              "    <tr>\n",
              "      <th>3</th>\n",
              "      <td>@JoeBiden It's clear you didnt compose this tw...</td>\n",
              "      <td>['joebiden', 'clear', 'didnt', 'compose', 'twe...</td>\n",
              "      <td>0.05</td>\n",
              "      <td>0.225</td>\n",
              "      <td>1</td>\n",
              "      <td>0</td>\n",
              "    </tr>\n",
              "    <tr>\n",
              "      <th>4</th>\n",
              "      <td>@JoeBiden I will vote in person thank you.</td>\n",
              "      <td>['joebiden', 'vote', 'person', 'thank']</td>\n",
              "      <td>0.00</td>\n",
              "      <td>0.000</td>\n",
              "      <td>1</td>\n",
              "      <td>0</td>\n",
              "    </tr>\n",
              "  </tbody>\n",
              "</table>\n",
              "</div>\n",
              "    <div class=\"colab-df-buttons\">\n",
              "\n",
              "  <div class=\"colab-df-container\">\n",
              "    <button class=\"colab-df-convert\" onclick=\"convertToInteractive('df-9dd47e29-2e74-43d6-931e-01d5cd702afd')\"\n",
              "            title=\"Convert this dataframe to an interactive table.\"\n",
              "            style=\"display:none;\">\n",
              "\n",
              "  <svg xmlns=\"http://www.w3.org/2000/svg\" height=\"24px\" viewBox=\"0 -960 960 960\">\n",
              "    <path d=\"M120-120v-720h720v720H120Zm60-500h600v-160H180v160Zm220 220h160v-160H400v160Zm0 220h160v-160H400v160ZM180-400h160v-160H180v160Zm440 0h160v-160H620v160ZM180-180h160v-160H180v160Zm440 0h160v-160H620v160Z\"/>\n",
              "  </svg>\n",
              "    </button>\n",
              "\n",
              "  <style>\n",
              "    .colab-df-container {\n",
              "      display:flex;\n",
              "      gap: 12px;\n",
              "    }\n",
              "\n",
              "    .colab-df-convert {\n",
              "      background-color: #E8F0FE;\n",
              "      border: none;\n",
              "      border-radius: 50%;\n",
              "      cursor: pointer;\n",
              "      display: none;\n",
              "      fill: #1967D2;\n",
              "      height: 32px;\n",
              "      padding: 0 0 0 0;\n",
              "      width: 32px;\n",
              "    }\n",
              "\n",
              "    .colab-df-convert:hover {\n",
              "      background-color: #E2EBFA;\n",
              "      box-shadow: 0px 1px 2px rgba(60, 64, 67, 0.3), 0px 1px 3px 1px rgba(60, 64, 67, 0.15);\n",
              "      fill: #174EA6;\n",
              "    }\n",
              "\n",
              "    .colab-df-buttons div {\n",
              "      margin-bottom: 4px;\n",
              "    }\n",
              "\n",
              "    [theme=dark] .colab-df-convert {\n",
              "      background-color: #3B4455;\n",
              "      fill: #D2E3FC;\n",
              "    }\n",
              "\n",
              "    [theme=dark] .colab-df-convert:hover {\n",
              "      background-color: #434B5C;\n",
              "      box-shadow: 0px 1px 3px 1px rgba(0, 0, 0, 0.15);\n",
              "      filter: drop-shadow(0px 1px 2px rgba(0, 0, 0, 0.3));\n",
              "      fill: #FFFFFF;\n",
              "    }\n",
              "  </style>\n",
              "\n",
              "    <script>\n",
              "      const buttonEl =\n",
              "        document.querySelector('#df-9dd47e29-2e74-43d6-931e-01d5cd702afd button.colab-df-convert');\n",
              "      buttonEl.style.display =\n",
              "        google.colab.kernel.accessAllowed ? 'block' : 'none';\n",
              "\n",
              "      async function convertToInteractive(key) {\n",
              "        const element = document.querySelector('#df-9dd47e29-2e74-43d6-931e-01d5cd702afd');\n",
              "        const dataTable =\n",
              "          await google.colab.kernel.invokeFunction('convertToInteractive',\n",
              "                                                    [key], {});\n",
              "        if (!dataTable) return;\n",
              "\n",
              "        const docLinkHtml = 'Like what you see? Visit the ' +\n",
              "          '<a target=\"_blank\" href=https://colab.research.google.com/notebooks/data_table.ipynb>data table notebook</a>'\n",
              "          + ' to learn more about interactive tables.';\n",
              "        element.innerHTML = '';\n",
              "        dataTable['output_type'] = 'display_data';\n",
              "        await google.colab.output.renderOutput(dataTable, element);\n",
              "        const docLink = document.createElement('div');\n",
              "        docLink.innerHTML = docLinkHtml;\n",
              "        element.appendChild(docLink);\n",
              "      }\n",
              "    </script>\n",
              "  </div>\n",
              "\n",
              "\n",
              "<div id=\"df-770a44b7-0d6e-4a11-b555-04b32fa65d21\">\n",
              "  <button class=\"colab-df-quickchart\" onclick=\"quickchart('df-770a44b7-0d6e-4a11-b555-04b32fa65d21')\"\n",
              "            title=\"Suggest charts\"\n",
              "            style=\"display:none;\">\n",
              "\n",
              "<svg xmlns=\"http://www.w3.org/2000/svg\" height=\"24px\"viewBox=\"0 0 24 24\"\n",
              "     width=\"24px\">\n",
              "    <g>\n",
              "        <path d=\"M19 3H5c-1.1 0-2 .9-2 2v14c0 1.1.9 2 2 2h14c1.1 0 2-.9 2-2V5c0-1.1-.9-2-2-2zM9 17H7v-7h2v7zm4 0h-2V7h2v10zm4 0h-2v-4h2v4z\"/>\n",
              "    </g>\n",
              "</svg>\n",
              "  </button>\n",
              "\n",
              "<style>\n",
              "  .colab-df-quickchart {\n",
              "      --bg-color: #E8F0FE;\n",
              "      --fill-color: #1967D2;\n",
              "      --hover-bg-color: #E2EBFA;\n",
              "      --hover-fill-color: #174EA6;\n",
              "      --disabled-fill-color: #AAA;\n",
              "      --disabled-bg-color: #DDD;\n",
              "  }\n",
              "\n",
              "  [theme=dark] .colab-df-quickchart {\n",
              "      --bg-color: #3B4455;\n",
              "      --fill-color: #D2E3FC;\n",
              "      --hover-bg-color: #434B5C;\n",
              "      --hover-fill-color: #FFFFFF;\n",
              "      --disabled-bg-color: #3B4455;\n",
              "      --disabled-fill-color: #666;\n",
              "  }\n",
              "\n",
              "  .colab-df-quickchart {\n",
              "    background-color: var(--bg-color);\n",
              "    border: none;\n",
              "    border-radius: 50%;\n",
              "    cursor: pointer;\n",
              "    display: none;\n",
              "    fill: var(--fill-color);\n",
              "    height: 32px;\n",
              "    padding: 0;\n",
              "    width: 32px;\n",
              "  }\n",
              "\n",
              "  .colab-df-quickchart:hover {\n",
              "    background-color: var(--hover-bg-color);\n",
              "    box-shadow: 0 1px 2px rgba(60, 64, 67, 0.3), 0 1px 3px 1px rgba(60, 64, 67, 0.15);\n",
              "    fill: var(--button-hover-fill-color);\n",
              "  }\n",
              "\n",
              "  .colab-df-quickchart-complete:disabled,\n",
              "  .colab-df-quickchart-complete:disabled:hover {\n",
              "    background-color: var(--disabled-bg-color);\n",
              "    fill: var(--disabled-fill-color);\n",
              "    box-shadow: none;\n",
              "  }\n",
              "\n",
              "  .colab-df-spinner {\n",
              "    border: 2px solid var(--fill-color);\n",
              "    border-color: transparent;\n",
              "    border-bottom-color: var(--fill-color);\n",
              "    animation:\n",
              "      spin 1s steps(1) infinite;\n",
              "  }\n",
              "\n",
              "  @keyframes spin {\n",
              "    0% {\n",
              "      border-color: transparent;\n",
              "      border-bottom-color: var(--fill-color);\n",
              "      border-left-color: var(--fill-color);\n",
              "    }\n",
              "    20% {\n",
              "      border-color: transparent;\n",
              "      border-left-color: var(--fill-color);\n",
              "      border-top-color: var(--fill-color);\n",
              "    }\n",
              "    30% {\n",
              "      border-color: transparent;\n",
              "      border-left-color: var(--fill-color);\n",
              "      border-top-color: var(--fill-color);\n",
              "      border-right-color: var(--fill-color);\n",
              "    }\n",
              "    40% {\n",
              "      border-color: transparent;\n",
              "      border-right-color: var(--fill-color);\n",
              "      border-top-color: var(--fill-color);\n",
              "    }\n",
              "    60% {\n",
              "      border-color: transparent;\n",
              "      border-right-color: var(--fill-color);\n",
              "    }\n",
              "    80% {\n",
              "      border-color: transparent;\n",
              "      border-right-color: var(--fill-color);\n",
              "      border-bottom-color: var(--fill-color);\n",
              "    }\n",
              "    90% {\n",
              "      border-color: transparent;\n",
              "      border-bottom-color: var(--fill-color);\n",
              "    }\n",
              "  }\n",
              "</style>\n",
              "\n",
              "  <script>\n",
              "    async function quickchart(key) {\n",
              "      const quickchartButtonEl =\n",
              "        document.querySelector('#' + key + ' button');\n",
              "      quickchartButtonEl.disabled = true;  // To prevent multiple clicks.\n",
              "      quickchartButtonEl.classList.add('colab-df-spinner');\n",
              "      try {\n",
              "        const charts = await google.colab.kernel.invokeFunction(\n",
              "            'suggestCharts', [key], {});\n",
              "      } catch (error) {\n",
              "        console.error('Error during call to suggestCharts:', error);\n",
              "      }\n",
              "      quickchartButtonEl.classList.remove('colab-df-spinner');\n",
              "      quickchartButtonEl.classList.add('colab-df-quickchart-complete');\n",
              "    }\n",
              "    (() => {\n",
              "      let quickchartButtonEl =\n",
              "        document.querySelector('#df-770a44b7-0d6e-4a11-b555-04b32fa65d21 button');\n",
              "      quickchartButtonEl.style.display =\n",
              "        google.colab.kernel.accessAllowed ? 'block' : 'none';\n",
              "    })();\n",
              "  </script>\n",
              "</div>\n",
              "    </div>\n",
              "  </div>\n"
            ]
          },
          "metadata": {},
          "execution_count": 54
        }
      ]
    },
    {
      "cell_type": "code",
      "source": [
        "# Calculate the length of cleaned_text in terms of words\n",
        "df_combined['word_count'] = df_combined['clean_text'].apply(lambda x: len(x.split()))\n",
        "\n",
        "# Plot the distribution of word counts\n",
        "# plt.figure(figsize=(10, 6))\n",
        "sns.histplot(df_combined['word_count'], color='purple', discrete=True)\n",
        "\n",
        "plt.title('Distribution of Word Counts in Cleaned Text')\n",
        "plt.xlabel('Number of Words')\n",
        "plt.ylabel('Count')\n",
        "plt.xlim(0, 25)\n",
        "\n",
        "plt.show()\n"
      ],
      "metadata": {
        "colab": {
          "base_uri": "https://localhost:8080/",
          "height": 480
        },
        "id": "ZpCDa_gClAxp",
        "outputId": "7bc75abc-5329-4f48-967f-6f278f52be71"
      },
      "execution_count": 101,
      "outputs": [
        {
          "output_type": "display_data",
          "data": {
            "text/plain": [
              "<Figure size 640x480 with 1 Axes>"
            ],
            "image/png": "[encoded data removed]"
          },
          "metadata": {}
        }
      ]
    },
    {
      "cell_type": "code",
      "source": [
        "# filter tweets with 1 word\n",
        "tweets_with_one_word = df_combined[df_combined['word_count'] == 1]\n",
        "\n",
        "# display 5 tweets with 1 word\n",
        "for index, tweet in tweets_with_one_word.tail().iterrows():\n",
        "    print(f\"tweet index: {index}\")\n",
        "    print(f\"text: {tweet['clean_text']}\")\n",
        "    print(\"------------------\")\n"
      ],
      "metadata": {
        "colab": {
          "base_uri": "https://localhost:8080/"
        },
        "id": "l-YLQ79JoWIK",
        "outputId": "72145f57-54ad-465d-81f3-7509bf7677c2"
      },
      "execution_count": 117,
      "outputs": [
        {
          "output_type": "stream",
          "name": "stdout",
          "text": [
            "tweet index: 5257\n",
            "text: ['realdonaldtrump']\n",
            "------------------\n",
            "tweet index: 5268\n",
            "text: ['realdonaldtrump']\n",
            "------------------\n",
            "tweet index: 5281\n",
            "text: ['realdonaldtrump']\n",
            "------------------\n",
            "tweet index: 5286\n",
            "text: ['realdonaldtrump']\n",
            "------------------\n",
            "tweet index: 5319\n",
            "text: ['realdonaldtrump']\n",
            "------------------\n"
          ]
        }
      ]
    },
    {
      "cell_type": "code",
      "source": [
        "# calculate the vocab size\n",
        "corpus = df_combined['clean_text'].values\n",
        "tokenizer = Tokenizer()\n",
        "\n",
        "#fit tokenizer on tweets\n",
        "tokenizer.fit_on_texts(corpus)\n",
        "\n",
        "# create a mapping of words with unique words\n",
        "word_index = tokenizer.word_index"
      ],
      "metadata": {
        "id": "YCjNltQcqKxK"
      },
      "execution_count": 110,
      "outputs": []
    },
    {
      "cell_type": "code",
      "source": [
        "# len of vocab size\n",
        "vocab_size = len(word_index)\n",
        "vocab_size"
      ],
      "metadata": {
        "colab": {
          "base_uri": "https://localhost:8080/"
        },
        "id": "Bvkp8X6zqSBb",
        "outputId": "1f6405b3-1928-406d-a921-6624199f4797"
      },
      "execution_count": 112,
      "outputs": [
        {
          "output_type": "execute_result",
          "data": {
            "text/plain": [
              "5582"
            ]
          },
          "metadata": {},
          "execution_count": 112
        }
      ]
    },
    {
      "cell_type": "markdown",
      "source": [
        "We have our `max_len` = 17, from the histogram we can see that a significant part of sequence has a length around 8 to 12 words.\n",
        "\n",
        "We'll use `max_len` = 17 and for the vocabulary size 5582\n"
      ],
      "metadata": {
        "id": "I1mFNQqMpJD5"
      }
    },
    {
      "cell_type": "code",
      "source": [
        "labels_reshap"
      ],
      "metadata": {
        "colab": {
          "base_uri": "https://localhost:8080/"
        },
        "id": "p27y7V1erQa2",
        "outputId": "6c1ed0ab-4e12-4bc4-e8b3-f00439c28112"
      },
      "execution_count": 185,
      "outputs": [
        {
          "output_type": "execute_result",
          "data": {
            "text/plain": [
              "array([[1],\n",
              "       [1],\n",
              "       [1],\n",
              "       ...,\n",
              "       [2],\n",
              "       [1],\n",
              "       [0]])"
            ]
          },
          "metadata": {},
          "execution_count": 185
        }
      ]
    },
    {
      "cell_type": "markdown",
      "source": [
        "# Split data and modeling"
      ],
      "metadata": {
        "id": "MGE2FLxVyphq"
      }
    },
    {
      "cell_type": "code",
      "source": [
        "# split the data 70% test, 15% validation and 15% test\n",
        "\n",
        "X_train, X_temp, y_train, y_temp = train_test_split(X['clean_text'], labels_reshap, test_size=0.3, random_state=42)\n",
        "\n",
        "#  split the temp into validation and test (50% for each one)\n",
        "X_val, X_test, y_val, y_test = train_test_split(X_temp, y_temp, test_size=0.5, random_state=42)"
      ],
      "metadata": {
        "id": "nicH3oPay1WK"
      },
      "execution_count": 187,
      "outputs": []
    },
    {
      "cell_type": "code",
      "source": [
        "print(\"Training set size:\", len(X_train))\n",
        "print(\"Validation set size:\", len(X_val))\n",
        "print(\"Testing set size:\", len(X_test))"
      ],
      "metadata": {
        "colab": {
          "base_uri": "https://localhost:8080/"
        },
        "id": "z55NTX1jsazU",
        "outputId": "bfc82c48-420c-45c1-eab1-c1ea965f36bc"
      },
      "execution_count": 188,
      "outputs": [
        {
          "output_type": "stream",
          "name": "stdout",
          "text": [
            "Training set size: 3729\n",
            "Validation set size: 799\n",
            "Testing set size: 800\n"
          ]
        }
      ]
    },
    {
      "cell_type": "code",
      "source": [
        "print(\"Train X_train shape:\", X_train.shape)\n",
        "print(\"Train y_train shape:\", y_train.shape)\n",
        "print()\n",
        "\n",
        "print(\"Validation X_val shape:\", X_val.shape)\n",
        "print(\"Validation y_valshape:\",y_val.shape)\n",
        "print()\n",
        "\n",
        "print(\"Test X_test shape:\", X_test.shape)\n",
        "print(\"Test y_test shape:\",y_test.shape)\n",
        "\n"
      ],
      "metadata": {
        "colab": {
          "base_uri": "https://localhost:8080/"
        },
        "id": "kBXZGF2p0mTB",
        "outputId": "4235498d-d644-4650-ea84-c392fd485232"
      },
      "execution_count": 189,
      "outputs": [
        {
          "output_type": "stream",
          "name": "stdout",
          "text": [
            "Train X_train shape: (3729,)\n",
            "Train y_train shape: (3729, 1)\n",
            "\n",
            "Validation X_val shape: (799,)\n",
            "Validation y_valshape: (799, 1)\n",
            "\n",
            "Test X_test shape: (800,)\n",
            "Test y_test shape: (800, 1)\n"
          ]
        }
      ]
    },
    {
      "cell_type": "code",
      "source": [
        "# define the vocabulary size\n",
        "num_words = 5582\n",
        "\n",
        "# define an upper limit on the length of the sequences\n",
        "sequence_length = 17"
      ],
      "metadata": {
        "id": "_rNR09v77NXJ"
      },
      "execution_count": 190,
      "outputs": []
    },
    {
      "cell_type": "code",
      "source": [
        "# instantiate the tokenizer\n",
        "tokenizer = Tokenizer(num_words=num_words)\n",
        "\n",
        "# fit the tokenizer on the train data\n",
        "tokenizer.fit_on_texts(X_train)"
      ],
      "metadata": {
        "id": "n17HzGz81f4C"
      },
      "execution_count": 191,
      "outputs": []
    },
    {
      "cell_type": "code",
      "source": [
        "# instantiate the tokenizer\n",
        "tokenizer = Tokenizer(num_words=num_words)\n",
        "\n",
        "# fit the tokenizer on the train data\n",
        "tokenizer.fit_on_texts(X_train)"
      ],
      "metadata": {
        "id": "3pwna3hH1MVm"
      },
      "execution_count": 192,
      "outputs": []
    },
    {
      "cell_type": "code",
      "source": [
        "# convert the text to sequences\n",
        "X_train_seq = tokenizer.texts_to_sequences(X_train)\n",
        "X_val_seq = tokenizer.texts_to_sequences(X_val)\n",
        "X_test_seq = tokenizer.texts_to_sequences(X_test)"
      ],
      "metadata": {
        "id": "ByzPqgd71OZf"
      },
      "execution_count": 193,
      "outputs": []
    },
    {
      "cell_type": "code",
      "source": [
        "# check the conversion, 10 first lines\n",
        "for i in range(10):\n",
        "    print(f\"sequence {i + 1}: {X_train_seq[i]}\")\n",
        "    print()"
      ],
      "metadata": {
        "colab": {
          "base_uri": "https://localhost:8080/"
        },
        "id": "EjpwabM64aM1",
        "outputId": "393609b9-1239-4a3e-83ef-66333942d6b9"
      },
      "execution_count": 206,
      "outputs": [
        {
          "output_type": "stream",
          "name": "stdout",
          "text": [
            "sequence 1: [2, 2209, 1130, 13, 2210, 1487, 2211, 38]\n",
            "\n",
            "sequence 2: [2]\n",
            "\n",
            "sequence 3: [1, 400, 114, 49, 315, 21, 56, 9, 5, 115, 11, 90, 114, 49, 121, 2212, 78, 48]\n",
            "\n",
            "sequence 4: [1, 528, 3, 2213, 2214, 472, 434, 22, 73, 778, 103]\n",
            "\n",
            "sequence 5: [2, 88, 29, 1131, 401, 928, 929, 1488, 402, 178, 2215]\n",
            "\n",
            "sequence 6: [7, 42, 2216, 2217, 1132, 590, 930]\n",
            "\n",
            "sequence 7: [1, 3, 1133]\n",
            "\n",
            "sequence 8: [2, 316, 675, 9, 5, 2218, 188, 1489, 779, 1490, 529]\n",
            "\n",
            "sequence 9: [2, 2219]\n",
            "\n",
            "sequence 10: [2, 1134, 198, 372, 13, 150, 10]\n",
            "\n"
          ]
        }
      ]
    },
    {
      "cell_type": "code",
      "source": [
        "# pad the sequences\n",
        "X_train_pad = pad_sequences(X_train_seq, maxlen=sequence_length)\n",
        "X_val_pad = pad_sequences(X_val_seq, maxlen=sequence_length)\n",
        "X_test_pad = pad_sequences(X_test_seq, maxlen=sequence_length)"
      ],
      "metadata": {
        "id": "ABoiHsPD4gZR"
      },
      "execution_count": 201,
      "outputs": []
    },
    {
      "cell_type": "code",
      "source": [
        "# check the conversion, 5 first lines\n",
        "for i in range(5):\n",
        "    print(f\"sequence {i + 1}: {X_train_pad[i]}\")\n",
        "    print()"
      ],
      "metadata": {
        "colab": {
          "base_uri": "https://localhost:8080/"
        },
        "id": "qrlenxPl5HYG",
        "outputId": "ae1be341-1c17-4c5d-9a2d-befbe48e6547"
      },
      "execution_count": 205,
      "outputs": [
        {
          "output_type": "stream",
          "name": "stdout",
          "text": [
            "sequence 1: [   0    0    0    0    0    0    0    0    0    2 2209 1130   13 2210\n",
            " 1487 2211   38]\n",
            "\n",
            "sequence 2: [0 0 0 0 0 0 0 0 0 0 0 0 0 0 0 0 2]\n",
            "\n",
            "sequence 3: [ 400  114   49  315   21   56    9    5  115   11   90  114   49  121\n",
            " 2212   78   48]\n",
            "\n",
            "sequence 4: [   0    0    0    0    0    0    1  528    3 2213 2214  472  434   22\n",
            "   73  778  103]\n",
            "\n",
            "sequence 5: [   0    0    0    0    0    0    2   88   29 1131  401  928  929 1488\n",
            "  402  178 2215]\n",
            "\n"
          ]
        }
      ]
    },
    {
      "cell_type": "markdown",
      "source": [
        "# Models"
      ],
      "metadata": {
        "id": "0sby_nyp5VbZ"
      }
    },
    {
      "cell_type": "code",
      "source": [
        "# our output has 3 classes\n",
        "OUTPUT_UNITS = 3\n",
        "# for multiclass classification\n",
        "OUTPUT_ACT = 'softmax'"
      ],
      "metadata": {
        "id": "PCykJV5T5WKd"
      },
      "execution_count": 208,
      "outputs": []
    },
    {
      "cell_type": "markdown",
      "source": [
        "### Functions to use with models"
      ],
      "metadata": {
        "id": "z3QOG5DiDrV5"
      }
    },
    {
      "cell_type": "code",
      "source": [
        "def compile_model(model):\n",
        "    model.compile(\n",
        "        optimizer='adam',\n",
        "        loss='sparse_categorical_crossentropy',\n",
        "        metrics=['accuracy']\n",
        "    )"
      ],
      "metadata": {
        "id": "lD30txa6Dqfh"
      },
      "execution_count": 251,
      "outputs": []
    },
    {
      "cell_type": "code",
      "source": [
        "def train_model(model,\n",
        "                X_train,\n",
        "                y_train,\n",
        "                X_val,\n",
        "                y_val,\n",
        "                epochs=5,\n",
        "                batch_size=128):\n",
        "    history = model.fit(X_train,\n",
        "                        y_train,\n",
        "                        epochs=epochs,\n",
        "                        batch_size=batch_size,\n",
        "                        validation_data=(X_val, y_val))\n",
        "    return history\n"
      ],
      "metadata": {
        "id": "8IJ__O2jD7La"
      },
      "execution_count": 255,
      "outputs": []
    },
    {
      "cell_type": "code",
      "source": [
        "def display_results(history, model_name):\n",
        "    print(f\"{model_name} Training Accuracy: {history.history['accuracy'][-1]}\")\n",
        "    print(f\"{model_name} Validation Accuracy: {history.history['val_accuracy'][-1]}\")"
      ],
      "metadata": {
        "id": "e2lNBP3KEnQO"
      },
      "execution_count": 257,
      "outputs": []
    },
    {
      "cell_type": "code",
      "source": [
        "def plot_confusion_matrix(model, X_val_pad, y_val):\n",
        "    y_pred_prob = model.predict(X_val_pad)\n",
        "    y_pred = np.argmax(y_pred_prob, axis=1)\n",
        "\n",
        "    cm = confusion_matrix(y_val, y_pred)\n",
        "\n",
        "    plt.title(f\"Confusion Matrix {model.name}\")\n",
        "    sns.heatmap(cm, annot=True, fmt='g', cmap='Blues', cbar=False,\n",
        "              xticklabels=['Negative(Pred)', 'Neutral(Pred)', 'Positive(Pred)'],\n",
        "             yticklabels=['Negative(atual) ', 'Neutral(atual)', 'Positive(atual)'])\n",
        "    plt.show()\n",
        "\n",
        "    return cm"
      ],
      "metadata": {
        "id": "ybI7S8wiFGa-"
      },
      "execution_count": 300,
      "outputs": []
    },
    {
      "cell_type": "markdown",
      "source": [
        "### RNN"
      ],
      "metadata": {
        "id": "p7eH9bCuMTqC"
      }
    },
    {
      "cell_type": "code",
      "source": [
        "# Create the model\n",
        "model_RNN = Sequential()\n",
        "\n",
        "# Embedding layer with the output dimension matching the units in SimpleRNN\n",
        "model_RNN.add(Embedding(input_dim=num_words, output_dim=128, input_length=sequence_length))\n",
        "\n",
        "model_RNN.add(SpatialDropout1D(0.4))\n",
        "\n",
        "model_RNN.add(SimpleRNN(128))\n",
        "\n",
        "model_RNN.add(Dropout(0.4))\n",
        "\n",
        "model_RNN.add(Dense(units=OUTPUT_UNITS, activation=OUTPUT_ACT))\n",
        "\n",
        "model_RNN.summary()"
      ],
      "metadata": {
        "colab": {
          "base_uri": "https://localhost:8080/"
        },
        "id": "hDk23tpX53rs",
        "outputId": "f497b005-6c6d-4e55-b37c-9af6e0533344"
      },
      "execution_count": 211,
      "outputs": [
        {
          "output_type": "stream",
          "name": "stdout",
          "text": [
            "Model: \"sequential\"\n",
            "_________________________________________________________________\n",
            " Layer (type)                Output Shape              Param #   \n",
            "=================================================================\n",
            " embedding (Embedding)       (None, 17, 128)           714496    \n",
            "                                                                 \n",
            " spatial_dropout1d (Spatial  (None, 17, 128)           0         \n",
            " Dropout1D)                                                      \n",
            "                                                                 \n",
            " simple_rnn (SimpleRNN)      (None, 128)               32896     \n",
            "                                                                 \n",
            " dropout (Dropout)           (None, 128)               0         \n",
            "                                                                 \n",
            " dense (Dense)               (None, 3)                 387       \n",
            "                                                                 \n",
            "=================================================================\n",
            "Total params: 747779 (2.85 MB)\n",
            "Trainable params: 747779 (2.85 MB)\n",
            "Non-trainable params: 0 (0.00 Byte)\n",
            "_________________________________________________________________\n"
          ]
        }
      ]
    },
    {
      "cell_type": "code",
      "source": [
        "# compile model RNN\n",
        "compile_model(model_RNN)"
      ],
      "metadata": {
        "id": "Vvdxga_cDwUs"
      },
      "execution_count": 253,
      "outputs": []
    },
    {
      "cell_type": "code",
      "source": [
        "# Train the RNN model\n",
        "history_RNN = train_model(model_RNN, X_train_pad, y_train, X_val_pad, y_val)"
      ],
      "metadata": {
        "colab": {
          "base_uri": "https://localhost:8080/"
        },
        "id": "UMInTwPaEWZN",
        "outputId": "90edc145-86b0-4d48-ef31-714a87b059ce"
      },
      "execution_count": 256,
      "outputs": [
        {
          "output_type": "stream",
          "name": "stdout",
          "text": [
            "Epoch 1/5\n",
            "30/30 [==============================] - 6s 68ms/step - loss: 0.0146 - accuracy: 0.9981 - val_loss: 0.9418 - val_accuracy: 0.7509\n",
            "Epoch 2/5\n",
            "30/30 [==============================] - 1s 41ms/step - loss: 0.0103 - accuracy: 0.9979 - val_loss: 1.0056 - val_accuracy: 0.7660\n",
            "Epoch 3/5\n",
            "30/30 [==============================] - 1s 41ms/step - loss: 0.0072 - accuracy: 0.9989 - val_loss: 1.0536 - val_accuracy: 0.7509\n",
            "Epoch 4/5\n",
            "30/30 [==============================] - 1s 40ms/step - loss: 0.0047 - accuracy: 0.9992 - val_loss: 0.9757 - val_accuracy: 0.7897\n",
            "Epoch 5/5\n",
            "30/30 [==============================] - 2s 77ms/step - loss: 0.0049 - accuracy: 0.9992 - val_loss: 1.0984 - val_accuracy: 0.7672\n"
          ]
        }
      ]
    },
    {
      "cell_type": "code",
      "source": [
        "display_results(history_RNN, 'RNN')"
      ],
      "metadata": {
        "colab": {
          "base_uri": "https://localhost:8080/"
        },
        "id": "YHuuZd8VErKk",
        "outputId": "ce9a96ec-29b3-41e0-8b8a-fbfc2a1ab110"
      },
      "execution_count": 258,
      "outputs": [
        {
          "output_type": "stream",
          "name": "stdout",
          "text": [
            "RNN Training Accuracy: 0.9991955161094666\n",
            "RNN Validation Accuracy: 0.767208993434906\n"
          ]
        }
      ]
    },
    {
      "cell_type": "code",
      "source": [
        "#save models config\n",
        "import os\n",
        "\n",
        "# directory\n",
        "directory = '/content/drive/MyDrive/NN_models'\n",
        "\n",
        "# else create the directory\n",
        "if not os.path.exists(directory):\n",
        "    os.makedirs(directory)"
      ],
      "metadata": {
        "id": "x1LurB-86roi"
      },
      "execution_count": 259,
      "outputs": []
    },
    {
      "cell_type": "code",
      "source": [
        "# Save the model\n",
        "model_RNN.save('/content/drive/MyDrive/NN_models/model_RNN.keras')"
      ],
      "metadata": {
        "id": "QWOYycF9-rrf"
      },
      "execution_count": 260,
      "outputs": []
    },
    {
      "cell_type": "code",
      "source": [
        "plot_confusion_matrix(model_RNN, X_val_pad, y_val)"
      ],
      "metadata": {
        "colab": {
          "base_uri": "https://localhost:8080/",
          "height": 526
        },
        "id": "G2t0UKYOFZbD",
        "outputId": "e62bbcd2-13c0-40e1-f966-e46a65c08369"
      },
      "execution_count": 301,
      "outputs": [
        {
          "output_type": "stream",
          "name": "stdout",
          "text": [
            "25/25 [==============================] - 0s 5ms/step\n"
          ]
        },
        {
          "output_type": "display_data",
          "data": {
            "text/plain": [
              "<Figure size 640x480 with 1 Axes>"
            ],
            "image/png": "[encoded data removed]"
          },
          "metadata": {}
        },
        {
          "output_type": "execute_result",
          "data": {
            "text/plain": [
              "array([[ 59,  56,  22],\n",
              "       [ 16, 433,  23],\n",
              "       [ 18,  51, 121]])"
            ]
          },
          "metadata": {},
          "execution_count": 301
        }
      ]
    },
    {
      "cell_type": "markdown",
      "source": [
        "### LSTM"
      ],
      "metadata": {
        "id": "13AXunK0MZGt"
      }
    },
    {
      "cell_type": "code",
      "source": [
        "# Create the model\n",
        "model_LSTM = Sequential()\n",
        "\n",
        "model_LSTM.add(Embedding(input_dim=num_words, output_dim=128, input_length=sequence_length))\n",
        "\n",
        "model_LSTM.add(SpatialDropout1D(0.4))\n",
        "\n",
        "model_LSTM.add(LSTM(128))\n",
        "\n",
        "model_LSTM.add(Dropout(0.4))\n",
        "\n",
        "model_LSTM.add(Dense(units=OUTPUT_UNITS, activation=OUTPUT_ACT))\n",
        "\n",
        "model_LSTM.summary()"
      ],
      "metadata": {
        "colab": {
          "base_uri": "https://localhost:8080/"
        },
        "id": "1gS_8Tua-sLD",
        "outputId": "13e54cf5-8a01-4804-dddb-1a49ff7b5bff"
      },
      "execution_count": 244,
      "outputs": [
        {
          "output_type": "stream",
          "name": "stdout",
          "text": [
            "Model: \"sequential_1\"\n",
            "_________________________________________________________________\n",
            " Layer (type)                Output Shape              Param #   \n",
            "=================================================================\n",
            " embedding_1 (Embedding)     (None, 17, 128)           714496    \n",
            "                                                                 \n",
            " spatial_dropout1d_1 (Spati  (None, 17, 128)           0         \n",
            " alDropout1D)                                                    \n",
            "                                                                 \n",
            " lstm (LSTM)                 (None, 128)               131584    \n",
            "                                                                 \n",
            " dropout_1 (Dropout)         (None, 128)               0         \n",
            "                                                                 \n",
            " dense_1 (Dense)             (None, 3)                 387       \n",
            "                                                                 \n",
            "=================================================================\n",
            "Total params: 846467 (3.23 MB)\n",
            "Trainable params: 846467 (3.23 MB)\n",
            "Non-trainable params: 0 (0.00 Byte)\n",
            "_________________________________________________________________\n"
          ]
        }
      ]
    },
    {
      "cell_type": "code",
      "source": [
        "# compile the model\n",
        "compile_model(model_LSTM)"
      ],
      "metadata": {
        "id": "gGyL-oa_DDo9"
      },
      "execution_count": 263,
      "outputs": []
    },
    {
      "cell_type": "code",
      "source": [
        "# Train\n",
        "history_LSTM = train_model(model_LSTM, X_train_pad, y_train, X_val_pad, y_val)"
      ],
      "metadata": {
        "colab": {
          "base_uri": "https://localhost:8080/"
        },
        "id": "IxxgSYVoDFVX",
        "outputId": "054e42ea-d6ba-4890-ac1b-9c79af50ddce"
      },
      "execution_count": 264,
      "outputs": [
        {
          "output_type": "stream",
          "name": "stdout",
          "text": [
            "Epoch 1/5\n",
            "30/30 [==============================] - 57s 104ms/step - loss: 0.0151 - accuracy: 0.9965 - val_loss: 0.6514 - val_accuracy: 0.8861\n",
            "Epoch 2/5\n",
            "30/30 [==============================] - 2s 82ms/step - loss: 0.0111 - accuracy: 0.9976 - val_loss: 0.6720 - val_accuracy: 0.8911\n",
            "Epoch 3/5\n",
            "30/30 [==============================] - 4s 127ms/step - loss: 0.0051 - accuracy: 0.9992 - val_loss: 0.6663 - val_accuracy: 0.8911\n",
            "Epoch 4/5\n",
            "30/30 [==============================] - 3s 102ms/step - loss: 0.0066 - accuracy: 0.9981 - val_loss: 0.6138 - val_accuracy: 0.8786\n",
            "Epoch 5/5\n",
            "30/30 [==============================] - 3s 89ms/step - loss: 0.0075 - accuracy: 0.9987 - val_loss: 0.6897 - val_accuracy: 0.8911\n"
          ]
        }
      ]
    },
    {
      "cell_type": "code",
      "source": [
        "display_results(history_LSTM, 'LSTM')"
      ],
      "metadata": {
        "colab": {
          "base_uri": "https://localhost:8080/"
        },
        "id": "CFATOpNUF0yG",
        "outputId": "b6d785f5-bc9e-49bb-fcef-ce74fc979a65"
      },
      "execution_count": 267,
      "outputs": [
        {
          "output_type": "stream",
          "name": "stdout",
          "text": [
            "LSTM Training Accuracy: 0.9986591339111328\n",
            "LSTM Validation Accuracy: 0.8911138772964478\n"
          ]
        }
      ]
    },
    {
      "cell_type": "code",
      "source": [
        "# Save the model\n",
        "model_RNN.save('/content/drive/MyDrive/NN_models/model_LSTM.keras')"
      ],
      "metadata": {
        "id": "a1cnfnA2DS1y"
      },
      "execution_count": 266,
      "outputs": []
    },
    {
      "cell_type": "code",
      "source": [
        "plot_confusion_matrix(model_LSTM, X_val_pad, y_val)"
      ],
      "metadata": {
        "colab": {
          "base_uri": "https://localhost:8080/",
          "height": 526
        },
        "id": "yGe6fLb8GV52",
        "outputId": "9b302711-22fd-4f4c-b2cf-4cba3cfd3c5e"
      },
      "execution_count": 302,
      "outputs": [
        {
          "output_type": "stream",
          "name": "stdout",
          "text": [
            "25/25 [==============================] - 1s 23ms/step\n"
          ]
        },
        {
          "output_type": "display_data",
          "data": {
            "text/plain": [
              "<Figure size 640x480 with 1 Axes>"
            ],
            "image/png": "[encoded data removed]"
          },
          "metadata": {}
        },
        {
          "output_type": "execute_result",
          "data": {
            "text/plain": [
              "array([[101,  22,  14],\n",
              "       [  9, 451,  12],\n",
              "       [ 11,  19, 160]])"
            ]
          },
          "metadata": {},
          "execution_count": 302
        }
      ]
    },
    {
      "cell_type": "markdown",
      "source": [
        "### LSTM 2"
      ],
      "metadata": {
        "id": "RUOnj7juMbIH"
      }
    },
    {
      "cell_type": "code",
      "source": [
        "#lstm model 2\n",
        "model_LSTM_2 = Sequential()\n",
        "\n",
        "model_LSTM_2.add(Embedding(input_dim=num_words, output_dim=128, input_length=sequence_length))\n",
        "\n",
        "model_LSTM_2.add(SpatialDropout1D(0.4))\n",
        "\n",
        "model_LSTM_2.add(LSTM(64))\n",
        "\n",
        "model_LSTM_2.add(Dropout(0.4))\n",
        "\n",
        "model_LSTM_2.add(Dense(units=OUTPUT_UNITS, activation=OUTPUT_ACT))\n",
        "model_LSTM_2.summary()"
      ],
      "metadata": {
        "colab": {
          "base_uri": "https://localhost:8080/"
        },
        "id": "snZxtUOAKypF",
        "outputId": "fc39fd8c-53da-4a46-c423-de6c50f9063c"
      },
      "execution_count": 281,
      "outputs": [
        {
          "output_type": "stream",
          "name": "stdout",
          "text": [
            "Model: \"sequential_3\"\n",
            "_________________________________________________________________\n",
            " Layer (type)                Output Shape              Param #   \n",
            "=================================================================\n",
            " embedding_3 (Embedding)     (None, 17, 128)           714496    \n",
            "                                                                 \n",
            " spatial_dropout1d_3 (Spati  (None, 17, 128)           0         \n",
            " alDropout1D)                                                    \n",
            "                                                                 \n",
            " lstm_1 (LSTM)               (None, 64)                49408     \n",
            "                                                                 \n",
            " dropout_3 (Dropout)         (None, 64)                0         \n",
            "                                                                 \n",
            " dense_3 (Dense)             (None, 3)                 195       \n",
            "                                                                 \n",
            "=================================================================\n",
            "Total params: 764099 (2.91 MB)\n",
            "Trainable params: 764099 (2.91 MB)\n",
            "Non-trainable params: 0 (0.00 Byte)\n",
            "_________________________________________________________________\n"
          ]
        }
      ]
    },
    {
      "cell_type": "code",
      "source": [
        "compile_model(model_LSTM_2)"
      ],
      "metadata": {
        "id": "R9IS9-TALCXE"
      },
      "execution_count": 282,
      "outputs": []
    },
    {
      "cell_type": "code",
      "source": [
        "# Train\n",
        "history_LSTM_2 = train_model(model_LSTM_2, X_train_pad, y_train, X_val_pad, y_val)"
      ],
      "metadata": {
        "colab": {
          "base_uri": "https://localhost:8080/"
        },
        "id": "JVAdKsKtLGbz",
        "outputId": "dd87f8bc-7099-4eab-9e15-8b22b69ae97e"
      },
      "execution_count": 283,
      "outputs": [
        {
          "output_type": "stream",
          "name": "stdout",
          "text": [
            "Epoch 1/5\n",
            "30/30 [==============================] - 10s 138ms/step - loss: 0.9592 - accuracy: 0.5473 - val_loss: 0.8589 - val_accuracy: 0.5995\n",
            "Epoch 2/5\n",
            "30/30 [==============================] - 3s 107ms/step - loss: 0.8413 - accuracy: 0.6173 - val_loss: 0.7883 - val_accuracy: 0.6658\n",
            "Epoch 3/5\n",
            "30/30 [==============================] - 4s 122ms/step - loss: 0.7073 - accuracy: 0.7155 - val_loss: 0.6713 - val_accuracy: 0.7084\n",
            "Epoch 4/5\n",
            "30/30 [==============================] - 3s 103ms/step - loss: 0.4617 - accuracy: 0.8091 - val_loss: 0.5356 - val_accuracy: 0.8010\n",
            "Epoch 5/5\n",
            "30/30 [==============================] - 2s 74ms/step - loss: 0.2563 - accuracy: 0.9193 - val_loss: 0.4857 - val_accuracy: 0.8348\n"
          ]
        }
      ]
    },
    {
      "cell_type": "code",
      "source": [
        "display_results(history_LSTM_2, 'LSTM_2')"
      ],
      "metadata": {
        "colab": {
          "base_uri": "https://localhost:8080/"
        },
        "id": "FeWNJ9xdLKKP",
        "outputId": "47eb7257-2791-4d86-b993-1c11f8dfd418"
      },
      "execution_count": 284,
      "outputs": [
        {
          "output_type": "stream",
          "name": "stdout",
          "text": [
            "LSTM_2 Training Accuracy: 0.9192813038825989\n",
            "LSTM_2 Validation Accuracy: 0.8347935080528259\n"
          ]
        }
      ]
    },
    {
      "cell_type": "code",
      "source": [
        "# Save the model\n",
        "model_LSTM_2.save('/content/drive/MyDrive/NN_models/model_LSTM_2.keras')"
      ],
      "metadata": {
        "id": "VjltiZeoLOiG"
      },
      "execution_count": 303,
      "outputs": []
    },
    {
      "cell_type": "code",
      "source": [
        "plot_confusion_matrix(model_LSTM_2, X_val_pad, y_val)"
      ],
      "metadata": {
        "colab": {
          "base_uri": "https://localhost:8080/",
          "height": 526
        },
        "id": "rH3P6oIELTs3",
        "outputId": "1c1c1c6f-0a84-4458-986c-19d87170d186"
      },
      "execution_count": 288,
      "outputs": [
        {
          "output_type": "stream",
          "name": "stdout",
          "text": [
            "25/25 [==============================] - 1s 10ms/step\n"
          ]
        },
        {
          "output_type": "display_data",
          "data": {
            "text/plain": [
              "<Figure size 640x480 with 1 Axes>"
            ],
            "image/png": "[encoded data removed]"
          },
          "metadata": {}
        },
        {
          "output_type": "execute_result",
          "data": {
            "text/plain": [
              "array([[ 67,  30,  40],\n",
              "       [  8, 444,  20],\n",
              "       [  7,  27, 156]])"
            ]
          },
          "metadata": {},
          "execution_count": 288
        }
      ]
    },
    {
      "cell_type": "markdown",
      "source": [
        "### GRU"
      ],
      "metadata": {
        "id": "Q7pTw-WvMcys"
      }
    },
    {
      "cell_type": "code",
      "source": [
        "# Create the model\n",
        "model_GRU = Sequential()\n",
        "\n",
        "model_GRU.add(Embedding(input_dim=num_words, output_dim=128, input_length=sequence_length))\n",
        "\n",
        "model_GRU.add(SpatialDropout1D(0.5))\n",
        "\n",
        "model_GRU.add(GRU(128, reset_after=False))\n",
        "\n",
        "model_GRU.add(Dropout(0.5))\n",
        "model_GRU.add(Dense(units=OUTPUT_UNITS, activation=OUTPUT_ACT))\n",
        "\n",
        "model_GRU.summary()"
      ],
      "metadata": {
        "colab": {
          "base_uri": "https://localhost:8080/"
        },
        "id": "nieJjJPrDaHF",
        "outputId": "a9aa07cf-e2d1-496a-c4d8-bf3440d34c96"
      },
      "execution_count": 269,
      "outputs": [
        {
          "output_type": "stream",
          "name": "stdout",
          "text": [
            "Model: \"sequential_2\"\n",
            "_________________________________________________________________\n",
            " Layer (type)                Output Shape              Param #   \n",
            "=================================================================\n",
            " embedding_2 (Embedding)     (None, 17, 128)           714496    \n",
            "                                                                 \n",
            " spatial_dropout1d_2 (Spati  (None, 17, 128)           0         \n",
            " alDropout1D)                                                    \n",
            "                                                                 \n",
            " gru (GRU)                   (None, 128)               98688     \n",
            "                                                                 \n",
            " dropout_2 (Dropout)         (None, 128)               0         \n",
            "                                                                 \n",
            " dense_2 (Dense)             (None, 3)                 387       \n",
            "                                                                 \n",
            "=================================================================\n",
            "Total params: 813571 (3.10 MB)\n",
            "Trainable params: 813571 (3.10 MB)\n",
            "Non-trainable params: 0 (0.00 Byte)\n",
            "_________________________________________________________________\n"
          ]
        }
      ]
    },
    {
      "cell_type": "code",
      "source": [
        "# compile the model\n",
        "compile_model(model_GRU)"
      ],
      "metadata": {
        "id": "XsnBHZPyIF9G"
      },
      "execution_count": 270,
      "outputs": []
    },
    {
      "cell_type": "code",
      "source": [
        "# Train\n",
        "history_GRU = train_model(model_GRU, X_train_pad, y_train, X_val_pad, y_val)"
      ],
      "metadata": {
        "colab": {
          "base_uri": "https://localhost:8080/"
        },
        "id": "7nPj9vM4IJaA",
        "outputId": "b1aa23d0-29e5-4e0b-ae55-2112abb613ca"
      },
      "execution_count": 273,
      "outputs": [
        {
          "output_type": "stream",
          "name": "stdout",
          "text": [
            "Epoch 1/5\n",
            "30/30 [==============================] - 5s 158ms/step - loss: 0.1170 - accuracy: 0.9654 - val_loss: 0.4299 - val_accuracy: 0.8861\n",
            "Epoch 2/5\n",
            "30/30 [==============================] - 6s 193ms/step - loss: 0.0664 - accuracy: 0.9820 - val_loss: 0.4570 - val_accuracy: 0.8849\n",
            "Epoch 3/5\n",
            "30/30 [==============================] - 3s 110ms/step - loss: 0.0399 - accuracy: 0.9893 - val_loss: 0.4653 - val_accuracy: 0.8899\n",
            "Epoch 4/5\n",
            "30/30 [==============================] - 3s 92ms/step - loss: 0.0306 - accuracy: 0.9928 - val_loss: 0.4413 - val_accuracy: 0.8999\n",
            "Epoch 5/5\n",
            "30/30 [==============================] - 3s 91ms/step - loss: 0.0271 - accuracy: 0.9946 - val_loss: 0.4373 - val_accuracy: 0.8899\n"
          ]
        }
      ]
    },
    {
      "cell_type": "code",
      "source": [
        "display_results(history_GRU, 'GRU')"
      ],
      "metadata": {
        "colab": {
          "base_uri": "https://localhost:8080/"
        },
        "id": "MGAZVI5RILZQ",
        "outputId": "66a9f46c-9fdf-4b51-e140-7c7e954f67ba"
      },
      "execution_count": 276,
      "outputs": [
        {
          "output_type": "stream",
          "name": "stdout",
          "text": [
            "GRU Training Accuracy: 0.9946366548538208\n",
            "GRU Validation Accuracy: 0.8898622989654541\n"
          ]
        }
      ]
    },
    {
      "cell_type": "code",
      "source": [
        "# Save the model\n",
        "model_RNN.save('/content/drive/MyDrive/NN_models/model_GRU.keras')"
      ],
      "metadata": {
        "id": "sTssa-omINyi"
      },
      "execution_count": 277,
      "outputs": []
    },
    {
      "cell_type": "code",
      "source": [
        "plot_confusion_matrix(model_GRU, X_val_pad, y_val)"
      ],
      "metadata": {
        "colab": {
          "base_uri": "https://localhost:8080/",
          "height": 526
        },
        "id": "cM2TatJ_IQz-",
        "outputId": "b28f89e7-8a20-46a6-e271-ff988c3cb4e4"
      },
      "execution_count": 304,
      "outputs": [
        {
          "output_type": "stream",
          "name": "stdout",
          "text": [
            "25/25 [==============================] - 0s 9ms/step\n"
          ]
        },
        {
          "output_type": "display_data",
          "data": {
            "text/plain": [
              "<Figure size 640x480 with 1 Axes>"
            ],
            "image/png": "[encoded data removed]"
          },
          "metadata": {}
        },
        {
          "output_type": "execute_result",
          "data": {
            "text/plain": [
              "array([[112,   8,  17],\n",
              "       [ 17, 431,  24],\n",
              "       [  8,  14, 168]])"
            ]
          },
          "metadata": {},
          "execution_count": 304
        }
      ]
    },
    {
      "cell_type": "markdown",
      "source": [
        "### table with all models result and comments"
      ],
      "metadata": {
        "id": "QZCvxJ4BQYih"
      }
    },
    {
      "cell_type": "code",
      "source": [
        "display_results(history_RNN, 'RNN')\n",
        "print()\n",
        "display_results(history_LSTM, 'LSTM')\n",
        "print()\n",
        "display_results(history_LSTM_2, 'LSTM_2')\n",
        "print()\n",
        "display_results(history_GRU, 'GRU')"
      ],
      "metadata": {
        "colab": {
          "base_uri": "https://localhost:8080/"
        },
        "id": "lgcvqVk6KaG8",
        "outputId": "12a2c6fb-69a9-4b22-de42-9764a05002df"
      },
      "execution_count": 289,
      "outputs": [
        {
          "output_type": "stream",
          "name": "stdout",
          "text": [
            "RNN Training Accuracy: 0.9991955161094666\n",
            "RNN Validation Accuracy: 0.767208993434906\n",
            "\n",
            "LSTM Training Accuracy: 0.9345669150352478\n",
            "LSTM Validation Accuracy: 0.8798497915267944\n",
            "\n",
            "LSTM_2 Training Accuracy: 0.9192813038825989\n",
            "LSTM_2 Validation Accuracy: 0.8347935080528259\n",
            "\n",
            "GRU Training Accuracy: 0.9946366548538208\n",
            "GRU Validation Accuracy: 0.8898622989654541\n"
          ]
        }
      ]
    },
    {
      "cell_type": "markdown",
      "source": [
        "\n",
        "**Simple RNN Model:**\n",
        "- Simple architecture with a single layer of SimpleRNN.\n",
        "- High training accuracy (close to 100%) but lower validation accuracy.\n",
        "- It looks like an  overfitting by the  gap between training and validation accuracy.\n",
        "\n",
        "**LSTM Model:**\n",
        "- More complex architecture with LSTM layer for capturing long-term dependencies.\n",
        "- Good training and validation accuracy.\n",
        "- Best model\n",
        "\n",
        "**LSTM_2 Model:**\n",
        "- Similar to the LSTM model but with a smaller LSTM layer.\n",
        "- Reasonable accuracy but lower than the first LSTM model.\n",
        "\n",
        "**GRU Model:**\n",
        "- Utilizes GRU (Gated Recurrent Unit) layer, a variation of LSTM with fewer parameters.\n",
        "- High training and high validation accuracy.\n",
        "- Training was fast because of fewer parameters\n",
        "\n",
        "**Other**\n",
        "- All models include an embedding layer, it means, convert words to numerical vectors.\n",
        "- SpatialDropout1D is for regularization, dropping entire 1D feature maps.\n",
        "- Dropout layers are used for regularization to prevent overfitting.\n",
        "- Dense layer at the end with softmax activation for multi-class classification.\n",
        "\n",
        "**Training Results:**\n",
        "- RNN achieved very high training accuracy but I beliee it's an overfitting due to low validation.\n",
        "- LSTM performed well on both training and validation sets.\n",
        "- LSTM_2 demonstrated reasonable performance with slightly reduced complexity.\n",
        "- GRU achieved high accuracy and faster training.\n",
        "\n",
        "**LSTM is the best model**\n"
      ],
      "metadata": {
        "id": "oTfe_7dlLxDV"
      }
    },
    {
      "cell_type": "markdown",
      "source": [
        "### best model traning with test"
      ],
      "metadata": {
        "id": "3K-i3HRuQcos"
      }
    },
    {
      "cell_type": "code",
      "source": [
        "model_best = model_LSTM"
      ],
      "metadata": {
        "id": "QMu2EpHULseC"
      },
      "execution_count": 290,
      "outputs": []
    },
    {
      "cell_type": "code",
      "source": [
        "# calculate the test accuracy for LSTM best model\n",
        "test_acc = model_best.evaluate(X_test_pad, y_test)[1]\n",
        "# print the test accuracy\n",
        "print(f'Testing Accuracy: {test_acc:.4f}')"
      ],
      "metadata": {
        "colab": {
          "base_uri": "https://localhost:8080/"
        },
        "id": "Q1-vUCbLOeT5",
        "outputId": "8f8a9e8e-0c8a-4bea-b1eb-6b530ac18b5e"
      },
      "execution_count": 291,
      "outputs": [
        {
          "output_type": "stream",
          "name": "stdout",
          "text": [
            "25/25 [==============================] - 1s 24ms/step - loss: 0.9296 - accuracy: 0.8500\n",
            "Testing Accuracy: 0.8500\n"
          ]
        }
      ]
    },
    {
      "cell_type": "code",
      "source": [
        "labels = label_encoder.classes_\n",
        "\n",
        "# make predictions\n",
        "y_test_pred = model_best.predict(X_test_pad)\n",
        "\n",
        "# get the labels\n",
        "y_test_pred_labels = np.argmax(y_test_pred, axis=1)\n",
        "\n",
        "# create the confusion matrix\n",
        "cm = confusion_matrix(y_test, y_test_pred_labels)\n",
        "\n",
        "plt.title(f\"Confusion Matrix  Best Model\")\n",
        "sns.heatmap(cm, annot=True, fmt='g', cmap='Greens', cbar=False,\n",
        "          xticklabels=['Negative(Pred)', 'Neutral(Pred)', 'Positive(Pred)'],\n",
        "            yticklabels=['Negative(atual) ', 'Neutral(atual)', 'Positive(atual)'])\n",
        "plt.show()\n",
        "\n"
      ],
      "metadata": {
        "colab": {
          "base_uri": "https://localhost:8080/",
          "height": 474
        },
        "id": "_wUooG-VPrhs",
        "outputId": "3bca64d5-006b-4b29-e096-f1735340c83f"
      },
      "execution_count": 305,
      "outputs": [
        {
          "output_type": "stream",
          "name": "stdout",
          "text": [
            "25/25 [==============================] - 1s 39ms/step\n"
          ]
        },
        {
          "output_type": "display_data",
          "data": {
            "text/plain": [
              "<Figure size 640x480 with 1 Axes>"
            ],
            "image/png": "[encoded data removed]"
          },
          "metadata": {}
        }
      ]
    },
    {
      "cell_type": "code",
      "source": [
        "# other metrics\n",
        "print(classification_report(y_test, y_test_pred_labels, target_names=labels))"
      ],
      "metadata": {
        "colab": {
          "base_uri": "https://localhost:8080/"
        },
        "id": "sCYAkbPXSxR9",
        "outputId": "acf0fd6f-4d37-4a2f-f237-5728252e17e7"
      },
      "execution_count": 307,
      "outputs": [
        {
          "output_type": "stream",
          "name": "stdout",
          "text": [
            "              precision    recall  f1-score   support\n",
            "\n",
            "    negative       0.79      0.67      0.72       155\n",
            "     neutral       0.87      0.93      0.90       423\n",
            "    positive       0.85      0.82      0.83       222\n",
            "\n",
            "    accuracy                           0.85       800\n",
            "   macro avg       0.84      0.81      0.82       800\n",
            "weighted avg       0.85      0.85      0.85       800\n",
            "\n"
          ]
        }
      ]
    },
    {
      "cell_type": "code",
      "source": [
        "from sklearn.metrics import balanced_accuracy_score\n",
        "\n",
        "print(f'Balanced Accuracy: {balanced_accuracy_score(y_test, y_test_pred_labels):.4f}')"
      ],
      "metadata": {
        "colab": {
          "base_uri": "https://localhost:8080/"
        },
        "id": "h3HgUIExTBG1",
        "outputId": "dca52ae5-a1b8-4d88-d01b-3b5d13da19be"
      },
      "execution_count": 309,
      "outputs": [
        {
          "output_type": "stream",
          "name": "stdout",
          "text": [
            "Balanced Accuracy: 0.8067\n"
          ]
        }
      ]
    },
    {
      "cell_type": "markdown",
      "source": [
        "### Last comments"
      ],
      "metadata": {
        "id": "L6fOaHHhaMG5"
      }
    },
    {
      "cell_type": "markdown",
      "source": [
        "**Precision:** number of true positives divided by the sum of true positives and false positives.\n",
        "\n",
        "- Precision for 'negative': 79% of predicted negative instances are correct\n",
        "- Precision for 'neutral': 87% of predicted neutral instances are correct\n",
        "- Precision for 'positive': 85% of predicted positive instances are correct\n",
        "\n",
        "**Recall:** true positives divided by the sum of true positives and false negatives.\n",
        "\n",
        "- Recall for 'negative':67% of actual negative instances are correct\n",
        "- Recall for 'neutral': 93% of actual neutral instances are correct\n",
        "- Recall for 'positive':82% of actual positive instances are correct\n",
        "\n",
        "**F1-score:**  mean of precision and recall.\n",
        "\n",
        "- F1-score for 'negative': 0.72\n",
        "- F1-score for 'neutral': 0.90\n",
        "- F1-score for 'positive': 0.83\n",
        "\n",
        "**Support:** number of  instances for each class in the test set, we are using\n"
      ],
      "metadata": {
        "id": "2DOz86fMTP1n"
      }
    },
    {
      "cell_type": "markdown",
      "source": [
        "\n",
        "For **'negative'** sentiment, the precision is 0.79, recall is 0.67, and F1-score is 0.72. The model can identify the negative sentiment but some instances are not classified correctly.\n",
        "\n",
        "For **'neutral'** sentiment, the model have a good precison well with a precision of 0.87, recall of 0.93, and F1-score of 0.90. The model works with neutral sentiment.\n",
        "\n",
        "For **'positive'** sentiment, the precision is 0.85, recall is 0.82, and F1-score is 0.83. It's a good performance.\n",
        "\n"
      ],
      "metadata": {
        "id": "DsO4nk8FUXzF"
      }
    },
    {
      "cell_type": "markdown",
      "source": [
        "### Tweets prediction with test set"
      ],
      "metadata": {
        "id": "za8UzpgLaP8P"
      }
    },
    {
      "cell_type": "code",
      "source": [
        "sample_size = 20\n",
        "\n",
        "# random indices\n",
        "random_indices = np.random.choice(X_test.shape[0], sample_size, replace=False)\n",
        "\n",
        "# print original tweets, and the actual and predicted labels\n",
        "for index in random_indices:\n",
        "    tweet_text = df_combined.iloc[X_test.index[index]]['text']\n",
        "    true_label = labels[y_test[index][0]]\n",
        "    predicted_label = labels[y_test_pred_labels[index]]\n",
        "    candidate = df_combined.iloc[X_test.index[index]]['candidate']\n",
        "\n",
        "    print(\"Tweet:\", tweet_text)\n",
        "    print(\"True Label:\", true_label)\n",
        "    print(\"Predicted Label:\", predicted_label)\n",
        "    print(\"Candidate:\", candidate)\n",
        "\n",
        "    print(\"--------------------\")\n"
      ],
      "metadata": {
        "colab": {
          "base_uri": "https://localhost:8080/"
        },
        "id": "sCHCZBm5kEvx",
        "outputId": "ec0dfce4-a948-4c9e-e653-c618c9310b39"
      },
      "execution_count": 456,
      "outputs": [
        {
          "output_type": "stream",
          "name": "stdout",
          "text": [
            "Tweet:  @FoxNews Trump, you totally have forgotten how you got the position you hold now. One thing you sh… https://t.co/aDTFSHxB4n\n",
            "True Label: neutral\n",
            "Predicted Label: negative\n",
            "Candidate: trump\n",
            "--------------------\n",
            "Tweet:  Thank you for all you've done to protect Americans from these evil forces right now. It's a spirit… https://t.co/a5IRVSMuRE\n",
            "True Label: negative\n",
            "Predicted Label: positive\n",
            "Candidate: trump\n",
            "--------------------\n",
            "Tweet: @realDonaldTrump @FoxNews @DHSgov You’re a funny guy.\n",
            "True Label: positive\n",
            "Predicted Label: positive\n",
            "Candidate: trump\n",
            "--------------------\n",
            "Tweet:  Yet you still haven't done anything\n",
            "True Label: neutral\n",
            "Predicted Label: neutral\n",
            "Candidate: trump\n",
            "--------------------\n",
            "Tweet:  Wow- this makes me sad. Sincerely, a white middle class suburbanite.\n",
            "True Label: negative\n",
            "Predicted Label: negative\n",
            "Candidate: trump\n",
            "--------------------\n",
            "Tweet: @JoeBiden https://t.co/a46erwUEcN\n",
            "True Label: neutral\n",
            "Predicted Label: neutral\n",
            "Candidate: biden\n",
            "--------------------\n",
            "Tweet: @JoeBiden Leadership isn't something you bring to the table. You are the real disgrace.\n",
            "True Label: positive\n",
            "Predicted Label: positive\n",
            "Candidate: biden\n",
            "--------------------\n",
            "Tweet:  so show us proof that they will quadruple ... or are you just blowing steam out your ass again...… https://t.co/D9Uq0HQ0RD\n",
            "True Label: neutral\n",
            "Predicted Label: neutral\n",
            "Candidate: trump\n",
            "--------------------\n",
            "Tweet: @realDonaldTrump U.S. driver's licenses are sent in the mail!\n",
            "True Label: neutral\n",
            "Predicted Label: neutral\n",
            "Candidate: trump\n",
            "--------------------\n",
            "Tweet: @realDonaldTrump No. We should not delay the election, and you have absolutely no authority to do so. We see what y… https://t.co/rBC1BFZv1z\n",
            "True Label: positive\n",
            "Predicted Label: positive\n",
            "Candidate: trump\n",
            "--------------------\n",
            "Tweet: @realDonaldTrump NO. You've literally set it up for failure by purposefully putting in a Post Master General who is… https://t.co/K4htCqU0GF\n",
            "True Label: negative\n",
            "Predicted Label: negative\n",
            "Candidate: trump\n",
            "--------------------\n",
            "Tweet:  ???????Every one is wrong but you .. cry baby\n",
            "True Label: negative\n",
            "Predicted Label: negative\n",
            "Candidate: trump\n",
            "--------------------\n",
            "Tweet: @JoeBiden On November 3rd, Democrats are going to set post offices on fire. Democrats know Joe will lose the election. #Trump2020Landslide\n",
            "True Label: neutral\n",
            "Predicted Label: neutral\n",
            "Candidate: biden\n",
            "--------------------\n",
            "Tweet: @JoeBiden Thank you for the hope your leadership provides in the time of crisis\n",
            "True Label: neutral\n",
            "Predicted Label: neutral\n",
            "Candidate: biden\n",
            "--------------------\n",
            "Tweet: @JoeBiden @BarackObama You two ass hates shit down all testing of H1N1. You’ve shown how you would handle a pandemi… https://t.co/t0kPs1o09d\n",
            "True Label: negative\n",
            "Predicted Label: negative\n",
            "Candidate: biden\n",
            "--------------------\n",
            "Tweet: @JoeBiden Illinois residents are receiving multiple ballots.\n",
            "True Label: neutral\n",
            "Predicted Label: neutral\n",
            "Candidate: biden\n",
            "--------------------\n",
            "Tweet: @JoeBiden I’m all for joe- knock it off with these dumb optimistic tweets.\n",
            "True Label: negative\n",
            "Predicted Label: neutral\n",
            "Candidate: biden\n",
            "--------------------\n",
            "Tweet: @realDonaldTrump Absolutely not! I'd risk the contraction of COVID-19 to exercise my constitutional right to vote t… https://t.co/Iy1n9miSak\n",
            "True Label: positive\n",
            "Predicted Label: positive\n",
            "Candidate: trump\n",
            "--------------------\n",
            "Tweet: @JoeBiden @BarackObama Staged.\n",
            "True Label: neutral\n",
            "Predicted Label: neutral\n",
            "Candidate: biden\n",
            "--------------------\n",
            "Tweet: @JoeBiden You’re a career politician... nearly 50 years... and you have nothing to show.  Why would anyone believe… https://t.co/GfEEdPTaF3\n",
            "True Label: positive\n",
            "Predicted Label: neutral\n",
            "Candidate: biden\n",
            "--------------------\n"
          ]
        }
      ]
    },
    {
      "cell_type": "code",
      "source": [
        "# get numbers for each candidate\n",
        "candidate_label_summary = {}\n",
        "\n",
        "for index in range(X_test.shape[0]):\n",
        "    predicted_label = labels[y_test_pred_labels[index]]\n",
        "    candidate = df_combined.iloc[X_test.index[index]]['candidate']\n",
        "\n",
        "    if not candidate_label_summary.get(candidate):\n",
        "        candidate_label_summary[candidate] = {predicted_label: 1}\n",
        "    else:\n",
        "        candidate_label_summary[candidate][predicted_label] = candidate_label_summary[candidate].get(predicted_label, 0) + 1\n",
        "\n",
        "\n",
        "print(candidate_label_summary)\n"
      ],
      "metadata": {
        "colab": {
          "base_uri": "https://localhost:8080/"
        },
        "id": "X6No8Az0jG4C",
        "outputId": "48d8f766-d610-4971-8722-2937dfc0f0f9"
      },
      "execution_count": 454,
      "outputs": [
        {
          "output_type": "stream",
          "name": "stdout",
          "text": [
            "{'biden': {'neutral': 238, 'positive': 108, 'negative': 44}, 'trump': {'negative': 88, 'positive': 105, 'neutral': 217}}\n"
          ]
        }
      ]
    },
    {
      "cell_type": "code",
      "source": [
        "results = {'biden': {'neutral': 238, 'positive': 108, 'negative': 44},\n",
        "           'trump': {'neutral': 217,'positive': 105, 'negative': 88, }}\n",
        "\n",
        "colors = {'positive': 'green', 'negative': 'red', 'neutral': 'grey'}\n",
        "\n",
        "def add_labels(ax):\n",
        "    for p in ax.patches:\n",
        "        ax.annotate(str(p.get_height()), (p.get_x() + p.get_width() / 2., p.get_height()),\n",
        "                    ha='center', va='center', xytext=(0, 10), textcoords='offset points')\n",
        "\n",
        "fig, axs = plt.subplots(1, 2, figsize=(15, 6))\n",
        "\n",
        "bars_biden = axs[0].bar(results['biden'].keys(), results['biden'].values(), color=[colors[sentiment] for sentiment in results['biden'].keys()])\n",
        "axs[0].set_ylabel('Count')\n",
        "axs[0].set_title('Count Sentiment Biden')\n",
        "add_labels(axs[0])\n",
        "\n",
        "bars_trump = axs[1].bar(results['trump'].keys(), results['trump'].values(), color=[colors[sentiment] for sentiment in results['trump'].keys()])\n",
        "axs[1].set_ylabel('Count')\n",
        "axs[1].set_title('Count SentimenTrump')\n",
        "add_labels(axs[1])\n",
        "\n",
        "plt.show()\n",
        "\n"
      ],
      "metadata": {
        "colab": {
          "base_uri": "https://localhost:8080/",
          "height": 549
        },
        "id": "3nkSiTqWs_Ma",
        "outputId": "4043068e-2162-497d-86f5-6ebcfadaa3c2"
      },
      "execution_count": 470,
      "outputs": [
        {
          "output_type": "display_data",
          "data": {
            "text/plain": [
              "<Figure size 1500x600 with 2 Axes>"
            ],
            "image/png": "[encoded data removed]"
          },
          "metadata": {}
        }
      ]
    },
    {
      "cell_type": "code",
      "source": [
        "# add +1 for positive tweets and -1 for negative\n",
        "\n",
        "points_trump = results['trump']['positive'] - results['trump']['negative']\n",
        "points_biden = results['biden']['positive'] - results['biden']['negative']\n",
        "\n",
        "# Exibe os resultados\n",
        "print(f\"Points Trump: {points_trump}\")\n",
        "print(f\"Points Biden: {points_biden}\")\n"
      ],
      "metadata": {
        "colab": {
          "base_uri": "https://localhost:8080/"
        },
        "id": "GC2BoJ5yu1YK",
        "outputId": "356ee0d8-2114-4787-a2ae-a9d17a72edce"
      },
      "execution_count": 472,
      "outputs": [
        {
          "output_type": "stream",
          "name": "stdout",
          "text": [
            "Points Trump: 17\n",
            "Points Biden: 64\n"
          ]
        }
      ]
    },
    {
      "cell_type": "markdown",
      "source": [
        "Based on this brief analysis we can see that the possible president would be Biden.\n",
        "Coincidentally, the president-elect was President Biden, but to be more certain that the tweets are related to the votes, we would need more analyses, such as the location of the tweet to know if the user is a voter in the USA, the number of interactions of the tweet to understand if other users support that opinion among others"
      ],
      "metadata": {
        "id": "28QdqcbTvSV9"
      }
    }
  ]
}